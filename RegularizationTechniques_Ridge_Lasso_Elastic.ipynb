{
 "cells": [
  {
   "cell_type": "code",
   "execution_count": 248,
   "id": "8802690e",
   "metadata": {},
   "outputs": [],
   "source": [
    "import pandas as pd\n",
    "import numpy as np\n",
    "import datetime as dt\n",
    "\n",
    "import seaborn as sns\n",
    "import matplotlib.pyplot as plt\n",
    "from sklearn.linear_model import LinearRegression,Ridge,Lasso,ElasticNet\n",
    "from sklearn.preprocessing import PolynomialFeatures\n",
    "from sklearn.metrics import mean_absolute_error,mean_absolute_percentage_error,mean_squared_error,r2_score\n",
    "import pandasql as sql\n",
    "from warnings import filterwarnings"
   ]
  },
  {
   "cell_type": "code",
   "execution_count": 3,
   "id": "bc4c0395",
   "metadata": {},
   "outputs": [],
   "source": [
    "data_train = pd.read_csv('Flight_Train.csv')"
   ]
  },
  {
   "cell_type": "code",
   "execution_count": 4,
   "id": "1aeca19d",
   "metadata": {},
   "outputs": [],
   "source": [
    "data_train['source'] = 'Train'"
   ]
  },
  {
   "cell_type": "code",
   "execution_count": 5,
   "id": "c0cdac14",
   "metadata": {},
   "outputs": [
    {
     "data": {
      "text/plain": [
       "220"
      ]
     },
     "execution_count": 5,
     "metadata": {},
     "output_type": "execute_result"
    }
   ],
   "source": [
    "data_train.duplicated().sum()"
   ]
  },
  {
   "cell_type": "code",
   "execution_count": 6,
   "id": "d0df070c",
   "metadata": {},
   "outputs": [],
   "source": [
    "data_train.drop_duplicates(inplace = True)"
   ]
  },
  {
   "cell_type": "code",
   "execution_count": null,
   "id": "9522002c",
   "metadata": {},
   "outputs": [],
   "source": [
    "data_train.head(2)"
   ]
  },
  {
   "cell_type": "code",
   "execution_count": 7,
   "id": "a73f4e55",
   "metadata": {},
   "outputs": [],
   "source": [
    "data_test = pd.read_csv('Flight_Test.csv')"
   ]
  },
  {
   "cell_type": "code",
   "execution_count": 8,
   "id": "877a7110",
   "metadata": {},
   "outputs": [],
   "source": [
    "data_test['source'] = 'Test'"
   ]
  },
  {
   "cell_type": "code",
   "execution_count": 9,
   "id": "4ecbd070",
   "metadata": {},
   "outputs": [
    {
     "data": {
      "text/plain": [
       "((10463, 12), (2671, 11))"
      ]
     },
     "execution_count": 9,
     "metadata": {},
     "output_type": "execute_result"
    }
   ],
   "source": [
    "data_train.shape,data_test.shape"
   ]
  },
  {
   "cell_type": "code",
   "execution_count": null,
   "id": "3913189c",
   "metadata": {},
   "outputs": [],
   "source": [
    "data_test.head(2)"
   ]
  },
  {
   "cell_type": "code",
   "execution_count": 10,
   "id": "8ca69012",
   "metadata": {},
   "outputs": [
    {
     "name": "stderr",
     "output_type": "stream",
     "text": [
      "C:\\Users\\janani.jayavel\\AppData\\Local\\Temp\\ipykernel_20856\\3983613435.py:1: FutureWarning: The frame.append method is deprecated and will be removed from pandas in a future version. Use pandas.concat instead.\n",
      "  data = data_train.append(data_test,ignore_index=True)\n"
     ]
    }
   ],
   "source": [
    "data = data_train.append(data_test,ignore_index=True)"
   ]
  },
  {
   "cell_type": "code",
   "execution_count": 11,
   "id": "7a31eee9",
   "metadata": {},
   "outputs": [
    {
     "data": {
      "text/plain": [
       "(13134, 12)"
      ]
     },
     "execution_count": 11,
     "metadata": {},
     "output_type": "execute_result"
    }
   ],
   "source": [
    "data.shape"
   ]
  },
  {
   "cell_type": "code",
   "execution_count": null,
   "id": "8c24a4fe",
   "metadata": {},
   "outputs": [],
   "source": [
    "data.head(2)"
   ]
  },
  {
   "cell_type": "code",
   "execution_count": 12,
   "id": "4bf8147b",
   "metadata": {},
   "outputs": [
    {
     "data": {
      "text/plain": [
       "array(['Train', 'Test'], dtype=object)"
      ]
     },
     "execution_count": 12,
     "metadata": {},
     "output_type": "execute_result"
    }
   ],
   "source": [
    "data['source'].unique()"
   ]
  },
  {
   "cell_type": "code",
   "execution_count": 13,
   "id": "b5655cee",
   "metadata": {},
   "outputs": [
    {
     "data": {
      "text/plain": [
       "Airline               0\n",
       "Date_of_Journey       0\n",
       "Source                0\n",
       "Destination           0\n",
       "Route                 1\n",
       "Dep_Time              0\n",
       "Arrival_Time          0\n",
       "Duration              0\n",
       "Total_Stops           1\n",
       "Additional_Info       0\n",
       "Price              2671\n",
       "source                0\n",
       "dtype: int64"
      ]
     },
     "execution_count": 13,
     "metadata": {},
     "output_type": "execute_result"
    }
   ],
   "source": [
    "data.isna().sum()"
   ]
  },
  {
   "cell_type": "code",
   "execution_count": 14,
   "id": "7dfa211d",
   "metadata": {},
   "outputs": [],
   "source": [
    "data.dropna(subset = ['Route','Total_Stops'],inplace = True)"
   ]
  },
  {
   "cell_type": "code",
   "execution_count": 15,
   "id": "b357298f",
   "metadata": {},
   "outputs": [],
   "source": [
    "data['Destination'].replace({'New Delhi':'Delhi'},inplace = True)"
   ]
  },
  {
   "cell_type": "code",
   "execution_count": 16,
   "id": "9549d47f",
   "metadata": {},
   "outputs": [
    {
     "data": {
      "text/plain": [
       "Airline               0\n",
       "Date_of_Journey       0\n",
       "Source                0\n",
       "Destination           0\n",
       "Route                 0\n",
       "Dep_Time              0\n",
       "Arrival_Time          0\n",
       "Duration              0\n",
       "Total_Stops           0\n",
       "Additional_Info       0\n",
       "Price              2671\n",
       "source                0\n",
       "dtype: int64"
      ]
     },
     "execution_count": 16,
     "metadata": {},
     "output_type": "execute_result"
    }
   ],
   "source": [
    "data.isna().sum()"
   ]
  },
  {
   "cell_type": "code",
   "execution_count": 17,
   "id": "bccd854b",
   "metadata": {},
   "outputs": [
    {
     "data": {
      "text/plain": [
       "((10463, 12), (2671, 11), (13133, 12))"
      ]
     },
     "execution_count": 17,
     "metadata": {},
     "output_type": "execute_result"
    }
   ],
   "source": [
    "data_train.shape,data_test.shape,data.shape"
   ]
  },
  {
   "cell_type": "code",
   "execution_count": 18,
   "id": "132ea120",
   "metadata": {},
   "outputs": [
    {
     "data": {
      "text/plain": [
       "array(['Banglore', 'Kolkata', 'Delhi', 'Chennai', 'Mumbai'], dtype=object)"
      ]
     },
     "execution_count": 18,
     "metadata": {},
     "output_type": "execute_result"
    }
   ],
   "source": [
    "data['Source'].unique()"
   ]
  },
  {
   "cell_type": "code",
   "execution_count": 21,
   "id": "0587add6",
   "metadata": {},
   "outputs": [
    {
     "data": {
      "text/plain": [
       "array(['Delhi', 'Banglore', 'Cochin', 'Kolkata', 'Hyderabad'],\n",
       "      dtype=object)"
      ]
     },
     "execution_count": 21,
     "metadata": {},
     "output_type": "execute_result"
    }
   ],
   "source": [
    "data['Destination'].unique()"
   ]
  },
  {
   "cell_type": "code",
   "execution_count": 22,
   "id": "6c67ff57",
   "metadata": {},
   "outputs": [],
   "source": [
    "data['Destination'].replace({'New Delhi':'Delhi'},inplace = True)"
   ]
  },
  {
   "cell_type": "code",
   "execution_count": 23,
   "id": "39857be2",
   "metadata": {},
   "outputs": [
    {
     "data": {
      "text/plain": [
       "array(['Delhi', 'Banglore', 'Cochin', 'Kolkata', 'Hyderabad'],\n",
       "      dtype=object)"
      ]
     },
     "execution_count": 23,
     "metadata": {},
     "output_type": "execute_result"
    }
   ],
   "source": [
    "data['Destination'].unique()"
   ]
  },
  {
   "cell_type": "code",
   "execution_count": null,
   "id": "94511694",
   "metadata": {},
   "outputs": [],
   "source": [
    "data.shape"
   ]
  },
  {
   "cell_type": "code",
   "execution_count": 24,
   "id": "5e2ea9a6",
   "metadata": {},
   "outputs": [],
   "source": [
    "data['Date_of_Journey'] = pd.to_datetime(data['Date_of_Journey'],dayfirst = True)"
   ]
  },
  {
   "cell_type": "code",
   "execution_count": 25,
   "id": "4eedd44f",
   "metadata": {},
   "outputs": [
    {
     "data": {
      "text/plain": [
       "0       2019-03-24\n",
       "1       2019-05-01\n",
       "2       2019-06-09\n",
       "3       2019-05-12\n",
       "4       2019-03-01\n",
       "           ...    \n",
       "13129   2019-06-06\n",
       "13130   2019-03-27\n",
       "13131   2019-03-06\n",
       "13132   2019-03-06\n",
       "13133   2019-06-15\n",
       "Name: Date_of_Journey, Length: 13133, dtype: datetime64[ns]"
      ]
     },
     "execution_count": 25,
     "metadata": {},
     "output_type": "execute_result"
    }
   ],
   "source": [
    "data['Date_of_Journey']"
   ]
  },
  {
   "cell_type": "code",
   "execution_count": 26,
   "id": "4d431af4",
   "metadata": {},
   "outputs": [],
   "source": [
    "data['Day_of_Journey'] = data['Date_of_Journey'].dt.dayofweek"
   ]
  },
  {
   "cell_type": "code",
   "execution_count": 27,
   "id": "93982225",
   "metadata": {},
   "outputs": [],
   "source": [
    "data['Day_of_Journey'].replace({0:'Monday',1:'Tuesday',2:'Wednesday',3:'Thursday',4:'Friday',5:'Saturday',6:'Sunday'},inplace = True)"
   ]
  },
  {
   "cell_type": "code",
   "execution_count": 28,
   "id": "e193431f",
   "metadata": {},
   "outputs": [
    {
     "data": {
      "text/plain": [
       "0           Sunday\n",
       "1        Wednesday\n",
       "2           Sunday\n",
       "3           Sunday\n",
       "4           Friday\n",
       "           ...    \n",
       "13129     Thursday\n",
       "13130    Wednesday\n",
       "13131    Wednesday\n",
       "13132    Wednesday\n",
       "13133     Saturday\n",
       "Name: Day_of_Journey, Length: 13133, dtype: object"
      ]
     },
     "execution_count": 28,
     "metadata": {},
     "output_type": "execute_result"
    }
   ],
   "source": [
    "data['Day_of_Journey']"
   ]
  },
  {
   "cell_type": "code",
   "execution_count": 29,
   "id": "07452cbd",
   "metadata": {},
   "outputs": [
    {
     "data": {
      "text/plain": [
       "0       2019-03-24\n",
       "1       2019-05-01\n",
       "2       2019-06-09\n",
       "3       2019-05-12\n",
       "4       2019-03-01\n",
       "           ...    \n",
       "13129   2019-06-06\n",
       "13130   2019-03-27\n",
       "13131   2019-03-06\n",
       "13132   2019-03-06\n",
       "13133   2019-06-15\n",
       "Name: Date_of_Journey, Length: 13133, dtype: datetime64[ns]"
      ]
     },
     "execution_count": 29,
     "metadata": {},
     "output_type": "execute_result"
    }
   ],
   "source": [
    "data['Date_of_Journey']"
   ]
  },
  {
   "cell_type": "code",
   "execution_count": 30,
   "id": "7e49e5f0",
   "metadata": {},
   "outputs": [],
   "source": [
    "data['Month'] = data['Date_of_Journey'].dt.month"
   ]
  },
  {
   "cell_type": "code",
   "execution_count": 31,
   "id": "fcc9cb33",
   "metadata": {},
   "outputs": [
    {
     "data": {
      "text/plain": [
       "array([3, 5, 6, 4], dtype=int64)"
      ]
     },
     "execution_count": 31,
     "metadata": {},
     "output_type": "execute_result"
    }
   ],
   "source": [
    "data['Month'].unique()"
   ]
  },
  {
   "cell_type": "code",
   "execution_count": 32,
   "id": "f3489c53",
   "metadata": {},
   "outputs": [],
   "source": [
    "data['Month'].replace({3:'March',4:'April',5:'May',6:'June'},inplace = True)"
   ]
  },
  {
   "cell_type": "code",
   "execution_count": 33,
   "id": "91057e76",
   "metadata": {},
   "outputs": [],
   "source": [
    "data = data.drop(columns ='Date_of_Journey')"
   ]
  },
  {
   "cell_type": "code",
   "execution_count": null,
   "id": "071bf41c",
   "metadata": {},
   "outputs": [],
   "source": [
    "data.head(2)"
   ]
  },
  {
   "cell_type": "code",
   "execution_count": 34,
   "id": "1e027513",
   "metadata": {},
   "outputs": [
    {
     "data": {
      "text/plain": [
       "132"
      ]
     },
     "execution_count": 34,
     "metadata": {},
     "output_type": "execute_result"
    }
   ],
   "source": [
    "data['Route'].nunique()"
   ]
  },
  {
   "cell_type": "code",
   "execution_count": 35,
   "id": "d6ca8be8",
   "metadata": {},
   "outputs": [],
   "source": [
    "data = data.drop(columns = 'Route')"
   ]
  },
  {
   "cell_type": "code",
   "execution_count": 36,
   "id": "5ba53d0b",
   "metadata": {},
   "outputs": [
    {
     "data": {
      "text/plain": [
       "374"
      ]
     },
     "execution_count": 36,
     "metadata": {},
     "output_type": "execute_result"
    }
   ],
   "source": [
    "data['Duration'].nunique()"
   ]
  },
  {
   "cell_type": "code",
   "execution_count": 37,
   "id": "09c3f8b4",
   "metadata": {},
   "outputs": [],
   "source": [
    "data['Duration_Min'] = (pd.to_timedelta(data['Duration']).dt.seconds // 60).astype(int)"
   ]
  },
  {
   "cell_type": "code",
   "execution_count": 39,
   "id": "c8ab4d0d",
   "metadata": {},
   "outputs": [],
   "source": [
    "del data['Duration']"
   ]
  },
  {
   "cell_type": "code",
   "execution_count": 40,
   "id": "320feaf6",
   "metadata": {},
   "outputs": [
    {
     "data": {
      "text/html": [
       "<div>\n",
       "<style scoped>\n",
       "    .dataframe tbody tr th:only-of-type {\n",
       "        vertical-align: middle;\n",
       "    }\n",
       "\n",
       "    .dataframe tbody tr th {\n",
       "        vertical-align: top;\n",
       "    }\n",
       "\n",
       "    .dataframe thead th {\n",
       "        text-align: right;\n",
       "    }\n",
       "</style>\n",
       "<table border=\"1\" class=\"dataframe\">\n",
       "  <thead>\n",
       "    <tr style=\"text-align: right;\">\n",
       "      <th></th>\n",
       "      <th>Airline</th>\n",
       "      <th>Source</th>\n",
       "      <th>Destination</th>\n",
       "      <th>Dep_Time</th>\n",
       "      <th>Arrival_Time</th>\n",
       "      <th>Total_Stops</th>\n",
       "      <th>Additional_Info</th>\n",
       "      <th>Price</th>\n",
       "      <th>source</th>\n",
       "      <th>Day_of_Journey</th>\n",
       "      <th>Month</th>\n",
       "      <th>Duration_Min</th>\n",
       "    </tr>\n",
       "  </thead>\n",
       "  <tbody>\n",
       "    <tr>\n",
       "      <th>0</th>\n",
       "      <td>IndiGo</td>\n",
       "      <td>Banglore</td>\n",
       "      <td>Delhi</td>\n",
       "      <td>22:20</td>\n",
       "      <td>01:10 22 Mar</td>\n",
       "      <td>non-stop</td>\n",
       "      <td>No info</td>\n",
       "      <td>3897.0</td>\n",
       "      <td>Train</td>\n",
       "      <td>Sunday</td>\n",
       "      <td>March</td>\n",
       "      <td>170</td>\n",
       "    </tr>\n",
       "    <tr>\n",
       "      <th>1</th>\n",
       "      <td>Air India</td>\n",
       "      <td>Kolkata</td>\n",
       "      <td>Banglore</td>\n",
       "      <td>05:50</td>\n",
       "      <td>13:15</td>\n",
       "      <td>2 stops</td>\n",
       "      <td>No info</td>\n",
       "      <td>7662.0</td>\n",
       "      <td>Train</td>\n",
       "      <td>Wednesday</td>\n",
       "      <td>May</td>\n",
       "      <td>445</td>\n",
       "    </tr>\n",
       "  </tbody>\n",
       "</table>\n",
       "</div>"
      ],
      "text/plain": [
       "     Airline    Source Destination Dep_Time  Arrival_Time Total_Stops  \\\n",
       "0     IndiGo  Banglore       Delhi    22:20  01:10 22 Mar    non-stop   \n",
       "1  Air India   Kolkata    Banglore    05:50         13:15     2 stops   \n",
       "\n",
       "  Additional_Info   Price source Day_of_Journey  Month  Duration_Min  \n",
       "0         No info  3897.0  Train         Sunday  March           170  \n",
       "1         No info  7662.0  Train      Wednesday    May           445  "
      ]
     },
     "execution_count": 40,
     "metadata": {},
     "output_type": "execute_result"
    }
   ],
   "source": [
    "data.head(2)"
   ]
  },
  {
   "cell_type": "code",
   "execution_count": 41,
   "id": "38d31ff1",
   "metadata": {},
   "outputs": [],
   "source": [
    "data.loc[data['Dep_Time'] < '12:00','Dep_Time']='AM'"
   ]
  },
  {
   "cell_type": "code",
   "execution_count": 42,
   "id": "026be350",
   "metadata": {},
   "outputs": [],
   "source": [
    "data.loc[data['Dep_Time'] !='AM','Dep_Time']='AM'"
   ]
  },
  {
   "cell_type": "code",
   "execution_count": 43,
   "id": "365afaf2",
   "metadata": {},
   "outputs": [],
   "source": [
    "data['Arrival_Time'] = data['Arrival_Time'].apply(lambda x: x.split()[0])"
   ]
  },
  {
   "cell_type": "code",
   "execution_count": 44,
   "id": "ad84ee4c",
   "metadata": {},
   "outputs": [],
   "source": [
    "data.loc[data['Arrival_Time'] < '12:00','Arrival_Time']='AM'"
   ]
  },
  {
   "cell_type": "code",
   "execution_count": 45,
   "id": "81f3862f",
   "metadata": {},
   "outputs": [],
   "source": [
    "data.loc[data['Arrival_Time'] != 'AM','Arrival_Time']='PM'"
   ]
  },
  {
   "cell_type": "code",
   "execution_count": 46,
   "id": "f72f7f74",
   "metadata": {},
   "outputs": [
    {
     "data": {
      "text/plain": [
       "No info                         10330\n",
       "In-flight meal not included      2370\n",
       "No check-in baggage included      394\n",
       "1 Long layover                     20\n",
       "Change airports                     8\n",
       "Business class                      5\n",
       "No Info                             3\n",
       "1 Short layover                     1\n",
       "Red-eye flight                      1\n",
       "2 Long layover                      1\n",
       "Name: Additional_Info, dtype: int64"
      ]
     },
     "execution_count": 46,
     "metadata": {},
     "output_type": "execute_result"
    }
   ],
   "source": [
    "data['Additional_Info'].value_counts()"
   ]
  },
  {
   "cell_type": "code",
   "execution_count": 47,
   "id": "6af5c735",
   "metadata": {},
   "outputs": [
    {
     "data": {
      "text/plain": [
       "Additional_Info\n",
       "1 Long layover                  22109.631579\n",
       "1 Short layover                 26743.000000\n",
       "2 Long layover                  26480.000000\n",
       "Business class                  56811.250000\n",
       "Change airports                 16800.714286\n",
       "In-flight meal not included      9435.647456\n",
       "No Info                          8044.666667\n",
       "No check-in baggage included     3642.465409\n",
       "No info                          9075.257394\n",
       "Red-eye flight                  10873.000000\n",
       "Name: Price, dtype: float64"
      ]
     },
     "execution_count": 47,
     "metadata": {},
     "output_type": "execute_result"
    }
   ],
   "source": [
    "data.groupby('Additional_Info')['Price'].mean()"
   ]
  },
  {
   "cell_type": "code",
   "execution_count": 48,
   "id": "20c9072a",
   "metadata": {},
   "outputs": [],
   "source": [
    "data['Additional_Info'].replace({'No info':'No Info'},inplace = True)"
   ]
  },
  {
   "cell_type": "code",
   "execution_count": 49,
   "id": "af21d4ec",
   "metadata": {},
   "outputs": [],
   "source": [
    "data['Duration_Min'] = data['Duration_Min'].astype(int)"
   ]
  },
  {
   "cell_type": "code",
   "execution_count": 50,
   "id": "2ce50038",
   "metadata": {},
   "outputs": [
    {
     "data": {
      "text/html": [
       "<div>\n",
       "<style scoped>\n",
       "    .dataframe tbody tr th:only-of-type {\n",
       "        vertical-align: middle;\n",
       "    }\n",
       "\n",
       "    .dataframe tbody tr th {\n",
       "        vertical-align: top;\n",
       "    }\n",
       "\n",
       "    .dataframe thead th {\n",
       "        text-align: right;\n",
       "    }\n",
       "</style>\n",
       "<table border=\"1\" class=\"dataframe\">\n",
       "  <thead>\n",
       "    <tr style=\"text-align: right;\">\n",
       "      <th></th>\n",
       "      <th>Airline</th>\n",
       "      <th>Source</th>\n",
       "      <th>Destination</th>\n",
       "      <th>Dep_Time</th>\n",
       "      <th>Arrival_Time</th>\n",
       "      <th>Total_Stops</th>\n",
       "      <th>Additional_Info</th>\n",
       "      <th>Price</th>\n",
       "      <th>source</th>\n",
       "      <th>Day_of_Journey</th>\n",
       "      <th>Month</th>\n",
       "      <th>Duration_Min</th>\n",
       "    </tr>\n",
       "  </thead>\n",
       "  <tbody>\n",
       "    <tr>\n",
       "      <th>0</th>\n",
       "      <td>IndiGo</td>\n",
       "      <td>Banglore</td>\n",
       "      <td>Delhi</td>\n",
       "      <td>AM</td>\n",
       "      <td>AM</td>\n",
       "      <td>non-stop</td>\n",
       "      <td>No Info</td>\n",
       "      <td>3897.0</td>\n",
       "      <td>Train</td>\n",
       "      <td>Sunday</td>\n",
       "      <td>March</td>\n",
       "      <td>170</td>\n",
       "    </tr>\n",
       "    <tr>\n",
       "      <th>1</th>\n",
       "      <td>Air India</td>\n",
       "      <td>Kolkata</td>\n",
       "      <td>Banglore</td>\n",
       "      <td>AM</td>\n",
       "      <td>PM</td>\n",
       "      <td>2 stops</td>\n",
       "      <td>No Info</td>\n",
       "      <td>7662.0</td>\n",
       "      <td>Train</td>\n",
       "      <td>Wednesday</td>\n",
       "      <td>May</td>\n",
       "      <td>445</td>\n",
       "    </tr>\n",
       "    <tr>\n",
       "      <th>2</th>\n",
       "      <td>Jet Airways</td>\n",
       "      <td>Delhi</td>\n",
       "      <td>Cochin</td>\n",
       "      <td>AM</td>\n",
       "      <td>AM</td>\n",
       "      <td>2 stops</td>\n",
       "      <td>No Info</td>\n",
       "      <td>13882.0</td>\n",
       "      <td>Train</td>\n",
       "      <td>Sunday</td>\n",
       "      <td>June</td>\n",
       "      <td>1140</td>\n",
       "    </tr>\n",
       "    <tr>\n",
       "      <th>3</th>\n",
       "      <td>IndiGo</td>\n",
       "      <td>Kolkata</td>\n",
       "      <td>Banglore</td>\n",
       "      <td>AM</td>\n",
       "      <td>PM</td>\n",
       "      <td>1 stop</td>\n",
       "      <td>No Info</td>\n",
       "      <td>6218.0</td>\n",
       "      <td>Train</td>\n",
       "      <td>Sunday</td>\n",
       "      <td>May</td>\n",
       "      <td>325</td>\n",
       "    </tr>\n",
       "    <tr>\n",
       "      <th>4</th>\n",
       "      <td>IndiGo</td>\n",
       "      <td>Banglore</td>\n",
       "      <td>Delhi</td>\n",
       "      <td>AM</td>\n",
       "      <td>PM</td>\n",
       "      <td>1 stop</td>\n",
       "      <td>No Info</td>\n",
       "      <td>13302.0</td>\n",
       "      <td>Train</td>\n",
       "      <td>Friday</td>\n",
       "      <td>March</td>\n",
       "      <td>285</td>\n",
       "    </tr>\n",
       "    <tr>\n",
       "      <th>...</th>\n",
       "      <td>...</td>\n",
       "      <td>...</td>\n",
       "      <td>...</td>\n",
       "      <td>...</td>\n",
       "      <td>...</td>\n",
       "      <td>...</td>\n",
       "      <td>...</td>\n",
       "      <td>...</td>\n",
       "      <td>...</td>\n",
       "      <td>...</td>\n",
       "      <td>...</td>\n",
       "      <td>...</td>\n",
       "    </tr>\n",
       "    <tr>\n",
       "      <th>13129</th>\n",
       "      <td>Air India</td>\n",
       "      <td>Kolkata</td>\n",
       "      <td>Banglore</td>\n",
       "      <td>AM</td>\n",
       "      <td>PM</td>\n",
       "      <td>1 stop</td>\n",
       "      <td>No Info</td>\n",
       "      <td>NaN</td>\n",
       "      <td>Test</td>\n",
       "      <td>Thursday</td>\n",
       "      <td>June</td>\n",
       "      <td>1435</td>\n",
       "    </tr>\n",
       "    <tr>\n",
       "      <th>13130</th>\n",
       "      <td>IndiGo</td>\n",
       "      <td>Kolkata</td>\n",
       "      <td>Banglore</td>\n",
       "      <td>AM</td>\n",
       "      <td>PM</td>\n",
       "      <td>non-stop</td>\n",
       "      <td>No Info</td>\n",
       "      <td>NaN</td>\n",
       "      <td>Test</td>\n",
       "      <td>Wednesday</td>\n",
       "      <td>March</td>\n",
       "      <td>155</td>\n",
       "    </tr>\n",
       "    <tr>\n",
       "      <th>13131</th>\n",
       "      <td>Jet Airways</td>\n",
       "      <td>Delhi</td>\n",
       "      <td>Cochin</td>\n",
       "      <td>AM</td>\n",
       "      <td>AM</td>\n",
       "      <td>1 stop</td>\n",
       "      <td>No Info</td>\n",
       "      <td>NaN</td>\n",
       "      <td>Test</td>\n",
       "      <td>Wednesday</td>\n",
       "      <td>March</td>\n",
       "      <td>395</td>\n",
       "    </tr>\n",
       "    <tr>\n",
       "      <th>13132</th>\n",
       "      <td>Air India</td>\n",
       "      <td>Delhi</td>\n",
       "      <td>Cochin</td>\n",
       "      <td>AM</td>\n",
       "      <td>PM</td>\n",
       "      <td>1 stop</td>\n",
       "      <td>No Info</td>\n",
       "      <td>NaN</td>\n",
       "      <td>Test</td>\n",
       "      <td>Wednesday</td>\n",
       "      <td>March</td>\n",
       "      <td>915</td>\n",
       "    </tr>\n",
       "    <tr>\n",
       "      <th>13133</th>\n",
       "      <td>Multiple carriers</td>\n",
       "      <td>Delhi</td>\n",
       "      <td>Cochin</td>\n",
       "      <td>AM</td>\n",
       "      <td>PM</td>\n",
       "      <td>1 stop</td>\n",
       "      <td>No Info</td>\n",
       "      <td>NaN</td>\n",
       "      <td>Test</td>\n",
       "      <td>Saturday</td>\n",
       "      <td>June</td>\n",
       "      <td>860</td>\n",
       "    </tr>\n",
       "  </tbody>\n",
       "</table>\n",
       "<p>13133 rows × 12 columns</p>\n",
       "</div>"
      ],
      "text/plain": [
       "                 Airline    Source Destination Dep_Time Arrival_Time  \\\n",
       "0                 IndiGo  Banglore       Delhi       AM           AM   \n",
       "1              Air India   Kolkata    Banglore       AM           PM   \n",
       "2            Jet Airways     Delhi      Cochin       AM           AM   \n",
       "3                 IndiGo   Kolkata    Banglore       AM           PM   \n",
       "4                 IndiGo  Banglore       Delhi       AM           PM   \n",
       "...                  ...       ...         ...      ...          ...   \n",
       "13129          Air India   Kolkata    Banglore       AM           PM   \n",
       "13130             IndiGo   Kolkata    Banglore       AM           PM   \n",
       "13131        Jet Airways     Delhi      Cochin       AM           AM   \n",
       "13132          Air India     Delhi      Cochin       AM           PM   \n",
       "13133  Multiple carriers     Delhi      Cochin       AM           PM   \n",
       "\n",
       "      Total_Stops Additional_Info    Price source Day_of_Journey  Month  \\\n",
       "0        non-stop         No Info   3897.0  Train         Sunday  March   \n",
       "1         2 stops         No Info   7662.0  Train      Wednesday    May   \n",
       "2         2 stops         No Info  13882.0  Train         Sunday   June   \n",
       "3          1 stop         No Info   6218.0  Train         Sunday    May   \n",
       "4          1 stop         No Info  13302.0  Train         Friday  March   \n",
       "...           ...             ...      ...    ...            ...    ...   \n",
       "13129      1 stop         No Info      NaN   Test       Thursday   June   \n",
       "13130    non-stop         No Info      NaN   Test      Wednesday  March   \n",
       "13131      1 stop         No Info      NaN   Test      Wednesday  March   \n",
       "13132      1 stop         No Info      NaN   Test      Wednesday  March   \n",
       "13133      1 stop         No Info      NaN   Test       Saturday   June   \n",
       "\n",
       "       Duration_Min  \n",
       "0               170  \n",
       "1               445  \n",
       "2              1140  \n",
       "3               325  \n",
       "4               285  \n",
       "...             ...  \n",
       "13129          1435  \n",
       "13130           155  \n",
       "13131           395  \n",
       "13132           915  \n",
       "13133           860  \n",
       "\n",
       "[13133 rows x 12 columns]"
      ]
     },
     "execution_count": 50,
     "metadata": {},
     "output_type": "execute_result"
    }
   ],
   "source": [
    "data"
   ]
  },
  {
   "cell_type": "code",
   "execution_count": 51,
   "id": "ea6e3db0",
   "metadata": {},
   "outputs": [
    {
     "data": {
      "text/plain": [
       "Train    10462\n",
       "Test      2671\n",
       "Name: source, dtype: int64"
      ]
     },
     "execution_count": 51,
     "metadata": {},
     "output_type": "execute_result"
    }
   ],
   "source": [
    "data['source'].value_counts()"
   ]
  },
  {
   "cell_type": "code",
   "execution_count": 52,
   "id": "15ae43b0",
   "metadata": {},
   "outputs": [],
   "source": [
    "data_cat = data.select_dtypes(exclude = np.number)"
   ]
  },
  {
   "cell_type": "code",
   "execution_count": 53,
   "id": "34d8a31a",
   "metadata": {},
   "outputs": [
    {
     "data": {
      "text/plain": [
       "Index(['Airline', 'Source', 'Destination', 'Dep_Time', 'Arrival_Time',\n",
       "       'Total_Stops', 'Additional_Info', 'source', 'Day_of_Journey', 'Month'],\n",
       "      dtype='object')"
      ]
     },
     "execution_count": 53,
     "metadata": {},
     "output_type": "execute_result"
    }
   ],
   "source": [
    "data_cat.columns"
   ]
  },
  {
   "cell_type": "code",
   "execution_count": 54,
   "id": "a4050f87",
   "metadata": {},
   "outputs": [
    {
     "data": {
      "text/html": [
       "<div>\n",
       "<style scoped>\n",
       "    .dataframe tbody tr th:only-of-type {\n",
       "        vertical-align: middle;\n",
       "    }\n",
       "\n",
       "    .dataframe tbody tr th {\n",
       "        vertical-align: top;\n",
       "    }\n",
       "\n",
       "    .dataframe thead th {\n",
       "        text-align: right;\n",
       "    }\n",
       "</style>\n",
       "<table border=\"1\" class=\"dataframe\">\n",
       "  <thead>\n",
       "    <tr style=\"text-align: right;\">\n",
       "      <th></th>\n",
       "      <th>Airline</th>\n",
       "      <th>Source</th>\n",
       "      <th>Destination</th>\n",
       "      <th>Dep_Time</th>\n",
       "      <th>Arrival_Time</th>\n",
       "      <th>Total_Stops</th>\n",
       "      <th>Additional_Info</th>\n",
       "      <th>Day_of_Journey</th>\n",
       "      <th>Month</th>\n",
       "    </tr>\n",
       "  </thead>\n",
       "  <tbody>\n",
       "    <tr>\n",
       "      <th>0</th>\n",
       "      <td>IndiGo</td>\n",
       "      <td>Banglore</td>\n",
       "      <td>Delhi</td>\n",
       "      <td>AM</td>\n",
       "      <td>AM</td>\n",
       "      <td>non-stop</td>\n",
       "      <td>No Info</td>\n",
       "      <td>Sunday</td>\n",
       "      <td>March</td>\n",
       "    </tr>\n",
       "    <tr>\n",
       "      <th>1</th>\n",
       "      <td>Air India</td>\n",
       "      <td>Kolkata</td>\n",
       "      <td>Banglore</td>\n",
       "      <td>AM</td>\n",
       "      <td>PM</td>\n",
       "      <td>2 stops</td>\n",
       "      <td>No Info</td>\n",
       "      <td>Wednesday</td>\n",
       "      <td>May</td>\n",
       "    </tr>\n",
       "    <tr>\n",
       "      <th>2</th>\n",
       "      <td>Jet Airways</td>\n",
       "      <td>Delhi</td>\n",
       "      <td>Cochin</td>\n",
       "      <td>AM</td>\n",
       "      <td>AM</td>\n",
       "      <td>2 stops</td>\n",
       "      <td>No Info</td>\n",
       "      <td>Sunday</td>\n",
       "      <td>June</td>\n",
       "    </tr>\n",
       "    <tr>\n",
       "      <th>3</th>\n",
       "      <td>IndiGo</td>\n",
       "      <td>Kolkata</td>\n",
       "      <td>Banglore</td>\n",
       "      <td>AM</td>\n",
       "      <td>PM</td>\n",
       "      <td>1 stop</td>\n",
       "      <td>No Info</td>\n",
       "      <td>Sunday</td>\n",
       "      <td>May</td>\n",
       "    </tr>\n",
       "    <tr>\n",
       "      <th>4</th>\n",
       "      <td>IndiGo</td>\n",
       "      <td>Banglore</td>\n",
       "      <td>Delhi</td>\n",
       "      <td>AM</td>\n",
       "      <td>PM</td>\n",
       "      <td>1 stop</td>\n",
       "      <td>No Info</td>\n",
       "      <td>Friday</td>\n",
       "      <td>March</td>\n",
       "    </tr>\n",
       "    <tr>\n",
       "      <th>...</th>\n",
       "      <td>...</td>\n",
       "      <td>...</td>\n",
       "      <td>...</td>\n",
       "      <td>...</td>\n",
       "      <td>...</td>\n",
       "      <td>...</td>\n",
       "      <td>...</td>\n",
       "      <td>...</td>\n",
       "      <td>...</td>\n",
       "    </tr>\n",
       "    <tr>\n",
       "      <th>13129</th>\n",
       "      <td>Air India</td>\n",
       "      <td>Kolkata</td>\n",
       "      <td>Banglore</td>\n",
       "      <td>AM</td>\n",
       "      <td>PM</td>\n",
       "      <td>1 stop</td>\n",
       "      <td>No Info</td>\n",
       "      <td>Thursday</td>\n",
       "      <td>June</td>\n",
       "    </tr>\n",
       "    <tr>\n",
       "      <th>13130</th>\n",
       "      <td>IndiGo</td>\n",
       "      <td>Kolkata</td>\n",
       "      <td>Banglore</td>\n",
       "      <td>AM</td>\n",
       "      <td>PM</td>\n",
       "      <td>non-stop</td>\n",
       "      <td>No Info</td>\n",
       "      <td>Wednesday</td>\n",
       "      <td>March</td>\n",
       "    </tr>\n",
       "    <tr>\n",
       "      <th>13131</th>\n",
       "      <td>Jet Airways</td>\n",
       "      <td>Delhi</td>\n",
       "      <td>Cochin</td>\n",
       "      <td>AM</td>\n",
       "      <td>AM</td>\n",
       "      <td>1 stop</td>\n",
       "      <td>No Info</td>\n",
       "      <td>Wednesday</td>\n",
       "      <td>March</td>\n",
       "    </tr>\n",
       "    <tr>\n",
       "      <th>13132</th>\n",
       "      <td>Air India</td>\n",
       "      <td>Delhi</td>\n",
       "      <td>Cochin</td>\n",
       "      <td>AM</td>\n",
       "      <td>PM</td>\n",
       "      <td>1 stop</td>\n",
       "      <td>No Info</td>\n",
       "      <td>Wednesday</td>\n",
       "      <td>March</td>\n",
       "    </tr>\n",
       "    <tr>\n",
       "      <th>13133</th>\n",
       "      <td>Multiple carriers</td>\n",
       "      <td>Delhi</td>\n",
       "      <td>Cochin</td>\n",
       "      <td>AM</td>\n",
       "      <td>PM</td>\n",
       "      <td>1 stop</td>\n",
       "      <td>No Info</td>\n",
       "      <td>Saturday</td>\n",
       "      <td>June</td>\n",
       "    </tr>\n",
       "  </tbody>\n",
       "</table>\n",
       "<p>13133 rows × 9 columns</p>\n",
       "</div>"
      ],
      "text/plain": [
       "                 Airline    Source Destination Dep_Time Arrival_Time  \\\n",
       "0                 IndiGo  Banglore       Delhi       AM           AM   \n",
       "1              Air India   Kolkata    Banglore       AM           PM   \n",
       "2            Jet Airways     Delhi      Cochin       AM           AM   \n",
       "3                 IndiGo   Kolkata    Banglore       AM           PM   \n",
       "4                 IndiGo  Banglore       Delhi       AM           PM   \n",
       "...                  ...       ...         ...      ...          ...   \n",
       "13129          Air India   Kolkata    Banglore       AM           PM   \n",
       "13130             IndiGo   Kolkata    Banglore       AM           PM   \n",
       "13131        Jet Airways     Delhi      Cochin       AM           AM   \n",
       "13132          Air India     Delhi      Cochin       AM           PM   \n",
       "13133  Multiple carriers     Delhi      Cochin       AM           PM   \n",
       "\n",
       "      Total_Stops Additional_Info Day_of_Journey  Month  \n",
       "0        non-stop         No Info         Sunday  March  \n",
       "1         2 stops         No Info      Wednesday    May  \n",
       "2         2 stops         No Info         Sunday   June  \n",
       "3          1 stop         No Info         Sunday    May  \n",
       "4          1 stop         No Info         Friday  March  \n",
       "...           ...             ...            ...    ...  \n",
       "13129      1 stop         No Info       Thursday   June  \n",
       "13130    non-stop         No Info      Wednesday  March  \n",
       "13131      1 stop         No Info      Wednesday  March  \n",
       "13132      1 stop         No Info      Wednesday  March  \n",
       "13133      1 stop         No Info       Saturday   June  \n",
       "\n",
       "[13133 rows x 9 columns]"
      ]
     },
     "execution_count": 54,
     "metadata": {},
     "output_type": "execute_result"
    }
   ],
   "source": [
    "data_cat.drop(columns = 'source')"
   ]
  },
  {
   "cell_type": "code",
   "execution_count": 55,
   "id": "d353948c",
   "metadata": {},
   "outputs": [],
   "source": [
    "data_cat = pd.get_dummies(data_cat)"
   ]
  },
  {
   "cell_type": "code",
   "execution_count": 56,
   "id": "813a618a",
   "metadata": {},
   "outputs": [],
   "source": [
    "data_cat = data_cat.reset_index().drop(columns = 'index')"
   ]
  },
  {
   "cell_type": "code",
   "execution_count": 57,
   "id": "692eda6a",
   "metadata": {},
   "outputs": [],
   "source": [
    "data_num = data.select_dtypes(include = np.number)"
   ]
  },
  {
   "cell_type": "code",
   "execution_count": 58,
   "id": "e69712d8",
   "metadata": {},
   "outputs": [],
   "source": [
    "data_num = data_num.reset_index().drop(columns = 'index')"
   ]
  },
  {
   "cell_type": "code",
   "execution_count": 59,
   "id": "f992bb7f",
   "metadata": {},
   "outputs": [],
   "source": [
    "data_source = data['source'].reset_index().drop(columns = 'index')"
   ]
  },
  {
   "cell_type": "code",
   "execution_count": 60,
   "id": "50f9da77",
   "metadata": {},
   "outputs": [],
   "source": [
    "data_preprocessed = pd.concat([data_cat,data_num,data_source],axis = 1)"
   ]
  },
  {
   "cell_type": "code",
   "execution_count": 61,
   "id": "8f2caf2f",
   "metadata": {},
   "outputs": [],
   "source": [
    "data_preprocessed_train = data_preprocessed[data_preprocessed['source']=='Train']"
   ]
  },
  {
   "cell_type": "code",
   "execution_count": 62,
   "id": "81f5f2b6",
   "metadata": {},
   "outputs": [],
   "source": [
    "data_preprocessed_test = data_preprocessed[data_preprocessed['source']=='Test']"
   ]
  },
  {
   "cell_type": "code",
   "execution_count": 63,
   "id": "68c13eb4",
   "metadata": {},
   "outputs": [],
   "source": [
    "data_preprocessed_train_x = data_preprocessed_train.drop(columns = ['Price','source'])"
   ]
  },
  {
   "cell_type": "code",
   "execution_count": 64,
   "id": "40eba164",
   "metadata": {},
   "outputs": [],
   "source": [
    "data_preprocessed_train_y = data_preprocessed_train['Price']"
   ]
  },
  {
   "cell_type": "code",
   "execution_count": 66,
   "id": "7d5ba2d4",
   "metadata": {},
   "outputs": [],
   "source": [
    "data_preprocessed_test_x = data_preprocessed_test.drop(columns = ['Price','source'])"
   ]
  },
  {
   "cell_type": "code",
   "execution_count": 85,
   "id": "8db206db",
   "metadata": {},
   "outputs": [],
   "source": [
    "reg = LinearRegression()"
   ]
  },
  {
   "cell_type": "code",
   "execution_count": 86,
   "id": "8bf89967",
   "metadata": {},
   "outputs": [
    {
     "data": {
      "text/html": [
       "<style>#sk-container-id-3 {color: black;background-color: white;}#sk-container-id-3 pre{padding: 0;}#sk-container-id-3 div.sk-toggleable {background-color: white;}#sk-container-id-3 label.sk-toggleable__label {cursor: pointer;display: block;width: 100%;margin-bottom: 0;padding: 0.3em;box-sizing: border-box;text-align: center;}#sk-container-id-3 label.sk-toggleable__label-arrow:before {content: \"▸\";float: left;margin-right: 0.25em;color: #696969;}#sk-container-id-3 label.sk-toggleable__label-arrow:hover:before {color: black;}#sk-container-id-3 div.sk-estimator:hover label.sk-toggleable__label-arrow:before {color: black;}#sk-container-id-3 div.sk-toggleable__content {max-height: 0;max-width: 0;overflow: hidden;text-align: left;background-color: #f0f8ff;}#sk-container-id-3 div.sk-toggleable__content pre {margin: 0.2em;color: black;border-radius: 0.25em;background-color: #f0f8ff;}#sk-container-id-3 input.sk-toggleable__control:checked~div.sk-toggleable__content {max-height: 200px;max-width: 100%;overflow: auto;}#sk-container-id-3 input.sk-toggleable__control:checked~label.sk-toggleable__label-arrow:before {content: \"▾\";}#sk-container-id-3 div.sk-estimator input.sk-toggleable__control:checked~label.sk-toggleable__label {background-color: #d4ebff;}#sk-container-id-3 div.sk-label input.sk-toggleable__control:checked~label.sk-toggleable__label {background-color: #d4ebff;}#sk-container-id-3 input.sk-hidden--visually {border: 0;clip: rect(1px 1px 1px 1px);clip: rect(1px, 1px, 1px, 1px);height: 1px;margin: -1px;overflow: hidden;padding: 0;position: absolute;width: 1px;}#sk-container-id-3 div.sk-estimator {font-family: monospace;background-color: #f0f8ff;border: 1px dotted black;border-radius: 0.25em;box-sizing: border-box;margin-bottom: 0.5em;}#sk-container-id-3 div.sk-estimator:hover {background-color: #d4ebff;}#sk-container-id-3 div.sk-parallel-item::after {content: \"\";width: 100%;border-bottom: 1px solid gray;flex-grow: 1;}#sk-container-id-3 div.sk-label:hover label.sk-toggleable__label {background-color: #d4ebff;}#sk-container-id-3 div.sk-serial::before {content: \"\";position: absolute;border-left: 1px solid gray;box-sizing: border-box;top: 0;bottom: 0;left: 50%;z-index: 0;}#sk-container-id-3 div.sk-serial {display: flex;flex-direction: column;align-items: center;background-color: white;padding-right: 0.2em;padding-left: 0.2em;position: relative;}#sk-container-id-3 div.sk-item {position: relative;z-index: 1;}#sk-container-id-3 div.sk-parallel {display: flex;align-items: stretch;justify-content: center;background-color: white;position: relative;}#sk-container-id-3 div.sk-item::before, #sk-container-id-3 div.sk-parallel-item::before {content: \"\";position: absolute;border-left: 1px solid gray;box-sizing: border-box;top: 0;bottom: 0;left: 50%;z-index: -1;}#sk-container-id-3 div.sk-parallel-item {display: flex;flex-direction: column;z-index: 1;position: relative;background-color: white;}#sk-container-id-3 div.sk-parallel-item:first-child::after {align-self: flex-end;width: 50%;}#sk-container-id-3 div.sk-parallel-item:last-child::after {align-self: flex-start;width: 50%;}#sk-container-id-3 div.sk-parallel-item:only-child::after {width: 0;}#sk-container-id-3 div.sk-dashed-wrapped {border: 1px dashed gray;margin: 0 0.4em 0.5em 0.4em;box-sizing: border-box;padding-bottom: 0.4em;background-color: white;}#sk-container-id-3 div.sk-label label {font-family: monospace;font-weight: bold;display: inline-block;line-height: 1.2em;}#sk-container-id-3 div.sk-label-container {text-align: center;}#sk-container-id-3 div.sk-container {/* jupyter's `normalize.less` sets `[hidden] { display: none; }` but bootstrap.min.css set `[hidden] { display: none !important; }` so we also need the `!important` here to be able to override the default hidden behavior on the sphinx rendered scikit-learn.org. See: https://github.com/scikit-learn/scikit-learn/issues/21755 */display: inline-block !important;position: relative;}#sk-container-id-3 div.sk-text-repr-fallback {display: none;}</style><div id=\"sk-container-id-3\" class=\"sk-top-container\"><div class=\"sk-text-repr-fallback\"><pre>LinearRegression()</pre><b>In a Jupyter environment, please rerun this cell to show the HTML representation or trust the notebook. <br />On GitHub, the HTML representation is unable to render, please try loading this page with nbviewer.org.</b></div><div class=\"sk-container\" hidden><div class=\"sk-item\"><div class=\"sk-estimator sk-toggleable\"><input class=\"sk-toggleable__control sk-hidden--visually\" id=\"sk-estimator-id-3\" type=\"checkbox\" checked><label for=\"sk-estimator-id-3\" class=\"sk-toggleable__label sk-toggleable__label-arrow\">LinearRegression</label><div class=\"sk-toggleable__content\"><pre>LinearRegression()</pre></div></div></div></div></div>"
      ],
      "text/plain": [
       "LinearRegression()"
      ]
     },
     "execution_count": 86,
     "metadata": {},
     "output_type": "execute_result"
    }
   ],
   "source": [
    "reg.fit(data_preprocessed_train_x,data_preprocessed_train_y)"
   ]
  },
  {
   "cell_type": "code",
   "execution_count": 87,
   "id": "29aca026",
   "metadata": {},
   "outputs": [
    {
     "data": {
      "text/plain": [
       "18355453772072.06"
      ]
     },
     "execution_count": 87,
     "metadata": {},
     "output_type": "execute_result"
    }
   ],
   "source": [
    "reg.intercept_"
   ]
  },
  {
   "cell_type": "code",
   "execution_count": 88,
   "id": "23832643",
   "metadata": {},
   "outputs": [
    {
     "data": {
      "text/plain": [
       "array([-1.83554538e+13, -1.83554538e+13, -1.83554538e+13, -1.83554538e+13,\n",
       "       -1.83554538e+13, -1.83554537e+13, -1.83554538e+13, -1.83554538e+13,\n",
       "       -1.83554538e+13, -1.83554538e+13, -1.83554538e+13, -1.83554538e+13,\n",
       "        1.72355469e+02,  1.37305176e+02,  1.34910645e+02,  1.29845703e+02,\n",
       "       -6.54407227e+02,  1.28953125e+02,  1.24968750e+02,  2.52747070e+02,\n",
       "       -6.48388672e+02,  1.41511230e+02,  3.12500000e-02,  2.95129395e+01,\n",
       "       -2.94785156e+01, -7.93554688e+02,  1.14121484e+03,  2.47641016e+03,\n",
       "        1.53292732e+03, -4.35745605e+03,  1.80120569e+03,  6.98374078e+03,\n",
       "        6.83473549e+03,  8.93082239e+03, -2.39180362e+03, -9.33323682e+03,\n",
       "       -5.62089941e+03, -5.73740527e+03, -1.46711438e+03,  0.00000000e+00,\n",
       "        0.00000000e+00,  1.20775647e+03, -2.82735352e+02,  6.39252930e+01,\n",
       "        2.49418945e+02, -7.44451172e+02, -1.48146484e+02, -3.45802979e+02,\n",
       "       -1.04198999e+03, -1.92390625e+02,  1.33453223e+03, -1.00001953e+02,\n",
       "        2.48046875e-01])"
      ]
     },
     "execution_count": 88,
     "metadata": {},
     "output_type": "execute_result"
    }
   ],
   "source": [
    "reg.coef_"
   ]
  },
  {
   "cell_type": "code",
   "execution_count": 93,
   "id": "d082a978",
   "metadata": {},
   "outputs": [
    {
     "data": {
      "text/plain": [
       "<Axes: >"
      ]
     },
     "execution_count": 93,
     "metadata": {},
     "output_type": "execute_result"
    },
    {
     "data": {
      "image/png": "[encoded data removed]",
      "text/plain": [
       "<Figure size 640x480 with 1 Axes>"
      ]
     },
     "metadata": {},
     "output_type": "display_data"
    }
   ],
   "source": [
    "pd.Series(reg.coef_,data_preprocessed_train_x.columns).sort_values(ascending = False).plot(kind = 'bar')"
   ]
  },
  {
   "cell_type": "code",
   "execution_count": 89,
   "id": "8d81d0ce",
   "metadata": {},
   "outputs": [],
   "source": [
    "data_train_predict = reg.predict(data_preprocessed_train_x)"
   ]
  },
  {
   "cell_type": "code",
   "execution_count": 90,
   "id": "6d6f380c",
   "metadata": {},
   "outputs": [
    {
     "data": {
      "text/plain": [
       "array([ 6032.41796875, 10880.80859375, 15924.83203125, ...,\n",
       "        9318.16796875,  8820.546875  , 10496.8828125 ])"
      ]
     },
     "execution_count": 90,
     "metadata": {},
     "output_type": "execute_result"
    }
   ],
   "source": [
    "data_train_predict"
   ]
  },
  {
   "cell_type": "code",
   "execution_count": 249,
   "id": "34124448",
   "metadata": {},
   "outputs": [],
   "source": [
    "rscore = r2_score(data_preprocessed_train_y , data_train_predict)"
   ]
  },
  {
   "cell_type": "code",
   "execution_count": 250,
   "id": "7b0374f6",
   "metadata": {
    "scrolled": true
   },
   "outputs": [
    {
     "data": {
      "text/plain": [
       "0.6356770941879961"
      ]
     },
     "execution_count": 250,
     "metadata": {},
     "output_type": "execute_result"
    }
   ],
   "source": [
    "rscore"
   ]
  },
  {
   "cell_type": "markdown",
   "id": "cd208a81",
   "metadata": {},
   "source": [
    "# Linear rscore - 0.6356770941879961"
   ]
  },
  {
   "cell_type": "code",
   "execution_count": 137,
   "id": "8451427d",
   "metadata": {},
   "outputs": [],
   "source": [
    " data_test_predict = reg.predict(data_preprocessed_test_x)"
   ]
  },
  {
   "cell_type": "code",
   "execution_count": 138,
   "id": "d7a3e008",
   "metadata": {},
   "outputs": [
    {
     "data": {
      "text/plain": [
       "array([12875.88671875,  8012.84375   ,  9984.25390625, ...,\n",
       "       14736.96875   , 10498.23828125, 11064.9453125 ])"
      ]
     },
     "execution_count": 138,
     "metadata": {},
     "output_type": "execute_result"
    }
   ],
   "source": [
    " data_test_predict"
   ]
  },
  {
   "cell_type": "code",
   "execution_count": 141,
   "id": "32d779ea",
   "metadata": {},
   "outputs": [],
   "source": [
    "data_test_predict = pd.Series(data_test_predict)"
   ]
  },
  {
   "cell_type": "code",
   "execution_count": 142,
   "id": "6b4e1402",
   "metadata": {},
   "outputs": [],
   "source": [
    "data_result = pd.concat([data_test,data_test_predict],axis = 1)"
   ]
  },
  {
   "cell_type": "code",
   "execution_count": 144,
   "id": "0ea6cfe5",
   "metadata": {},
   "outputs": [],
   "source": [
    "data_result.to_csv('Linear.csv',index=False)"
   ]
  },
  {
   "cell_type": "code",
   "execution_count": null,
   "id": "c544dfe4",
   "metadata": {},
   "outputs": [],
   "source": []
  },
  {
   "cell_type": "markdown",
   "id": "39ca98e1",
   "metadata": {},
   "source": [
    "# Ridge Regression"
   ]
  },
  {
   "cell_type": "code",
   "execution_count": 253,
   "id": "f5c2ff14",
   "metadata": {},
   "outputs": [],
   "source": [
    "ridge = Ridge(alpha = 10)"
   ]
  },
  {
   "cell_type": "code",
   "execution_count": 254,
   "id": "05ff87fc",
   "metadata": {},
   "outputs": [
    {
     "data": {
      "text/html": [
       "<style>#sk-container-id-16 {color: black;background-color: white;}#sk-container-id-16 pre{padding: 0;}#sk-container-id-16 div.sk-toggleable {background-color: white;}#sk-container-id-16 label.sk-toggleable__label {cursor: pointer;display: block;width: 100%;margin-bottom: 0;padding: 0.3em;box-sizing: border-box;text-align: center;}#sk-container-id-16 label.sk-toggleable__label-arrow:before {content: \"▸\";float: left;margin-right: 0.25em;color: #696969;}#sk-container-id-16 label.sk-toggleable__label-arrow:hover:before {color: black;}#sk-container-id-16 div.sk-estimator:hover label.sk-toggleable__label-arrow:before {color: black;}#sk-container-id-16 div.sk-toggleable__content {max-height: 0;max-width: 0;overflow: hidden;text-align: left;background-color: #f0f8ff;}#sk-container-id-16 div.sk-toggleable__content pre {margin: 0.2em;color: black;border-radius: 0.25em;background-color: #f0f8ff;}#sk-container-id-16 input.sk-toggleable__control:checked~div.sk-toggleable__content {max-height: 200px;max-width: 100%;overflow: auto;}#sk-container-id-16 input.sk-toggleable__control:checked~label.sk-toggleable__label-arrow:before {content: \"▾\";}#sk-container-id-16 div.sk-estimator input.sk-toggleable__control:checked~label.sk-toggleable__label {background-color: #d4ebff;}#sk-container-id-16 div.sk-label input.sk-toggleable__control:checked~label.sk-toggleable__label {background-color: #d4ebff;}#sk-container-id-16 input.sk-hidden--visually {border: 0;clip: rect(1px 1px 1px 1px);clip: rect(1px, 1px, 1px, 1px);height: 1px;margin: -1px;overflow: hidden;padding: 0;position: absolute;width: 1px;}#sk-container-id-16 div.sk-estimator {font-family: monospace;background-color: #f0f8ff;border: 1px dotted black;border-radius: 0.25em;box-sizing: border-box;margin-bottom: 0.5em;}#sk-container-id-16 div.sk-estimator:hover {background-color: #d4ebff;}#sk-container-id-16 div.sk-parallel-item::after {content: \"\";width: 100%;border-bottom: 1px solid gray;flex-grow: 1;}#sk-container-id-16 div.sk-label:hover label.sk-toggleable__label {background-color: #d4ebff;}#sk-container-id-16 div.sk-serial::before {content: \"\";position: absolute;border-left: 1px solid gray;box-sizing: border-box;top: 0;bottom: 0;left: 50%;z-index: 0;}#sk-container-id-16 div.sk-serial {display: flex;flex-direction: column;align-items: center;background-color: white;padding-right: 0.2em;padding-left: 0.2em;position: relative;}#sk-container-id-16 div.sk-item {position: relative;z-index: 1;}#sk-container-id-16 div.sk-parallel {display: flex;align-items: stretch;justify-content: center;background-color: white;position: relative;}#sk-container-id-16 div.sk-item::before, #sk-container-id-16 div.sk-parallel-item::before {content: \"\";position: absolute;border-left: 1px solid gray;box-sizing: border-box;top: 0;bottom: 0;left: 50%;z-index: -1;}#sk-container-id-16 div.sk-parallel-item {display: flex;flex-direction: column;z-index: 1;position: relative;background-color: white;}#sk-container-id-16 div.sk-parallel-item:first-child::after {align-self: flex-end;width: 50%;}#sk-container-id-16 div.sk-parallel-item:last-child::after {align-self: flex-start;width: 50%;}#sk-container-id-16 div.sk-parallel-item:only-child::after {width: 0;}#sk-container-id-16 div.sk-dashed-wrapped {border: 1px dashed gray;margin: 0 0.4em 0.5em 0.4em;box-sizing: border-box;padding-bottom: 0.4em;background-color: white;}#sk-container-id-16 div.sk-label label {font-family: monospace;font-weight: bold;display: inline-block;line-height: 1.2em;}#sk-container-id-16 div.sk-label-container {text-align: center;}#sk-container-id-16 div.sk-container {/* jupyter's `normalize.less` sets `[hidden] { display: none; }` but bootstrap.min.css set `[hidden] { display: none !important; }` so we also need the `!important` here to be able to override the default hidden behavior on the sphinx rendered scikit-learn.org. See: https://github.com/scikit-learn/scikit-learn/issues/21755 */display: inline-block !important;position: relative;}#sk-container-id-16 div.sk-text-repr-fallback {display: none;}</style><div id=\"sk-container-id-16\" class=\"sk-top-container\"><div class=\"sk-text-repr-fallback\"><pre>Ridge(alpha=10)</pre><b>In a Jupyter environment, please rerun this cell to show the HTML representation or trust the notebook. <br />On GitHub, the HTML representation is unable to render, please try loading this page with nbviewer.org.</b></div><div class=\"sk-container\" hidden><div class=\"sk-item\"><div class=\"sk-estimator sk-toggleable\"><input class=\"sk-toggleable__control sk-hidden--visually\" id=\"sk-estimator-id-16\" type=\"checkbox\" checked><label for=\"sk-estimator-id-16\" class=\"sk-toggleable__label sk-toggleable__label-arrow\">Ridge</label><div class=\"sk-toggleable__content\"><pre>Ridge(alpha=10)</pre></div></div></div></div></div>"
      ],
      "text/plain": [
       "Ridge(alpha=10)"
      ]
     },
     "execution_count": 254,
     "metadata": {},
     "output_type": "execute_result"
    }
   ],
   "source": [
    "ridge.fit(data_preprocessed_train_x,data_preprocessed_train_y)"
   ]
  },
  {
   "cell_type": "code",
   "execution_count": 255,
   "id": "522f96f5",
   "metadata": {},
   "outputs": [
    {
     "data": {
      "text/plain": [
       "14069.932647925485"
      ]
     },
     "execution_count": 255,
     "metadata": {},
     "output_type": "execute_result"
    }
   ],
   "source": [
    "ridge.intercept_"
   ]
  },
  {
   "cell_type": "code",
   "execution_count": 256,
   "id": "503b6486",
   "metadata": {},
   "outputs": [
    {
     "data": {
      "text/plain": [
       "array([-3.36984656e+03, -1.66823792e+03, -3.35146033e+03, -3.19308796e+03,\n",
       "        2.56891592e+03,  1.44916252e+04,  7.80573543e+00, -1.79348024e+02,\n",
       "       -3.49968129e+03, -5.78295810e+02, -1.29795703e+03,  6.95681120e+01,\n",
       "        2.45797123e+02,  1.41696676e+02,  1.28157281e+02,  1.24323779e+02,\n",
       "       -6.39974858e+02,  1.24323779e+02,  1.28157281e+02,  2.45797123e+02,\n",
       "       -6.39974858e+02,  1.41696676e+02,  0.00000000e+00,  3.76222567e+01,\n",
       "       -3.76222567e+01, -2.89411682e+02,  1.67095413e+03,  2.38593304e+03,\n",
       "        1.72265437e+02, -3.93974092e+03,  2.75643663e+03,  8.46887187e+02,\n",
       "        8.31456269e+02,  8.07700452e+03,  8.79892926e+01, -6.64214115e+03,\n",
       "       -3.00856783e+03, -3.02635076e+03,  7.72858457e+01,  0.00000000e+00,\n",
       "        0.00000000e+00,  1.32861601e+03, -2.98225211e+02,  3.83744401e+01,\n",
       "        2.31480707e+02, -7.69014899e+02, -1.66355661e+02, -3.64875385e+02,\n",
       "       -1.04968108e+03, -1.98244939e+02,  1.36579239e+03, -1.17866367e+02,\n",
       "        2.35670512e-01])"
      ]
     },
     "execution_count": 256,
     "metadata": {},
     "output_type": "execute_result"
    }
   ],
   "source": [
    "ridge.coef_"
   ]
  },
  {
   "cell_type": "code",
   "execution_count": 257,
   "id": "46125090",
   "metadata": {},
   "outputs": [
    {
     "data": {
      "text/plain": [
       "<Axes: >"
      ]
     },
     "execution_count": 257,
     "metadata": {},
     "output_type": "execute_result"
    },
    {
     "data": {
      "image/png": "[encoded data removed]",
      "text/plain": [
       "<Figure size 640x480 with 1 Axes>"
      ]
     },
     "metadata": {},
     "output_type": "display_data"
    }
   ],
   "source": [
    "pd.Series(ridge.coef_,data_preprocessed_train_x.columns).sort_values(ascending = False).plot(kind = 'bar')"
   ]
  },
  {
   "cell_type": "code",
   "execution_count": 258,
   "id": "21ffcf75",
   "metadata": {},
   "outputs": [],
   "source": [
    "data_train_predict = ridge.predict(data_preprocessed_train_x)"
   ]
  },
  {
   "cell_type": "code",
   "execution_count": 259,
   "id": "4197d2e3",
   "metadata": {},
   "outputs": [
    {
     "data": {
      "text/plain": [
       "array([ 6095.0895155 , 10897.23795017, 15897.07183237, ...,\n",
       "        9250.87035752,  9009.7545342 , 10513.7273186 ])"
      ]
     },
     "execution_count": 259,
     "metadata": {},
     "output_type": "execute_result"
    }
   ],
   "source": [
    "data_train_predict"
   ]
  },
  {
   "cell_type": "code",
   "execution_count": 260,
   "id": "0d1ced7a",
   "metadata": {},
   "outputs": [],
   "source": [
    "rscore = r2_score(data_preprocessed_train_y , data_train_predict)"
   ]
  },
  {
   "cell_type": "code",
   "execution_count": 261,
   "id": "997dd630",
   "metadata": {
    "scrolled": true
   },
   "outputs": [
    {
     "data": {
      "text/plain": [
       "0.680991000173317"
      ]
     },
     "execution_count": 261,
     "metadata": {},
     "output_type": "execute_result"
    }
   ],
   "source": [
    "rscore"
   ]
  },
  {
   "cell_type": "markdown",
   "id": "83fa07ad",
   "metadata": {},
   "source": [
    "# Ridge rscore - 0.680991000173317"
   ]
  },
  {
   "cell_type": "code",
   "execution_count": 145,
   "id": "d6e6041d",
   "metadata": {},
   "outputs": [],
   "source": [
    "data_test_predict = ridge.predict(data_preprocessed_test_x)"
   ]
  },
  {
   "cell_type": "code",
   "execution_count": 146,
   "id": "40c56f1c",
   "metadata": {
    "scrolled": true
   },
   "outputs": [
    {
     "data": {
      "text/plain": [
       "array([12821.91021407,  8035.31024982,  9977.59648758, ...,\n",
       "       14728.81272346, 10538.96303578, 11041.25731331])"
      ]
     },
     "execution_count": 146,
     "metadata": {},
     "output_type": "execute_result"
    }
   ],
   "source": [
    "data_test_predict "
   ]
  },
  {
   "cell_type": "code",
   "execution_count": 147,
   "id": "83cc7301",
   "metadata": {},
   "outputs": [],
   "source": [
    "data_test_predict = pd.Series(data_test_predict)"
   ]
  },
  {
   "cell_type": "code",
   "execution_count": 148,
   "id": "b7f86952",
   "metadata": {},
   "outputs": [],
   "source": [
    "data_result = pd.concat([data_test,data_test_predict],axis = 1)"
   ]
  },
  {
   "cell_type": "code",
   "execution_count": 149,
   "id": "903ce3f1",
   "metadata": {},
   "outputs": [],
   "source": [
    "data_result.to_csv('Ridge.csv',index=False)"
   ]
  },
  {
   "cell_type": "code",
   "execution_count": null,
   "id": "0d8abee8",
   "metadata": {},
   "outputs": [],
   "source": []
  },
  {
   "cell_type": "code",
   "execution_count": null,
   "id": "98d0aaac",
   "metadata": {},
   "outputs": [],
   "source": []
  },
  {
   "cell_type": "code",
   "execution_count": null,
   "id": "444e14ee",
   "metadata": {},
   "outputs": [],
   "source": []
  },
  {
   "cell_type": "code",
   "execution_count": null,
   "id": "07008497",
   "metadata": {},
   "outputs": [],
   "source": []
  },
  {
   "cell_type": "markdown",
   "id": "564ef5e4",
   "metadata": {},
   "source": [
    "# Lasso"
   ]
  },
  {
   "cell_type": "code",
   "execution_count": 273,
   "id": "9255f219",
   "metadata": {},
   "outputs": [],
   "source": [
    "from sklearn.linear_model import Lasso"
   ]
  },
  {
   "cell_type": "code",
   "execution_count": 274,
   "id": "b5361898",
   "metadata": {},
   "outputs": [],
   "source": [
    "Lasso = Lasso(alpha = 10)"
   ]
  },
  {
   "cell_type": "code",
   "execution_count": 275,
   "id": "1ed28d9d",
   "metadata": {},
   "outputs": [
    {
     "data": {
      "text/html": [
       "<style>#sk-container-id-18 {color: black;background-color: white;}#sk-container-id-18 pre{padding: 0;}#sk-container-id-18 div.sk-toggleable {background-color: white;}#sk-container-id-18 label.sk-toggleable__label {cursor: pointer;display: block;width: 100%;margin-bottom: 0;padding: 0.3em;box-sizing: border-box;text-align: center;}#sk-container-id-18 label.sk-toggleable__label-arrow:before {content: \"▸\";float: left;margin-right: 0.25em;color: #696969;}#sk-container-id-18 label.sk-toggleable__label-arrow:hover:before {color: black;}#sk-container-id-18 div.sk-estimator:hover label.sk-toggleable__label-arrow:before {color: black;}#sk-container-id-18 div.sk-toggleable__content {max-height: 0;max-width: 0;overflow: hidden;text-align: left;background-color: #f0f8ff;}#sk-container-id-18 div.sk-toggleable__content pre {margin: 0.2em;color: black;border-radius: 0.25em;background-color: #f0f8ff;}#sk-container-id-18 input.sk-toggleable__control:checked~div.sk-toggleable__content {max-height: 200px;max-width: 100%;overflow: auto;}#sk-container-id-18 input.sk-toggleable__control:checked~label.sk-toggleable__label-arrow:before {content: \"▾\";}#sk-container-id-18 div.sk-estimator input.sk-toggleable__control:checked~label.sk-toggleable__label {background-color: #d4ebff;}#sk-container-id-18 div.sk-label input.sk-toggleable__control:checked~label.sk-toggleable__label {background-color: #d4ebff;}#sk-container-id-18 input.sk-hidden--visually {border: 0;clip: rect(1px 1px 1px 1px);clip: rect(1px, 1px, 1px, 1px);height: 1px;margin: -1px;overflow: hidden;padding: 0;position: absolute;width: 1px;}#sk-container-id-18 div.sk-estimator {font-family: monospace;background-color: #f0f8ff;border: 1px dotted black;border-radius: 0.25em;box-sizing: border-box;margin-bottom: 0.5em;}#sk-container-id-18 div.sk-estimator:hover {background-color: #d4ebff;}#sk-container-id-18 div.sk-parallel-item::after {content: \"\";width: 100%;border-bottom: 1px solid gray;flex-grow: 1;}#sk-container-id-18 div.sk-label:hover label.sk-toggleable__label {background-color: #d4ebff;}#sk-container-id-18 div.sk-serial::before {content: \"\";position: absolute;border-left: 1px solid gray;box-sizing: border-box;top: 0;bottom: 0;left: 50%;z-index: 0;}#sk-container-id-18 div.sk-serial {display: flex;flex-direction: column;align-items: center;background-color: white;padding-right: 0.2em;padding-left: 0.2em;position: relative;}#sk-container-id-18 div.sk-item {position: relative;z-index: 1;}#sk-container-id-18 div.sk-parallel {display: flex;align-items: stretch;justify-content: center;background-color: white;position: relative;}#sk-container-id-18 div.sk-item::before, #sk-container-id-18 div.sk-parallel-item::before {content: \"\";position: absolute;border-left: 1px solid gray;box-sizing: border-box;top: 0;bottom: 0;left: 50%;z-index: -1;}#sk-container-id-18 div.sk-parallel-item {display: flex;flex-direction: column;z-index: 1;position: relative;background-color: white;}#sk-container-id-18 div.sk-parallel-item:first-child::after {align-self: flex-end;width: 50%;}#sk-container-id-18 div.sk-parallel-item:last-child::after {align-self: flex-start;width: 50%;}#sk-container-id-18 div.sk-parallel-item:only-child::after {width: 0;}#sk-container-id-18 div.sk-dashed-wrapped {border: 1px dashed gray;margin: 0 0.4em 0.5em 0.4em;box-sizing: border-box;padding-bottom: 0.4em;background-color: white;}#sk-container-id-18 div.sk-label label {font-family: monospace;font-weight: bold;display: inline-block;line-height: 1.2em;}#sk-container-id-18 div.sk-label-container {text-align: center;}#sk-container-id-18 div.sk-container {/* jupyter's `normalize.less` sets `[hidden] { display: none; }` but bootstrap.min.css set `[hidden] { display: none !important; }` so we also need the `!important` here to be able to override the default hidden behavior on the sphinx rendered scikit-learn.org. See: https://github.com/scikit-learn/scikit-learn/issues/21755 */display: inline-block !important;position: relative;}#sk-container-id-18 div.sk-text-repr-fallback {display: none;}</style><div id=\"sk-container-id-18\" class=\"sk-top-container\"><div class=\"sk-text-repr-fallback\"><pre>Lasso(alpha=10)</pre><b>In a Jupyter environment, please rerun this cell to show the HTML representation or trust the notebook. <br />On GitHub, the HTML representation is unable to render, please try loading this page with nbviewer.org.</b></div><div class=\"sk-container\" hidden><div class=\"sk-item\"><div class=\"sk-estimator sk-toggleable\"><input class=\"sk-toggleable__control sk-hidden--visually\" id=\"sk-estimator-id-18\" type=\"checkbox\" checked><label for=\"sk-estimator-id-18\" class=\"sk-toggleable__label sk-toggleable__label-arrow\">Lasso</label><div class=\"sk-toggleable__content\"><pre>Lasso(alpha=10)</pre></div></div></div></div></div>"
      ],
      "text/plain": [
       "Lasso(alpha=10)"
      ]
     },
     "execution_count": 275,
     "metadata": {},
     "output_type": "execute_result"
    }
   ],
   "source": [
    "Lasso.fit(data_preprocessed_train_x,data_preprocessed_train_y)"
   ]
  },
  {
   "cell_type": "code",
   "execution_count": 276,
   "id": "cbf0ba04",
   "metadata": {},
   "outputs": [
    {
     "data": {
      "text/plain": [
       "9876.334708690292"
      ]
     },
     "execution_count": 276,
     "metadata": {},
     "output_type": "execute_result"
    }
   ],
   "source": [
    "Lasso.intercept_"
   ]
  },
  {
   "cell_type": "code",
   "execution_count": 277,
   "id": "cd95a7c4",
   "metadata": {},
   "outputs": [
    {
     "data": {
      "text/plain": [
       "array([-1.54829649e+03, -0.00000000e+00, -1.41727191e+03, -1.58074923e+03,\n",
       "        4.08799836e+03,  2.83785732e+04,  1.44323977e+03,  0.00000000e+00,\n",
       "       -1.82158748e+03, -0.00000000e+00,  2.67322818e+01,  0.00000000e+00,\n",
       "        2.51092091e+02,  0.00000000e+00,  0.00000000e+00, -0.00000000e+00,\n",
       "       -1.30102105e+03, -0.00000000e+00,  0.00000000e+00,  3.00759552e-01,\n",
       "       -4.97719708e+01,  0.00000000e+00,  0.00000000e+00,  8.27450251e+00,\n",
       "       -1.17876819e-14, -7.80770837e+02,  1.00442284e+03,  0.00000000e+00,\n",
       "        0.00000000e+00, -4.48871734e+03,  1.62848230e+03,  0.00000000e+00,\n",
       "        0.00000000e+00,  0.00000000e+00,  0.00000000e+00, -3.59540744e+03,\n",
       "       -0.00000000e+00, -0.00000000e+00,  0.00000000e+00,  0.00000000e+00,\n",
       "        0.00000000e+00,  1.48913507e+03, -9.17086259e+01,  1.27243630e+02,\n",
       "        2.98956156e+02, -5.50612034e+02, -0.00000000e+00, -1.69712999e+02,\n",
       "       -8.23530694e+02, -0.00000000e+00,  1.53041938e+03,  0.00000000e+00,\n",
       "        3.49056028e-01])"
      ]
     },
     "execution_count": 277,
     "metadata": {},
     "output_type": "execute_result"
    }
   ],
   "source": [
    "Lasso.coef_"
   ]
  },
  {
   "cell_type": "code",
   "execution_count": 278,
   "id": "39e20c06",
   "metadata": {},
   "outputs": [
    {
     "data": {
      "text/plain": [
       "<Axes: >"
      ]
     },
     "execution_count": 278,
     "metadata": {},
     "output_type": "execute_result"
    },
    {
     "data": {
      "image/png": "[encoded data removed]",
      "text/plain": [
       "<Figure size 640x480 with 1 Axes>"
      ]
     },
     "metadata": {},
     "output_type": "display_data"
    }
   ],
   "source": [
    "pd.Series(Lasso.coef_,data_preprocessed_train_x.columns).sort_values(ascending = False).plot(kind = 'bar')"
   ]
  },
  {
   "cell_type": "code",
   "execution_count": 279,
   "id": "1a884b5b",
   "metadata": {},
   "outputs": [],
   "source": [
    "data_train_predict = Lasso.predict(data_preprocessed_train_x)"
   ]
  },
  {
   "cell_type": "code",
   "execution_count": 280,
   "id": "d3670690",
   "metadata": {},
   "outputs": [
    {
     "data": {
      "text/plain": [
       "array([ 5955.25055599, 10866.37448389, 15673.91044107, ...,\n",
       "        9101.82609859,  8741.14591767, 10504.67353104])"
      ]
     },
     "execution_count": 280,
     "metadata": {},
     "output_type": "execute_result"
    }
   ],
   "source": [
    "data_train_predict"
   ]
  },
  {
   "cell_type": "code",
   "execution_count": 281,
   "id": "d595f297",
   "metadata": {},
   "outputs": [],
   "source": [
    "rscore = r2_score(data_preprocessed_train_y , data_train_predict)"
   ]
  },
  {
   "cell_type": "code",
   "execution_count": 282,
   "id": "3515a1f1",
   "metadata": {
    "scrolled": true
   },
   "outputs": [
    {
     "data": {
      "text/plain": [
       "0.6805966634577599"
      ]
     },
     "execution_count": 282,
     "metadata": {},
     "output_type": "execute_result"
    }
   ],
   "source": [
    "rscore"
   ]
  },
  {
   "cell_type": "markdown",
   "id": "143293d5",
   "metadata": {},
   "source": [
    "# Lasso rscore - 0.6805966634577599"
   ]
  },
  {
   "cell_type": "code",
   "execution_count": 284,
   "id": "0899a124",
   "metadata": {},
   "outputs": [],
   "source": [
    "data_test_predict = Lasso.predict(data_preprocessed_test_x)"
   ]
  },
  {
   "cell_type": "code",
   "execution_count": 285,
   "id": "61098c66",
   "metadata": {
    "scrolled": true
   },
   "outputs": [
    {
     "data": {
      "text/plain": [
       "array([12869.85639875,  7905.81875071, 10085.55963173, ...,\n",
       "       14690.42024994, 10775.65652139, 10966.23545354])"
      ]
     },
     "execution_count": 285,
     "metadata": {},
     "output_type": "execute_result"
    }
   ],
   "source": [
    "data_test_predict "
   ]
  },
  {
   "cell_type": "code",
   "execution_count": 216,
   "id": "67e5ef92",
   "metadata": {},
   "outputs": [],
   "source": [
    "data_test_predict = pd.Series(data_test_predict)"
   ]
  },
  {
   "cell_type": "code",
   "execution_count": 217,
   "id": "b592390e",
   "metadata": {},
   "outputs": [],
   "source": [
    "data_result = pd.concat([data_test,data_test_predict],axis = 1)"
   ]
  },
  {
   "cell_type": "code",
   "execution_count": 218,
   "id": "df22cd4f",
   "metadata": {},
   "outputs": [],
   "source": [
    "data_result.to_csv('Lasso.csv',index=False)"
   ]
  },
  {
   "cell_type": "code",
   "execution_count": null,
   "id": "c863ba91",
   "metadata": {},
   "outputs": [],
   "source": []
  },
  {
   "cell_type": "code",
   "execution_count": null,
   "id": "7e30c61b",
   "metadata": {},
   "outputs": [],
   "source": []
  },
  {
   "cell_type": "code",
   "execution_count": null,
   "id": "ffd5ec3b",
   "metadata": {},
   "outputs": [],
   "source": []
  },
  {
   "cell_type": "code",
   "execution_count": null,
   "id": "45d1dc81",
   "metadata": {},
   "outputs": [],
   "source": []
  },
  {
   "cell_type": "code",
   "execution_count": null,
   "id": "8e187a32",
   "metadata": {},
   "outputs": [],
   "source": []
  },
  {
   "cell_type": "markdown",
   "id": "01d771a9",
   "metadata": {},
   "source": [
    "# Elastic Net"
   ]
  },
  {
   "cell_type": "code",
   "execution_count": null,
   "id": "714621f5",
   "metadata": {},
   "outputs": [],
   "source": []
  },
  {
   "cell_type": "code",
   "execution_count": 286,
   "id": "7837556d",
   "metadata": {},
   "outputs": [],
   "source": [
    "Elastic = ElasticNet(alpha = 10)"
   ]
  },
  {
   "cell_type": "code",
   "execution_count": 287,
   "id": "68c2e1db",
   "metadata": {},
   "outputs": [
    {
     "data": {
      "text/html": [
       "<style>#sk-container-id-19 {color: black;background-color: white;}#sk-container-id-19 pre{padding: 0;}#sk-container-id-19 div.sk-toggleable {background-color: white;}#sk-container-id-19 label.sk-toggleable__label {cursor: pointer;display: block;width: 100%;margin-bottom: 0;padding: 0.3em;box-sizing: border-box;text-align: center;}#sk-container-id-19 label.sk-toggleable__label-arrow:before {content: \"▸\";float: left;margin-right: 0.25em;color: #696969;}#sk-container-id-19 label.sk-toggleable__label-arrow:hover:before {color: black;}#sk-container-id-19 div.sk-estimator:hover label.sk-toggleable__label-arrow:before {color: black;}#sk-container-id-19 div.sk-toggleable__content {max-height: 0;max-width: 0;overflow: hidden;text-align: left;background-color: #f0f8ff;}#sk-container-id-19 div.sk-toggleable__content pre {margin: 0.2em;color: black;border-radius: 0.25em;background-color: #f0f8ff;}#sk-container-id-19 input.sk-toggleable__control:checked~div.sk-toggleable__content {max-height: 200px;max-width: 100%;overflow: auto;}#sk-container-id-19 input.sk-toggleable__control:checked~label.sk-toggleable__label-arrow:before {content: \"▾\";}#sk-container-id-19 div.sk-estimator input.sk-toggleable__control:checked~label.sk-toggleable__label {background-color: #d4ebff;}#sk-container-id-19 div.sk-label input.sk-toggleable__control:checked~label.sk-toggleable__label {background-color: #d4ebff;}#sk-container-id-19 input.sk-hidden--visually {border: 0;clip: rect(1px 1px 1px 1px);clip: rect(1px, 1px, 1px, 1px);height: 1px;margin: -1px;overflow: hidden;padding: 0;position: absolute;width: 1px;}#sk-container-id-19 div.sk-estimator {font-family: monospace;background-color: #f0f8ff;border: 1px dotted black;border-radius: 0.25em;box-sizing: border-box;margin-bottom: 0.5em;}#sk-container-id-19 div.sk-estimator:hover {background-color: #d4ebff;}#sk-container-id-19 div.sk-parallel-item::after {content: \"\";width: 100%;border-bottom: 1px solid gray;flex-grow: 1;}#sk-container-id-19 div.sk-label:hover label.sk-toggleable__label {background-color: #d4ebff;}#sk-container-id-19 div.sk-serial::before {content: \"\";position: absolute;border-left: 1px solid gray;box-sizing: border-box;top: 0;bottom: 0;left: 50%;z-index: 0;}#sk-container-id-19 div.sk-serial {display: flex;flex-direction: column;align-items: center;background-color: white;padding-right: 0.2em;padding-left: 0.2em;position: relative;}#sk-container-id-19 div.sk-item {position: relative;z-index: 1;}#sk-container-id-19 div.sk-parallel {display: flex;align-items: stretch;justify-content: center;background-color: white;position: relative;}#sk-container-id-19 div.sk-item::before, #sk-container-id-19 div.sk-parallel-item::before {content: \"\";position: absolute;border-left: 1px solid gray;box-sizing: border-box;top: 0;bottom: 0;left: 50%;z-index: -1;}#sk-container-id-19 div.sk-parallel-item {display: flex;flex-direction: column;z-index: 1;position: relative;background-color: white;}#sk-container-id-19 div.sk-parallel-item:first-child::after {align-self: flex-end;width: 50%;}#sk-container-id-19 div.sk-parallel-item:last-child::after {align-self: flex-start;width: 50%;}#sk-container-id-19 div.sk-parallel-item:only-child::after {width: 0;}#sk-container-id-19 div.sk-dashed-wrapped {border: 1px dashed gray;margin: 0 0.4em 0.5em 0.4em;box-sizing: border-box;padding-bottom: 0.4em;background-color: white;}#sk-container-id-19 div.sk-label label {font-family: monospace;font-weight: bold;display: inline-block;line-height: 1.2em;}#sk-container-id-19 div.sk-label-container {text-align: center;}#sk-container-id-19 div.sk-container {/* jupyter's `normalize.less` sets `[hidden] { display: none; }` but bootstrap.min.css set `[hidden] { display: none !important; }` so we also need the `!important` here to be able to override the default hidden behavior on the sphinx rendered scikit-learn.org. See: https://github.com/scikit-learn/scikit-learn/issues/21755 */display: inline-block !important;position: relative;}#sk-container-id-19 div.sk-text-repr-fallback {display: none;}</style><div id=\"sk-container-id-19\" class=\"sk-top-container\"><div class=\"sk-text-repr-fallback\"><pre>ElasticNet(alpha=10)</pre><b>In a Jupyter environment, please rerun this cell to show the HTML representation or trust the notebook. <br />On GitHub, the HTML representation is unable to render, please try loading this page with nbviewer.org.</b></div><div class=\"sk-container\" hidden><div class=\"sk-item\"><div class=\"sk-estimator sk-toggleable\"><input class=\"sk-toggleable__control sk-hidden--visually\" id=\"sk-estimator-id-19\" type=\"checkbox\" checked><label for=\"sk-estimator-id-19\" class=\"sk-toggleable__label sk-toggleable__label-arrow\">ElasticNet</label><div class=\"sk-toggleable__content\"><pre>ElasticNet(alpha=10)</pre></div></div></div></div></div>"
      ],
      "text/plain": [
       "ElasticNet(alpha=10)"
      ]
     },
     "execution_count": 287,
     "metadata": {},
     "output_type": "execute_result"
    }
   ],
   "source": [
    "Elastic.fit(data_preprocessed_train_x,data_preprocessed_train_y)"
   ]
  },
  {
   "cell_type": "code",
   "execution_count": 288,
   "id": "d65d23e2",
   "metadata": {},
   "outputs": [
    {
     "data": {
      "text/plain": [
       "6398.385729543235"
      ]
     },
     "execution_count": 288,
     "metadata": {},
     "output_type": "execute_result"
    }
   ],
   "source": [
    "Elastic.intercept_"
   ]
  },
  {
   "cell_type": "code",
   "execution_count": 289,
   "id": "19268b77",
   "metadata": {},
   "outputs": [
    {
     "data": {
      "text/plain": [
       "array([ -14.98310612,    2.37022887,   -6.94008101,  -83.05854779,\n",
       "        123.10851997,    4.70346784,   21.83573034,    0.        ,\n",
       "        -43.5871291 ,   -0.        ,   -2.87795766,    0.        ,\n",
       "         -0.        ,  -14.71975529,   45.00381881,   -2.78297346,\n",
       "        -25.28540175,   -2.78305395,   45.00386253,   -0.        ,\n",
       "        -25.28539031,  -14.71975934,    0.        ,  -17.15697562,\n",
       "         17.15700334,   74.80178095,   54.82608167,    1.92943546,\n",
       "          0.        , -133.73815155,    3.00676   ,    0.        ,\n",
       "          0.        ,    2.69656928,    0.        ,  -14.34588474,\n",
       "         25.1208368 ,  -19.19505165,    0.        ,    0.        ,\n",
       "          0.        ,   23.53230511,  -17.28694643,   -3.41538656,\n",
       "         13.48021836,  -14.00977917,   -1.09713901,    0.        ,\n",
       "        -43.36401944,  -22.91269675,   75.04486196,   -6.76816126,\n",
       "          5.25396084])"
      ]
     },
     "execution_count": 289,
     "metadata": {},
     "output_type": "execute_result"
    }
   ],
   "source": [
    "Elastic.coef_"
   ]
  },
  {
   "cell_type": "code",
   "execution_count": 119,
   "id": "2874882e",
   "metadata": {},
   "outputs": [
    {
     "data": {
      "text/plain": [
       "<Axes: >"
      ]
     },
     "execution_count": 119,
     "metadata": {},
     "output_type": "execute_result"
    },
    {
     "data": {
      "image/png": "[encoded data removed]",
      "text/plain": [
       "<Figure size 640x480 with 1 Axes>"
      ]
     },
     "metadata": {},
     "output_type": "display_data"
    }
   ],
   "source": [
    "pd.Series(Elastic.coef_,data_preprocessed_train_x.columns).sort_values(ascending = False).plot(kind = 'bar')"
   ]
  },
  {
   "cell_type": "code",
   "execution_count": 290,
   "id": "39632440",
   "metadata": {},
   "outputs": [],
   "source": [
    "data_train_predict = Elastic.predict(data_preprocessed_train_x)"
   ]
  },
  {
   "cell_type": "code",
   "execution_count": 291,
   "id": "eccff958",
   "metadata": {},
   "outputs": [
    {
     "data": {
      "text/plain": [
       "array([ 7171.25131491,  8823.53826643, 12654.37475565, ...,\n",
       "        7294.65350478,  7243.25836233,  9194.07004234])"
      ]
     },
     "execution_count": 291,
     "metadata": {},
     "output_type": "execute_result"
    }
   ],
   "source": [
    "data_train_predict"
   ]
  },
  {
   "cell_type": "code",
   "execution_count": 292,
   "id": "f560906f",
   "metadata": {},
   "outputs": [],
   "source": [
    "rscore = r2_score(data_preprocessed_train_y , data_train_predict)"
   ]
  },
  {
   "cell_type": "code",
   "execution_count": 293,
   "id": "d0dac29e",
   "metadata": {},
   "outputs": [
    {
     "data": {
      "text/plain": [
       "0.2363292223805611"
      ]
     },
     "execution_count": 293,
     "metadata": {},
     "output_type": "execute_result"
    }
   ],
   "source": [
    "rscore"
   ]
  },
  {
   "cell_type": "markdown",
   "id": "e1a691a8",
   "metadata": {},
   "source": [
    "# Elastic rscore - 0.2363292223805611"
   ]
  },
  {
   "cell_type": "code",
   "execution_count": 154,
   "id": "b7b65efa",
   "metadata": {},
   "outputs": [],
   "source": [
    "data_test_predict = Elastic.predict(data_preprocessed_test_x)"
   ]
  },
  {
   "cell_type": "code",
   "execution_count": 155,
   "id": "cfaaa87b",
   "metadata": {
    "scrolled": true
   },
   "outputs": [
    {
     "data": {
      "text/plain": [
       "array([10098.68944884,  7660.18945576, 14168.14373054, ...,\n",
       "        8844.62696769, 11490.2622936 , 11119.38700347])"
      ]
     },
     "execution_count": 155,
     "metadata": {},
     "output_type": "execute_result"
    }
   ],
   "source": [
    "data_test_predict "
   ]
  },
  {
   "cell_type": "code",
   "execution_count": 156,
   "id": "bad569bc",
   "metadata": {},
   "outputs": [],
   "source": [
    "data_test_predict = pd.Series(data_test_predict)"
   ]
  },
  {
   "cell_type": "code",
   "execution_count": 157,
   "id": "9d4fc6c0",
   "metadata": {},
   "outputs": [],
   "source": [
    "data_result = pd.concat([data_test,data_test_predict],axis = 1)"
   ]
  },
  {
   "cell_type": "code",
   "execution_count": 158,
   "id": "1e6e249d",
   "metadata": {},
   "outputs": [],
   "source": [
    "data_result.to_csv('Elastic.csv',index=False)"
   ]
  },
  {
   "cell_type": "code",
   "execution_count": null,
   "id": "19dd3aed",
   "metadata": {},
   "outputs": [],
   "source": []
  },
  {
   "cell_type": "markdown",
   "id": "02a1d2e7",
   "metadata": {},
   "source": [
    "# Polynomial Linear"
   ]
  },
  {
   "cell_type": "code",
   "execution_count": 294,
   "id": "61ff64a3",
   "metadata": {},
   "outputs": [],
   "source": [
    "Poly = PolynomialFeatures(degree = 2, include_bias=False)"
   ]
  },
  {
   "cell_type": "code",
   "execution_count": 295,
   "id": "e2c689ef",
   "metadata": {},
   "outputs": [
    {
     "data": {
      "text/html": [
       "<style>#sk-container-id-20 {color: black;background-color: white;}#sk-container-id-20 pre{padding: 0;}#sk-container-id-20 div.sk-toggleable {background-color: white;}#sk-container-id-20 label.sk-toggleable__label {cursor: pointer;display: block;width: 100%;margin-bottom: 0;padding: 0.3em;box-sizing: border-box;text-align: center;}#sk-container-id-20 label.sk-toggleable__label-arrow:before {content: \"▸\";float: left;margin-right: 0.25em;color: #696969;}#sk-container-id-20 label.sk-toggleable__label-arrow:hover:before {color: black;}#sk-container-id-20 div.sk-estimator:hover label.sk-toggleable__label-arrow:before {color: black;}#sk-container-id-20 div.sk-toggleable__content {max-height: 0;max-width: 0;overflow: hidden;text-align: left;background-color: #f0f8ff;}#sk-container-id-20 div.sk-toggleable__content pre {margin: 0.2em;color: black;border-radius: 0.25em;background-color: #f0f8ff;}#sk-container-id-20 input.sk-toggleable__control:checked~div.sk-toggleable__content {max-height: 200px;max-width: 100%;overflow: auto;}#sk-container-id-20 input.sk-toggleable__control:checked~label.sk-toggleable__label-arrow:before {content: \"▾\";}#sk-container-id-20 div.sk-estimator input.sk-toggleable__control:checked~label.sk-toggleable__label {background-color: #d4ebff;}#sk-container-id-20 div.sk-label input.sk-toggleable__control:checked~label.sk-toggleable__label {background-color: #d4ebff;}#sk-container-id-20 input.sk-hidden--visually {border: 0;clip: rect(1px 1px 1px 1px);clip: rect(1px, 1px, 1px, 1px);height: 1px;margin: -1px;overflow: hidden;padding: 0;position: absolute;width: 1px;}#sk-container-id-20 div.sk-estimator {font-family: monospace;background-color: #f0f8ff;border: 1px dotted black;border-radius: 0.25em;box-sizing: border-box;margin-bottom: 0.5em;}#sk-container-id-20 div.sk-estimator:hover {background-color: #d4ebff;}#sk-container-id-20 div.sk-parallel-item::after {content: \"\";width: 100%;border-bottom: 1px solid gray;flex-grow: 1;}#sk-container-id-20 div.sk-label:hover label.sk-toggleable__label {background-color: #d4ebff;}#sk-container-id-20 div.sk-serial::before {content: \"\";position: absolute;border-left: 1px solid gray;box-sizing: border-box;top: 0;bottom: 0;left: 50%;z-index: 0;}#sk-container-id-20 div.sk-serial {display: flex;flex-direction: column;align-items: center;background-color: white;padding-right: 0.2em;padding-left: 0.2em;position: relative;}#sk-container-id-20 div.sk-item {position: relative;z-index: 1;}#sk-container-id-20 div.sk-parallel {display: flex;align-items: stretch;justify-content: center;background-color: white;position: relative;}#sk-container-id-20 div.sk-item::before, #sk-container-id-20 div.sk-parallel-item::before {content: \"\";position: absolute;border-left: 1px solid gray;box-sizing: border-box;top: 0;bottom: 0;left: 50%;z-index: -1;}#sk-container-id-20 div.sk-parallel-item {display: flex;flex-direction: column;z-index: 1;position: relative;background-color: white;}#sk-container-id-20 div.sk-parallel-item:first-child::after {align-self: flex-end;width: 50%;}#sk-container-id-20 div.sk-parallel-item:last-child::after {align-self: flex-start;width: 50%;}#sk-container-id-20 div.sk-parallel-item:only-child::after {width: 0;}#sk-container-id-20 div.sk-dashed-wrapped {border: 1px dashed gray;margin: 0 0.4em 0.5em 0.4em;box-sizing: border-box;padding-bottom: 0.4em;background-color: white;}#sk-container-id-20 div.sk-label label {font-family: monospace;font-weight: bold;display: inline-block;line-height: 1.2em;}#sk-container-id-20 div.sk-label-container {text-align: center;}#sk-container-id-20 div.sk-container {/* jupyter's `normalize.less` sets `[hidden] { display: none; }` but bootstrap.min.css set `[hidden] { display: none !important; }` so we also need the `!important` here to be able to override the default hidden behavior on the sphinx rendered scikit-learn.org. See: https://github.com/scikit-learn/scikit-learn/issues/21755 */display: inline-block !important;position: relative;}#sk-container-id-20 div.sk-text-repr-fallback {display: none;}</style><div id=\"sk-container-id-20\" class=\"sk-top-container\"><div class=\"sk-text-repr-fallback\"><pre>PolynomialFeatures(include_bias=False)</pre><b>In a Jupyter environment, please rerun this cell to show the HTML representation or trust the notebook. <br />On GitHub, the HTML representation is unable to render, please try loading this page with nbviewer.org.</b></div><div class=\"sk-container\" hidden><div class=\"sk-item\"><div class=\"sk-estimator sk-toggleable\"><input class=\"sk-toggleable__control sk-hidden--visually\" id=\"sk-estimator-id-20\" type=\"checkbox\" checked><label for=\"sk-estimator-id-20\" class=\"sk-toggleable__label sk-toggleable__label-arrow\">PolynomialFeatures</label><div class=\"sk-toggleable__content\"><pre>PolynomialFeatures(include_bias=False)</pre></div></div></div></div></div>"
      ],
      "text/plain": [
       "PolynomialFeatures(include_bias=False)"
      ]
     },
     "execution_count": 295,
     "metadata": {},
     "output_type": "execute_result"
    }
   ],
   "source": [
    "Poly.fit(data_preprocessed_train_x)"
   ]
  },
  {
   "cell_type": "code",
   "execution_count": 296,
   "id": "c5d20a9b",
   "metadata": {},
   "outputs": [],
   "source": [
    "data_train_poly_x = Poly.transform(data_preprocessed_train_x)"
   ]
  },
  {
   "cell_type": "code",
   "execution_count": 297,
   "id": "bf3ec0f9",
   "metadata": {},
   "outputs": [],
   "source": [
    "data_test_poly_x = Poly.transform(data_preprocessed_test_x)"
   ]
  },
  {
   "cell_type": "code",
   "execution_count": 298,
   "id": "24fa216a",
   "metadata": {},
   "outputs": [],
   "source": [
    "model = LinearRegression()"
   ]
  },
  {
   "cell_type": "code",
   "execution_count": 299,
   "id": "2392f790",
   "metadata": {
    "scrolled": true
   },
   "outputs": [
    {
     "data": {
      "text/html": [
       "<style>#sk-container-id-21 {color: black;background-color: white;}#sk-container-id-21 pre{padding: 0;}#sk-container-id-21 div.sk-toggleable {background-color: white;}#sk-container-id-21 label.sk-toggleable__label {cursor: pointer;display: block;width: 100%;margin-bottom: 0;padding: 0.3em;box-sizing: border-box;text-align: center;}#sk-container-id-21 label.sk-toggleable__label-arrow:before {content: \"▸\";float: left;margin-right: 0.25em;color: #696969;}#sk-container-id-21 label.sk-toggleable__label-arrow:hover:before {color: black;}#sk-container-id-21 div.sk-estimator:hover label.sk-toggleable__label-arrow:before {color: black;}#sk-container-id-21 div.sk-toggleable__content {max-height: 0;max-width: 0;overflow: hidden;text-align: left;background-color: #f0f8ff;}#sk-container-id-21 div.sk-toggleable__content pre {margin: 0.2em;color: black;border-radius: 0.25em;background-color: #f0f8ff;}#sk-container-id-21 input.sk-toggleable__control:checked~div.sk-toggleable__content {max-height: 200px;max-width: 100%;overflow: auto;}#sk-container-id-21 input.sk-toggleable__control:checked~label.sk-toggleable__label-arrow:before {content: \"▾\";}#sk-container-id-21 div.sk-estimator input.sk-toggleable__control:checked~label.sk-toggleable__label {background-color: #d4ebff;}#sk-container-id-21 div.sk-label input.sk-toggleable__control:checked~label.sk-toggleable__label {background-color: #d4ebff;}#sk-container-id-21 input.sk-hidden--visually {border: 0;clip: rect(1px 1px 1px 1px);clip: rect(1px, 1px, 1px, 1px);height: 1px;margin: -1px;overflow: hidden;padding: 0;position: absolute;width: 1px;}#sk-container-id-21 div.sk-estimator {font-family: monospace;background-color: #f0f8ff;border: 1px dotted black;border-radius: 0.25em;box-sizing: border-box;margin-bottom: 0.5em;}#sk-container-id-21 div.sk-estimator:hover {background-color: #d4ebff;}#sk-container-id-21 div.sk-parallel-item::after {content: \"\";width: 100%;border-bottom: 1px solid gray;flex-grow: 1;}#sk-container-id-21 div.sk-label:hover label.sk-toggleable__label {background-color: #d4ebff;}#sk-container-id-21 div.sk-serial::before {content: \"\";position: absolute;border-left: 1px solid gray;box-sizing: border-box;top: 0;bottom: 0;left: 50%;z-index: 0;}#sk-container-id-21 div.sk-serial {display: flex;flex-direction: column;align-items: center;background-color: white;padding-right: 0.2em;padding-left: 0.2em;position: relative;}#sk-container-id-21 div.sk-item {position: relative;z-index: 1;}#sk-container-id-21 div.sk-parallel {display: flex;align-items: stretch;justify-content: center;background-color: white;position: relative;}#sk-container-id-21 div.sk-item::before, #sk-container-id-21 div.sk-parallel-item::before {content: \"\";position: absolute;border-left: 1px solid gray;box-sizing: border-box;top: 0;bottom: 0;left: 50%;z-index: -1;}#sk-container-id-21 div.sk-parallel-item {display: flex;flex-direction: column;z-index: 1;position: relative;background-color: white;}#sk-container-id-21 div.sk-parallel-item:first-child::after {align-self: flex-end;width: 50%;}#sk-container-id-21 div.sk-parallel-item:last-child::after {align-self: flex-start;width: 50%;}#sk-container-id-21 div.sk-parallel-item:only-child::after {width: 0;}#sk-container-id-21 div.sk-dashed-wrapped {border: 1px dashed gray;margin: 0 0.4em 0.5em 0.4em;box-sizing: border-box;padding-bottom: 0.4em;background-color: white;}#sk-container-id-21 div.sk-label label {font-family: monospace;font-weight: bold;display: inline-block;line-height: 1.2em;}#sk-container-id-21 div.sk-label-container {text-align: center;}#sk-container-id-21 div.sk-container {/* jupyter's `normalize.less` sets `[hidden] { display: none; }` but bootstrap.min.css set `[hidden] { display: none !important; }` so we also need the `!important` here to be able to override the default hidden behavior on the sphinx rendered scikit-learn.org. See: https://github.com/scikit-learn/scikit-learn/issues/21755 */display: inline-block !important;position: relative;}#sk-container-id-21 div.sk-text-repr-fallback {display: none;}</style><div id=\"sk-container-id-21\" class=\"sk-top-container\"><div class=\"sk-text-repr-fallback\"><pre>LinearRegression()</pre><b>In a Jupyter environment, please rerun this cell to show the HTML representation or trust the notebook. <br />On GitHub, the HTML representation is unable to render, please try loading this page with nbviewer.org.</b></div><div class=\"sk-container\" hidden><div class=\"sk-item\"><div class=\"sk-estimator sk-toggleable\"><input class=\"sk-toggleable__control sk-hidden--visually\" id=\"sk-estimator-id-21\" type=\"checkbox\" checked><label for=\"sk-estimator-id-21\" class=\"sk-toggleable__label sk-toggleable__label-arrow\">LinearRegression</label><div class=\"sk-toggleable__content\"><pre>LinearRegression()</pre></div></div></div></div></div>"
      ],
      "text/plain": [
       "LinearRegression()"
      ]
     },
     "execution_count": 299,
     "metadata": {},
     "output_type": "execute_result"
    }
   ],
   "source": [
    "model.fit(data_train_poly_x,data_preprocessed_train_y)"
   ]
  },
  {
   "cell_type": "code",
   "execution_count": 300,
   "id": "181a90bc",
   "metadata": {},
   "outputs": [
    {
     "data": {
      "text/plain": [
       "12948.793665948466"
      ]
     },
     "execution_count": 300,
     "metadata": {},
     "output_type": "execute_result"
    }
   ],
   "source": [
    "model.intercept_"
   ]
  },
  {
   "cell_type": "code",
   "execution_count": 301,
   "id": "fb45f695",
   "metadata": {},
   "outputs": [
    {
     "data": {
      "text/plain": [
       "array([-4.87603924e+02, -3.06998916e+02,  1.86469837e+01, ...,\n",
       "       -1.81772380e+01,  6.11198351e-01, -6.81719916e-04])"
      ]
     },
     "execution_count": 301,
     "metadata": {},
     "output_type": "execute_result"
    }
   ],
   "source": [
    "model.coef_"
   ]
  },
  {
   "cell_type": "code",
   "execution_count": 302,
   "id": "dbd9a4f9",
   "metadata": {},
   "outputs": [],
   "source": [
    "data_train_predict = model.predict(data_train_poly_x)"
   ]
  },
  {
   "cell_type": "code",
   "execution_count": 303,
   "id": "947038e6",
   "metadata": {},
   "outputs": [
    {
     "data": {
      "text/plain": [
       "array([ 7199.12206349, 12312.41863973, 14319.35143112, ...,\n",
       "        6956.90617061, 11326.61249721, 11765.56479723])"
      ]
     },
     "execution_count": 303,
     "metadata": {},
     "output_type": "execute_result"
    }
   ],
   "source": [
    "data_train_predict"
   ]
  },
  {
   "cell_type": "code",
   "execution_count": 304,
   "id": "fb622d27",
   "metadata": {},
   "outputs": [],
   "source": [
    "rscore = r2_score(data_preprocessed_train_y , data_train_predict)"
   ]
  },
  {
   "cell_type": "code",
   "execution_count": 305,
   "id": "dd2d4682",
   "metadata": {},
   "outputs": [
    {
     "data": {
      "text/plain": [
       "0.8054471532892965"
      ]
     },
     "execution_count": 305,
     "metadata": {},
     "output_type": "execute_result"
    }
   ],
   "source": [
    "rscore"
   ]
  },
  {
   "cell_type": "markdown",
   "id": "59719c50",
   "metadata": {},
   "source": [
    "# Polynomial rscore - 0.8054471532892965"
   ]
  },
  {
   "cell_type": "code",
   "execution_count": null,
   "id": "805da30c",
   "metadata": {},
   "outputs": [],
   "source": []
  },
  {
   "cell_type": "code",
   "execution_count": 169,
   "id": "eb7e4ac3",
   "metadata": {},
   "outputs": [],
   "source": [
    "data_test_predict = model.predict(data_test_poly_x)"
   ]
  },
  {
   "cell_type": "code",
   "execution_count": 170,
   "id": "10ff8e98",
   "metadata": {},
   "outputs": [
    {
     "data": {
      "text/plain": [
       "array([12726.89667109,  6508.74709056, 10288.46630713, ...,\n",
       "       13158.21070425,  9411.76974042,  8381.88169252])"
      ]
     },
     "execution_count": 170,
     "metadata": {},
     "output_type": "execute_result"
    }
   ],
   "source": [
    "data_test_predict"
   ]
  },
  {
   "cell_type": "code",
   "execution_count": 171,
   "id": "52d518ae",
   "metadata": {},
   "outputs": [],
   "source": [
    "data_test_predict =pd.Series(data_test_predict)"
   ]
  },
  {
   "cell_type": "code",
   "execution_count": 172,
   "id": "79aef342",
   "metadata": {},
   "outputs": [],
   "source": [
    "data_result = pd.concat([data_test,data_test_predict],axis = 1)"
   ]
  },
  {
   "cell_type": "code",
   "execution_count": 173,
   "id": "7cfcb2ce",
   "metadata": {},
   "outputs": [],
   "source": [
    "data_result.to_csv('Poly.csv',index=False)"
   ]
  },
  {
   "cell_type": "markdown",
   "id": "1e653f65",
   "metadata": {},
   "source": [
    "# Polynomial Ridge"
   ]
  },
  {
   "cell_type": "code",
   "execution_count": 306,
   "id": "459aa2d9",
   "metadata": {},
   "outputs": [],
   "source": [
    "ridge = Ridge(alpha = 10)"
   ]
  },
  {
   "cell_type": "code",
   "execution_count": 307,
   "id": "7f0fe0a2",
   "metadata": {
    "scrolled": true
   },
   "outputs": [
    {
     "data": {
      "text/html": [
       "<style>#sk-container-id-22 {color: black;background-color: white;}#sk-container-id-22 pre{padding: 0;}#sk-container-id-22 div.sk-toggleable {background-color: white;}#sk-container-id-22 label.sk-toggleable__label {cursor: pointer;display: block;width: 100%;margin-bottom: 0;padding: 0.3em;box-sizing: border-box;text-align: center;}#sk-container-id-22 label.sk-toggleable__label-arrow:before {content: \"▸\";float: left;margin-right: 0.25em;color: #696969;}#sk-container-id-22 label.sk-toggleable__label-arrow:hover:before {color: black;}#sk-container-id-22 div.sk-estimator:hover label.sk-toggleable__label-arrow:before {color: black;}#sk-container-id-22 div.sk-toggleable__content {max-height: 0;max-width: 0;overflow: hidden;text-align: left;background-color: #f0f8ff;}#sk-container-id-22 div.sk-toggleable__content pre {margin: 0.2em;color: black;border-radius: 0.25em;background-color: #f0f8ff;}#sk-container-id-22 input.sk-toggleable__control:checked~div.sk-toggleable__content {max-height: 200px;max-width: 100%;overflow: auto;}#sk-container-id-22 input.sk-toggleable__control:checked~label.sk-toggleable__label-arrow:before {content: \"▾\";}#sk-container-id-22 div.sk-estimator input.sk-toggleable__control:checked~label.sk-toggleable__label {background-color: #d4ebff;}#sk-container-id-22 div.sk-label input.sk-toggleable__control:checked~label.sk-toggleable__label {background-color: #d4ebff;}#sk-container-id-22 input.sk-hidden--visually {border: 0;clip: rect(1px 1px 1px 1px);clip: rect(1px, 1px, 1px, 1px);height: 1px;margin: -1px;overflow: hidden;padding: 0;position: absolute;width: 1px;}#sk-container-id-22 div.sk-estimator {font-family: monospace;background-color: #f0f8ff;border: 1px dotted black;border-radius: 0.25em;box-sizing: border-box;margin-bottom: 0.5em;}#sk-container-id-22 div.sk-estimator:hover {background-color: #d4ebff;}#sk-container-id-22 div.sk-parallel-item::after {content: \"\";width: 100%;border-bottom: 1px solid gray;flex-grow: 1;}#sk-container-id-22 div.sk-label:hover label.sk-toggleable__label {background-color: #d4ebff;}#sk-container-id-22 div.sk-serial::before {content: \"\";position: absolute;border-left: 1px solid gray;box-sizing: border-box;top: 0;bottom: 0;left: 50%;z-index: 0;}#sk-container-id-22 div.sk-serial {display: flex;flex-direction: column;align-items: center;background-color: white;padding-right: 0.2em;padding-left: 0.2em;position: relative;}#sk-container-id-22 div.sk-item {position: relative;z-index: 1;}#sk-container-id-22 div.sk-parallel {display: flex;align-items: stretch;justify-content: center;background-color: white;position: relative;}#sk-container-id-22 div.sk-item::before, #sk-container-id-22 div.sk-parallel-item::before {content: \"\";position: absolute;border-left: 1px solid gray;box-sizing: border-box;top: 0;bottom: 0;left: 50%;z-index: -1;}#sk-container-id-22 div.sk-parallel-item {display: flex;flex-direction: column;z-index: 1;position: relative;background-color: white;}#sk-container-id-22 div.sk-parallel-item:first-child::after {align-self: flex-end;width: 50%;}#sk-container-id-22 div.sk-parallel-item:last-child::after {align-self: flex-start;width: 50%;}#sk-container-id-22 div.sk-parallel-item:only-child::after {width: 0;}#sk-container-id-22 div.sk-dashed-wrapped {border: 1px dashed gray;margin: 0 0.4em 0.5em 0.4em;box-sizing: border-box;padding-bottom: 0.4em;background-color: white;}#sk-container-id-22 div.sk-label label {font-family: monospace;font-weight: bold;display: inline-block;line-height: 1.2em;}#sk-container-id-22 div.sk-label-container {text-align: center;}#sk-container-id-22 div.sk-container {/* jupyter's `normalize.less` sets `[hidden] { display: none; }` but bootstrap.min.css set `[hidden] { display: none !important; }` so we also need the `!important` here to be able to override the default hidden behavior on the sphinx rendered scikit-learn.org. See: https://github.com/scikit-learn/scikit-learn/issues/21755 */display: inline-block !important;position: relative;}#sk-container-id-22 div.sk-text-repr-fallback {display: none;}</style><div id=\"sk-container-id-22\" class=\"sk-top-container\"><div class=\"sk-text-repr-fallback\"><pre>Ridge(alpha=10)</pre><b>In a Jupyter environment, please rerun this cell to show the HTML representation or trust the notebook. <br />On GitHub, the HTML representation is unable to render, please try loading this page with nbviewer.org.</b></div><div class=\"sk-container\" hidden><div class=\"sk-item\"><div class=\"sk-estimator sk-toggleable\"><input class=\"sk-toggleable__control sk-hidden--visually\" id=\"sk-estimator-id-22\" type=\"checkbox\" checked><label for=\"sk-estimator-id-22\" class=\"sk-toggleable__label sk-toggleable__label-arrow\">Ridge</label><div class=\"sk-toggleable__content\"><pre>Ridge(alpha=10)</pre></div></div></div></div></div>"
      ],
      "text/plain": [
       "Ridge(alpha=10)"
      ]
     },
     "execution_count": 307,
     "metadata": {},
     "output_type": "execute_result"
    }
   ],
   "source": [
    "ridge.fit(data_train_poly_x,data_preprocessed_train_y)"
   ]
  },
  {
   "cell_type": "code",
   "execution_count": 308,
   "id": "80e1c9e5",
   "metadata": {},
   "outputs": [],
   "source": [
    "data_train_predict = ridge.predict(data_train_poly_x)"
   ]
  },
  {
   "cell_type": "code",
   "execution_count": 309,
   "id": "3ea2b36e",
   "metadata": {},
   "outputs": [
    {
     "data": {
      "text/plain": [
       "array([ 7136.07636071, 12362.1587198 , 14217.18898977, ...,\n",
       "        7038.81822302, 11022.07788466, 11807.04521042])"
      ]
     },
     "execution_count": 309,
     "metadata": {},
     "output_type": "execute_result"
    }
   ],
   "source": [
    "data_train_predict"
   ]
  },
  {
   "cell_type": "code",
   "execution_count": 310,
   "id": "0993c737",
   "metadata": {},
   "outputs": [],
   "source": [
    "rscore = r2_score(data_preprocessed_train_y , data_train_predict)"
   ]
  },
  {
   "cell_type": "code",
   "execution_count": 311,
   "id": "9b190a2e",
   "metadata": {},
   "outputs": [
    {
     "data": {
      "text/plain": [
       "0.8022494310125693"
      ]
     },
     "execution_count": 311,
     "metadata": {},
     "output_type": "execute_result"
    }
   ],
   "source": [
    "rscore"
   ]
  },
  {
   "cell_type": "markdown",
   "id": "27955041",
   "metadata": {},
   "source": [
    "# PolyRidge Rscore - 0.8022494310125693"
   ]
  },
  {
   "cell_type": "code",
   "execution_count": 184,
   "id": "8f8af976",
   "metadata": {},
   "outputs": [],
   "source": [
    "data_test_predict = ridge.predict(data_test_poly_x)"
   ]
  },
  {
   "cell_type": "code",
   "execution_count": 185,
   "id": "98a89a43",
   "metadata": {},
   "outputs": [
    {
     "data": {
      "text/plain": [
       "array([11369.70749499,  5951.39602699,  6909.27879807, ...,\n",
       "       12838.53956265,  7260.83079487,  6276.48677699])"
      ]
     },
     "execution_count": 185,
     "metadata": {},
     "output_type": "execute_result"
    }
   ],
   "source": [
    "data_test_predict"
   ]
  },
  {
   "cell_type": "code",
   "execution_count": 186,
   "id": "7f5a870f",
   "metadata": {},
   "outputs": [],
   "source": [
    "data_test_predict =pd.Series(data_test_predict)"
   ]
  },
  {
   "cell_type": "code",
   "execution_count": 188,
   "id": "4df677c2",
   "metadata": {},
   "outputs": [],
   "source": [
    "data_result = pd.concat([data_test,data_test_predict],axis = 1)"
   ]
  },
  {
   "cell_type": "code",
   "execution_count": 189,
   "id": "d1eea46f",
   "metadata": {},
   "outputs": [],
   "source": [
    "data_result.to_csv('PolyRidge.csv',index=False)"
   ]
  },
  {
   "cell_type": "code",
   "execution_count": null,
   "id": "b8df4543",
   "metadata": {},
   "outputs": [],
   "source": []
  },
  {
   "cell_type": "markdown",
   "id": "35256ef5",
   "metadata": {},
   "source": [
    "# PolyLasso"
   ]
  },
  {
   "cell_type": "code",
   "execution_count": 312,
   "id": "3a94dedc",
   "metadata": {},
   "outputs": [],
   "source": [
    "from sklearn.linear_model import Lasso"
   ]
  },
  {
   "cell_type": "code",
   "execution_count": 313,
   "id": "e87323fe",
   "metadata": {},
   "outputs": [],
   "source": [
    "lasso = Lasso(alpha = 10)"
   ]
  },
  {
   "cell_type": "code",
   "execution_count": 314,
   "id": "c61e6977",
   "metadata": {
    "scrolled": true
   },
   "outputs": [
    {
     "data": {
      "text/html": [
       "<style>#sk-container-id-23 {color: black;background-color: white;}#sk-container-id-23 pre{padding: 0;}#sk-container-id-23 div.sk-toggleable {background-color: white;}#sk-container-id-23 label.sk-toggleable__label {cursor: pointer;display: block;width: 100%;margin-bottom: 0;padding: 0.3em;box-sizing: border-box;text-align: center;}#sk-container-id-23 label.sk-toggleable__label-arrow:before {content: \"▸\";float: left;margin-right: 0.25em;color: #696969;}#sk-container-id-23 label.sk-toggleable__label-arrow:hover:before {color: black;}#sk-container-id-23 div.sk-estimator:hover label.sk-toggleable__label-arrow:before {color: black;}#sk-container-id-23 div.sk-toggleable__content {max-height: 0;max-width: 0;overflow: hidden;text-align: left;background-color: #f0f8ff;}#sk-container-id-23 div.sk-toggleable__content pre {margin: 0.2em;color: black;border-radius: 0.25em;background-color: #f0f8ff;}#sk-container-id-23 input.sk-toggleable__control:checked~div.sk-toggleable__content {max-height: 200px;max-width: 100%;overflow: auto;}#sk-container-id-23 input.sk-toggleable__control:checked~label.sk-toggleable__label-arrow:before {content: \"▾\";}#sk-container-id-23 div.sk-estimator input.sk-toggleable__control:checked~label.sk-toggleable__label {background-color: #d4ebff;}#sk-container-id-23 div.sk-label input.sk-toggleable__control:checked~label.sk-toggleable__label {background-color: #d4ebff;}#sk-container-id-23 input.sk-hidden--visually {border: 0;clip: rect(1px 1px 1px 1px);clip: rect(1px, 1px, 1px, 1px);height: 1px;margin: -1px;overflow: hidden;padding: 0;position: absolute;width: 1px;}#sk-container-id-23 div.sk-estimator {font-family: monospace;background-color: #f0f8ff;border: 1px dotted black;border-radius: 0.25em;box-sizing: border-box;margin-bottom: 0.5em;}#sk-container-id-23 div.sk-estimator:hover {background-color: #d4ebff;}#sk-container-id-23 div.sk-parallel-item::after {content: \"\";width: 100%;border-bottom: 1px solid gray;flex-grow: 1;}#sk-container-id-23 div.sk-label:hover label.sk-toggleable__label {background-color: #d4ebff;}#sk-container-id-23 div.sk-serial::before {content: \"\";position: absolute;border-left: 1px solid gray;box-sizing: border-box;top: 0;bottom: 0;left: 50%;z-index: 0;}#sk-container-id-23 div.sk-serial {display: flex;flex-direction: column;align-items: center;background-color: white;padding-right: 0.2em;padding-left: 0.2em;position: relative;}#sk-container-id-23 div.sk-item {position: relative;z-index: 1;}#sk-container-id-23 div.sk-parallel {display: flex;align-items: stretch;justify-content: center;background-color: white;position: relative;}#sk-container-id-23 div.sk-item::before, #sk-container-id-23 div.sk-parallel-item::before {content: \"\";position: absolute;border-left: 1px solid gray;box-sizing: border-box;top: 0;bottom: 0;left: 50%;z-index: -1;}#sk-container-id-23 div.sk-parallel-item {display: flex;flex-direction: column;z-index: 1;position: relative;background-color: white;}#sk-container-id-23 div.sk-parallel-item:first-child::after {align-self: flex-end;width: 50%;}#sk-container-id-23 div.sk-parallel-item:last-child::after {align-self: flex-start;width: 50%;}#sk-container-id-23 div.sk-parallel-item:only-child::after {width: 0;}#sk-container-id-23 div.sk-dashed-wrapped {border: 1px dashed gray;margin: 0 0.4em 0.5em 0.4em;box-sizing: border-box;padding-bottom: 0.4em;background-color: white;}#sk-container-id-23 div.sk-label label {font-family: monospace;font-weight: bold;display: inline-block;line-height: 1.2em;}#sk-container-id-23 div.sk-label-container {text-align: center;}#sk-container-id-23 div.sk-container {/* jupyter's `normalize.less` sets `[hidden] { display: none; }` but bootstrap.min.css set `[hidden] { display: none !important; }` so we also need the `!important` here to be able to override the default hidden behavior on the sphinx rendered scikit-learn.org. See: https://github.com/scikit-learn/scikit-learn/issues/21755 */display: inline-block !important;position: relative;}#sk-container-id-23 div.sk-text-repr-fallback {display: none;}</style><div id=\"sk-container-id-23\" class=\"sk-top-container\"><div class=\"sk-text-repr-fallback\"><pre>Lasso(alpha=10)</pre><b>In a Jupyter environment, please rerun this cell to show the HTML representation or trust the notebook. <br />On GitHub, the HTML representation is unable to render, please try loading this page with nbviewer.org.</b></div><div class=\"sk-container\" hidden><div class=\"sk-item\"><div class=\"sk-estimator sk-toggleable\"><input class=\"sk-toggleable__control sk-hidden--visually\" id=\"sk-estimator-id-23\" type=\"checkbox\" checked><label for=\"sk-estimator-id-23\" class=\"sk-toggleable__label sk-toggleable__label-arrow\">Lasso</label><div class=\"sk-toggleable__content\"><pre>Lasso(alpha=10)</pre></div></div></div></div></div>"
      ],
      "text/plain": [
       "Lasso(alpha=10)"
      ]
     },
     "execution_count": 314,
     "metadata": {},
     "output_type": "execute_result"
    }
   ],
   "source": [
    "lasso.fit(data_train_poly_x,data_preprocessed_train_y)"
   ]
  },
  {
   "cell_type": "code",
   "execution_count": 315,
   "id": "4642808c",
   "metadata": {},
   "outputs": [],
   "source": [
    "data_train_predict = lasso.predict(data_train_poly_x)"
   ]
  },
  {
   "cell_type": "code",
   "execution_count": 316,
   "id": "873537da",
   "metadata": {},
   "outputs": [
    {
     "data": {
      "text/plain": [
       "array([ 6727.44689227, 11850.09280183, 15053.69399055, ...,\n",
       "        7529.82101412,  9918.68048528, 12219.54125895])"
      ]
     },
     "execution_count": 316,
     "metadata": {},
     "output_type": "execute_result"
    }
   ],
   "source": [
    "data_train_predict"
   ]
  },
  {
   "cell_type": "code",
   "execution_count": 317,
   "id": "8ceae271",
   "metadata": {},
   "outputs": [],
   "source": [
    "rscore = r2_score(data_preprocessed_train_y , data_train_predict)"
   ]
  },
  {
   "cell_type": "code",
   "execution_count": 318,
   "id": "00c5ef46",
   "metadata": {},
   "outputs": [
    {
     "data": {
      "text/plain": [
       "0.7700225678667987"
      ]
     },
     "execution_count": 318,
     "metadata": {},
     "output_type": "execute_result"
    }
   ],
   "source": [
    "rscore"
   ]
  },
  {
   "cell_type": "markdown",
   "id": "883af701",
   "metadata": {},
   "source": [
    "# polyLasso rscore 0.7700225678667987"
   ]
  },
  {
   "cell_type": "code",
   "execution_count": 232,
   "id": "908c56fd",
   "metadata": {},
   "outputs": [],
   "source": [
    "data_test_predict = lasso.predict(data_test_poly_x)"
   ]
  },
  {
   "cell_type": "code",
   "execution_count": 233,
   "id": "ae2198f1",
   "metadata": {},
   "outputs": [
    {
     "data": {
      "text/plain": [
       "array([14523.36891791,  6629.64461824, 11483.56960214, ...,\n",
       "       15992.58028955, 10236.56137995, 10665.10959841])"
      ]
     },
     "execution_count": 233,
     "metadata": {},
     "output_type": "execute_result"
    }
   ],
   "source": [
    "data_test_predict"
   ]
  },
  {
   "cell_type": "code",
   "execution_count": 234,
   "id": "99215ae5",
   "metadata": {},
   "outputs": [],
   "source": [
    "data_test_predict =pd.Series(data_test_predict)"
   ]
  },
  {
   "cell_type": "code",
   "execution_count": 235,
   "id": "034891f4",
   "metadata": {},
   "outputs": [],
   "source": [
    "data_result = pd.concat([data_test,data_test_predict],axis = 1)"
   ]
  },
  {
   "cell_type": "code",
   "execution_count": 236,
   "id": "b4e43b13",
   "metadata": {},
   "outputs": [],
   "source": [
    "data_result.to_csv('PolyLasso.csv',index=False)"
   ]
  },
  {
   "cell_type": "code",
   "execution_count": null,
   "id": "245e92ee",
   "metadata": {},
   "outputs": [],
   "source": []
  },
  {
   "cell_type": "markdown",
   "id": "4edf1368",
   "metadata": {},
   "source": [
    "# polyElasticNet"
   ]
  },
  {
   "cell_type": "code",
   "execution_count": 319,
   "id": "82a4092f",
   "metadata": {},
   "outputs": [],
   "source": [
    "elastic = ElasticNet(alpha = 10)"
   ]
  },
  {
   "cell_type": "code",
   "execution_count": 320,
   "id": "4f03b876",
   "metadata": {
    "scrolled": true
   },
   "outputs": [
    {
     "data": {
      "text/html": [
       "<style>#sk-container-id-24 {color: black;background-color: white;}#sk-container-id-24 pre{padding: 0;}#sk-container-id-24 div.sk-toggleable {background-color: white;}#sk-container-id-24 label.sk-toggleable__label {cursor: pointer;display: block;width: 100%;margin-bottom: 0;padding: 0.3em;box-sizing: border-box;text-align: center;}#sk-container-id-24 label.sk-toggleable__label-arrow:before {content: \"▸\";float: left;margin-right: 0.25em;color: #696969;}#sk-container-id-24 label.sk-toggleable__label-arrow:hover:before {color: black;}#sk-container-id-24 div.sk-estimator:hover label.sk-toggleable__label-arrow:before {color: black;}#sk-container-id-24 div.sk-toggleable__content {max-height: 0;max-width: 0;overflow: hidden;text-align: left;background-color: #f0f8ff;}#sk-container-id-24 div.sk-toggleable__content pre {margin: 0.2em;color: black;border-radius: 0.25em;background-color: #f0f8ff;}#sk-container-id-24 input.sk-toggleable__control:checked~div.sk-toggleable__content {max-height: 200px;max-width: 100%;overflow: auto;}#sk-container-id-24 input.sk-toggleable__control:checked~label.sk-toggleable__label-arrow:before {content: \"▾\";}#sk-container-id-24 div.sk-estimator input.sk-toggleable__control:checked~label.sk-toggleable__label {background-color: #d4ebff;}#sk-container-id-24 div.sk-label input.sk-toggleable__control:checked~label.sk-toggleable__label {background-color: #d4ebff;}#sk-container-id-24 input.sk-hidden--visually {border: 0;clip: rect(1px 1px 1px 1px);clip: rect(1px, 1px, 1px, 1px);height: 1px;margin: -1px;overflow: hidden;padding: 0;position: absolute;width: 1px;}#sk-container-id-24 div.sk-estimator {font-family: monospace;background-color: #f0f8ff;border: 1px dotted black;border-radius: 0.25em;box-sizing: border-box;margin-bottom: 0.5em;}#sk-container-id-24 div.sk-estimator:hover {background-color: #d4ebff;}#sk-container-id-24 div.sk-parallel-item::after {content: \"\";width: 100%;border-bottom: 1px solid gray;flex-grow: 1;}#sk-container-id-24 div.sk-label:hover label.sk-toggleable__label {background-color: #d4ebff;}#sk-container-id-24 div.sk-serial::before {content: \"\";position: absolute;border-left: 1px solid gray;box-sizing: border-box;top: 0;bottom: 0;left: 50%;z-index: 0;}#sk-container-id-24 div.sk-serial {display: flex;flex-direction: column;align-items: center;background-color: white;padding-right: 0.2em;padding-left: 0.2em;position: relative;}#sk-container-id-24 div.sk-item {position: relative;z-index: 1;}#sk-container-id-24 div.sk-parallel {display: flex;align-items: stretch;justify-content: center;background-color: white;position: relative;}#sk-container-id-24 div.sk-item::before, #sk-container-id-24 div.sk-parallel-item::before {content: \"\";position: absolute;border-left: 1px solid gray;box-sizing: border-box;top: 0;bottom: 0;left: 50%;z-index: -1;}#sk-container-id-24 div.sk-parallel-item {display: flex;flex-direction: column;z-index: 1;position: relative;background-color: white;}#sk-container-id-24 div.sk-parallel-item:first-child::after {align-self: flex-end;width: 50%;}#sk-container-id-24 div.sk-parallel-item:last-child::after {align-self: flex-start;width: 50%;}#sk-container-id-24 div.sk-parallel-item:only-child::after {width: 0;}#sk-container-id-24 div.sk-dashed-wrapped {border: 1px dashed gray;margin: 0 0.4em 0.5em 0.4em;box-sizing: border-box;padding-bottom: 0.4em;background-color: white;}#sk-container-id-24 div.sk-label label {font-family: monospace;font-weight: bold;display: inline-block;line-height: 1.2em;}#sk-container-id-24 div.sk-label-container {text-align: center;}#sk-container-id-24 div.sk-container {/* jupyter's `normalize.less` sets `[hidden] { display: none; }` but bootstrap.min.css set `[hidden] { display: none !important; }` so we also need the `!important` here to be able to override the default hidden behavior on the sphinx rendered scikit-learn.org. See: https://github.com/scikit-learn/scikit-learn/issues/21755 */display: inline-block !important;position: relative;}#sk-container-id-24 div.sk-text-repr-fallback {display: none;}</style><div id=\"sk-container-id-24\" class=\"sk-top-container\"><div class=\"sk-text-repr-fallback\"><pre>ElasticNet(alpha=10)</pre><b>In a Jupyter environment, please rerun this cell to show the HTML representation or trust the notebook. <br />On GitHub, the HTML representation is unable to render, please try loading this page with nbviewer.org.</b></div><div class=\"sk-container\" hidden><div class=\"sk-item\"><div class=\"sk-estimator sk-toggleable\"><input class=\"sk-toggleable__control sk-hidden--visually\" id=\"sk-estimator-id-24\" type=\"checkbox\" checked><label for=\"sk-estimator-id-24\" class=\"sk-toggleable__label sk-toggleable__label-arrow\">ElasticNet</label><div class=\"sk-toggleable__content\"><pre>ElasticNet(alpha=10)</pre></div></div></div></div></div>"
      ],
      "text/plain": [
       "ElasticNet(alpha=10)"
      ]
     },
     "execution_count": 320,
     "metadata": {},
     "output_type": "execute_result"
    }
   ],
   "source": [
    "elastic.fit(data_train_poly_x,data_preprocessed_train_y)"
   ]
  },
  {
   "cell_type": "code",
   "execution_count": 321,
   "id": "375c6db9",
   "metadata": {},
   "outputs": [],
   "source": [
    "data_train_predict = elastic.predict(data_train_poly_x)"
   ]
  },
  {
   "cell_type": "code",
   "execution_count": 322,
   "id": "f48f0bdd",
   "metadata": {},
   "outputs": [
    {
     "data": {
      "text/plain": [
       "array([ 5264.41566203, 11052.34362833, 17114.37136504, ...,\n",
       "        6044.50419033,  6858.10762789, 11170.54602362])"
      ]
     },
     "execution_count": 322,
     "metadata": {},
     "output_type": "execute_result"
    }
   ],
   "source": [
    "data_train_predict"
   ]
  },
  {
   "cell_type": "code",
   "execution_count": 317,
   "id": "40cac69b",
   "metadata": {},
   "outputs": [],
   "source": [
    "rscore = r2_score(data_preprocessed_train_y , data_train_predict)"
   ]
  },
  {
   "cell_type": "code",
   "execution_count": 323,
   "id": "c9fb2eb2",
   "metadata": {},
   "outputs": [
    {
     "data": {
      "text/plain": [
       "0.7700225678667987"
      ]
     },
     "execution_count": 323,
     "metadata": {},
     "output_type": "execute_result"
    }
   ],
   "source": [
    "rscore"
   ]
  },
  {
   "cell_type": "markdown",
   "id": "4a66cbae",
   "metadata": {},
   "source": [
    "# PolyElastic rscore 0.7700225678667987"
   ]
  },
  {
   "cell_type": "code",
   "execution_count": 242,
   "id": "372148a5",
   "metadata": {},
   "outputs": [],
   "source": [
    "data_test_predict = elastic.predict(data_test_poly_x)"
   ]
  },
  {
   "cell_type": "code",
   "execution_count": 243,
   "id": "f558faf1",
   "metadata": {},
   "outputs": [
    {
     "data": {
      "text/plain": [
       "array([11836.55101431,  8265.82700352,  6532.27421377, ...,\n",
       "       12254.54608105,  9813.80580673,  9327.69665544])"
      ]
     },
     "execution_count": 243,
     "metadata": {},
     "output_type": "execute_result"
    }
   ],
   "source": [
    "data_test_predict"
   ]
  },
  {
   "cell_type": "code",
   "execution_count": 244,
   "id": "bc584380",
   "metadata": {},
   "outputs": [],
   "source": [
    "data_test_predict =pd.Series(data_test_predict)"
   ]
  },
  {
   "cell_type": "code",
   "execution_count": 245,
   "id": "27ee3d13",
   "metadata": {},
   "outputs": [],
   "source": [
    "data_result = pd.concat([data_test,data_test_predict],axis = 1)"
   ]
  },
  {
   "cell_type": "code",
   "execution_count": 246,
   "id": "d4ee0ebb",
   "metadata": {},
   "outputs": [],
   "source": [
    "data_result.to_csv('PolyElastic.csv',index=False)"
   ]
  },
  {
   "cell_type": "code",
   "execution_count": null,
   "id": "eaf68ff1",
   "metadata": {},
   "outputs": [],
   "source": []
  },
  {
   "cell_type": "code",
   "execution_count": null,
   "id": "35e244c4",
   "metadata": {},
   "outputs": [],
   "source": []
  },
  {
   "cell_type": "markdown",
   "id": "980a20b0",
   "metadata": {},
   "source": [
    "# Linear rscore - 0.6356770941879961"
   ]
  },
  {
   "cell_type": "markdown",
   "id": "b4fbfbfd",
   "metadata": {},
   "source": [
    "# Ridge rscore - 0.680991000173317"
   ]
  },
  {
   "cell_type": "markdown",
   "id": "eceb337b",
   "metadata": {},
   "source": [
    "# Lasso rscore - 0.6805966634577599"
   ]
  },
  {
   "cell_type": "markdown",
   "id": "e4269e15",
   "metadata": {},
   "source": [
    "# Elastic rscore - 0.2363292223805611"
   ]
  },
  {
   "cell_type": "markdown",
   "id": "0c2a1b8b",
   "metadata": {},
   "source": [
    "# Polynomial rscore - 0.8054471532892965"
   ]
  },
  {
   "cell_type": "markdown",
   "id": "18d4d2a6",
   "metadata": {},
   "source": [
    "# polyLasso rscore 0.7700225678667987"
   ]
  },
  {
   "cell_type": "markdown",
   "id": "039e0968",
   "metadata": {},
   "source": [
    "# PolyRidge Rscore - 0.8022494310125693"
   ]
  },
  {
   "cell_type": "markdown",
   "id": "2f3e9134",
   "metadata": {},
   "source": [
    "# PolyElastic rscore 0.7700225678667987"
   ]
  },
  {
   "cell_type": "code",
   "execution_count": null,
   "id": "7fba6861",
   "metadata": {},
   "outputs": [],
   "source": []
  },
  {
   "cell_type": "code",
   "execution_count": null,
   "id": "d66e4c55",
   "metadata": {},
   "outputs": [],
   "source": []
  }
 ],
 "metadata": {
  "kernelspec": {
   "display_name": "Python 3 (ipykernel)",
   "language": "python",
   "name": "python3"
  },
  "language_info": {
   "codemirror_mode": {
    "name": "ipython",
    "version": 3
   },
   "file_extension": ".py",
   "mimetype": "text/x-python",
   "name": "python",
   "nbconvert_exporter": "python",
   "pygments_lexer": "ipython3",
   "version": "3.11.3"
  }
 },
 "nbformat": 4,
 "nbformat_minor": 5
}
