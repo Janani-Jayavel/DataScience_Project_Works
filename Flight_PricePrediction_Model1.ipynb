{
 "cells": [
  {
   "cell_type": "code",
   "execution_count": 43,
   "id": "8802690e",
   "metadata": {},
   "outputs": [],
   "source": [
    "import pandas as pd\n",
    "import numpy as np\n",
    "import datetime as dt\n",
    "\n",
    "import seaborn as sns\n",
    "import matplotlib.pyplot as plt\n",
    "from sklearn.linear_model import LinearRegression\n",
    "from sklearn.metrics import mean_absolute_error,mean_absolute_percentage_error,mean_squared_error,r2_score\n",
    "import pandasql as sql"
   ]
  },
  {
   "cell_type": "code",
   "execution_count": 44,
   "id": "bc4c0395",
   "metadata": {},
   "outputs": [],
   "source": [
    "data = pd.read_csv('Flight_Train.csv')"
   ]
  },
  {
   "cell_type": "code",
   "execution_count": 45,
   "id": "439fc897",
   "metadata": {},
   "outputs": [
    {
     "data": {
      "text/html": [
       "<div>\n",
       "<style scoped>\n",
       "    .dataframe tbody tr th:only-of-type {\n",
       "        vertical-align: middle;\n",
       "    }\n",
       "\n",
       "    .dataframe tbody tr th {\n",
       "        vertical-align: top;\n",
       "    }\n",
       "\n",
       "    .dataframe thead th {\n",
       "        text-align: right;\n",
       "    }\n",
       "</style>\n",
       "<table border=\"1\" class=\"dataframe\">\n",
       "  <thead>\n",
       "    <tr style=\"text-align: right;\">\n",
       "      <th></th>\n",
       "      <th>Airline</th>\n",
       "      <th>Date_of_Journey</th>\n",
       "      <th>Source</th>\n",
       "      <th>Destination</th>\n",
       "      <th>Route</th>\n",
       "      <th>Dep_Time</th>\n",
       "      <th>Arrival_Time</th>\n",
       "      <th>Duration</th>\n",
       "      <th>Total_Stops</th>\n",
       "      <th>Additional_Info</th>\n",
       "      <th>Price</th>\n",
       "    </tr>\n",
       "  </thead>\n",
       "  <tbody>\n",
       "    <tr>\n",
       "      <th>0</th>\n",
       "      <td>IndiGo</td>\n",
       "      <td>24/03/2019</td>\n",
       "      <td>Banglore</td>\n",
       "      <td>New Delhi</td>\n",
       "      <td>BLR ? DEL</td>\n",
       "      <td>22:20</td>\n",
       "      <td>01:10 22 Mar</td>\n",
       "      <td>2h 50m</td>\n",
       "      <td>non-stop</td>\n",
       "      <td>No info</td>\n",
       "      <td>3897</td>\n",
       "    </tr>\n",
       "    <tr>\n",
       "      <th>1</th>\n",
       "      <td>Air India</td>\n",
       "      <td>1/05/2019</td>\n",
       "      <td>Kolkata</td>\n",
       "      <td>Banglore</td>\n",
       "      <td>CCU ? IXR ? BBI ? BLR</td>\n",
       "      <td>05:50</td>\n",
       "      <td>13:15</td>\n",
       "      <td>7h 25m</td>\n",
       "      <td>2 stops</td>\n",
       "      <td>No info</td>\n",
       "      <td>7662</td>\n",
       "    </tr>\n",
       "  </tbody>\n",
       "</table>\n",
       "</div>"
      ],
      "text/plain": [
       "     Airline Date_of_Journey    Source Destination                  Route  \\\n",
       "0     IndiGo      24/03/2019  Banglore   New Delhi              BLR ? DEL   \n",
       "1  Air India       1/05/2019   Kolkata    Banglore  CCU ? IXR ? BBI ? BLR   \n",
       "\n",
       "  Dep_Time  Arrival_Time Duration Total_Stops Additional_Info  Price  \n",
       "0    22:20  01:10 22 Mar   2h 50m    non-stop         No info   3897  \n",
       "1    05:50         13:15   7h 25m     2 stops         No info   7662  "
      ]
     },
     "execution_count": 45,
     "metadata": {},
     "output_type": "execute_result"
    }
   ],
   "source": [
    "data.head(2)"
   ]
  },
  {
   "cell_type": "code",
   "execution_count": 46,
   "id": "b5655cee",
   "metadata": {},
   "outputs": [
    {
     "data": {
      "text/plain": [
       "Airline            0\n",
       "Date_of_Journey    0\n",
       "Source             0\n",
       "Destination        0\n",
       "Route              1\n",
       "Dep_Time           0\n",
       "Arrival_Time       0\n",
       "Duration           0\n",
       "Total_Stops        1\n",
       "Additional_Info    0\n",
       "Price              0\n",
       "dtype: int64"
      ]
     },
     "execution_count": 46,
     "metadata": {},
     "output_type": "execute_result"
    }
   ],
   "source": [
    "data.isna().sum()"
   ]
  },
  {
   "cell_type": "code",
   "execution_count": 47,
   "id": "c6141217",
   "metadata": {},
   "outputs": [
    {
     "data": {
      "text/plain": [
       "Source    Destination\n",
       "Banglore  Delhi          non-stop\n",
       "          New Delhi        1 stop\n",
       "Chennai   Kolkata        non-stop\n",
       "Delhi     Cochin           1 stop\n",
       "Kolkata   Banglore         1 stop\n",
       "Mumbai    Hyderabad      non-stop\n",
       "Name: Total_Stops, dtype: object"
      ]
     },
     "execution_count": 47,
     "metadata": {},
     "output_type": "execute_result"
    }
   ],
   "source": [
    "data.groupby(['Source','Destination'])['Total_Stops'].agg(pd.Series.mode)"
   ]
  },
  {
   "cell_type": "code",
   "execution_count": 48,
   "id": "fd522856",
   "metadata": {},
   "outputs": [],
   "source": [
    "data['Total_Stops'] = data.groupby(['Source','Destination'])['Total_Stops'].transform(lambda x: x.fillna(x.mode()[0]))"
   ]
  },
  {
   "cell_type": "code",
   "execution_count": 49,
   "id": "b357298f",
   "metadata": {},
   "outputs": [],
   "source": [
    "data['Destination'].replace({'New Delhi':'Delhi'},inplace = True)"
   ]
  },
  {
   "cell_type": "code",
   "execution_count": 50,
   "id": "a5936217",
   "metadata": {},
   "outputs": [
    {
     "data": {
      "text/plain": [
       "Source    Destination\n",
       "Banglore  Delhi                BLR ? DEL\n",
       "Chennai   Kolkata              MAA ? CCU\n",
       "Delhi     Cochin         DEL ? BOM ? COK\n",
       "Kolkata   Banglore       CCU ? BOM ? BLR\n",
       "Mumbai    Hyderabad            BOM ? HYD\n",
       "Name: Route, dtype: object"
      ]
     },
     "execution_count": 50,
     "metadata": {},
     "output_type": "execute_result"
    }
   ],
   "source": [
    "data.groupby(['Source','Destination'])['Route'].agg(pd.Series.mode)"
   ]
  },
  {
   "cell_type": "code",
   "execution_count": 51,
   "id": "92a7e1d0",
   "metadata": {},
   "outputs": [],
   "source": [
    "data['Route'] = data.groupby(['Source','Destination'])['Route'].transform(lambda x:x.fillna(x.mode()[0]))"
   ]
  },
  {
   "cell_type": "code",
   "execution_count": 52,
   "id": "9549d47f",
   "metadata": {},
   "outputs": [
    {
     "data": {
      "text/plain": [
       "Airline            0\n",
       "Date_of_Journey    0\n",
       "Source             0\n",
       "Destination        0\n",
       "Route              0\n",
       "Dep_Time           0\n",
       "Arrival_Time       0\n",
       "Duration           0\n",
       "Total_Stops        0\n",
       "Additional_Info    0\n",
       "Price              0\n",
       "dtype: int64"
      ]
     },
     "execution_count": 52,
     "metadata": {},
     "output_type": "execute_result"
    }
   ],
   "source": [
    "data.isna().sum()"
   ]
  },
  {
   "cell_type": "code",
   "execution_count": 53,
   "id": "29e21e61",
   "metadata": {},
   "outputs": [],
   "source": [
    "# null values are fixed "
   ]
  },
  {
   "cell_type": "code",
   "execution_count": 54,
   "id": "5d42e4b6",
   "metadata": {},
   "outputs": [
    {
     "data": {
      "text/plain": [
       "<Axes: >"
      ]
     },
     "execution_count": 54,
     "metadata": {},
     "output_type": "execute_result"
    },
    {
     "data": {
      "image/png": "[encoded data removed]",
      "text/plain": [
       "<Figure size 640x480 with 1 Axes>"
      ]
     },
     "metadata": {},
     "output_type": "display_data"
    }
   ],
   "source": [
    "data.plot(kind = 'box')"
   ]
  },
  {
   "cell_type": "code",
   "execution_count": 55,
   "id": "f37c7cea",
   "metadata": {},
   "outputs": [],
   "source": [
    "# All the x variables are categorical. So, we need to perform One-Hot Encoding.\n",
    "# Before Encoding, feature selection needs to be done"
   ]
  },
  {
   "cell_type": "code",
   "execution_count": 56,
   "id": "1b2473fe",
   "metadata": {},
   "outputs": [],
   "source": [
    "# All are unique values in Airline,Source,Destination column and no replace required."
   ]
  },
  {
   "cell_type": "code",
   "execution_count": 57,
   "id": "aa22ba36",
   "metadata": {},
   "outputs": [],
   "source": [
    "# Date of Journey - are all falling in same year (2019). So on a high level this column doesn't have much significance with Flight rate prediction. \n",
    "# However, we can exract month detail from Date feature by which we can identify if there is any spike in rate since any particular month.\n",
    "# now, how to identfy Month from Date ?"
   ]
  },
  {
   "cell_type": "code",
   "execution_count": 58,
   "id": "5e2ea9a6",
   "metadata": {},
   "outputs": [],
   "source": [
    "data['Date_of_Journey'] = pd.to_datetime(data['Date_of_Journey'],dayfirst = True)"
   ]
  },
  {
   "cell_type": "code",
   "execution_count": 59,
   "id": "7e49e5f0",
   "metadata": {},
   "outputs": [],
   "source": [
    "data['Month'] = data['Date_of_Journey'].dt.month"
   ]
  },
  {
   "cell_type": "code",
   "execution_count": 60,
   "id": "fcc9cb33",
   "metadata": {},
   "outputs": [
    {
     "data": {
      "text/plain": [
       "array([3, 5, 6, 4], dtype=int64)"
      ]
     },
     "execution_count": 60,
     "metadata": {},
     "output_type": "execute_result"
    }
   ],
   "source": [
    "data['Month'].unique()"
   ]
  },
  {
   "cell_type": "code",
   "execution_count": 61,
   "id": "f3489c53",
   "metadata": {},
   "outputs": [],
   "source": [
    "data['Month'].replace({3:'March',4:'April',5:'May',6:'June'},inplace = True)"
   ]
  },
  {
   "cell_type": "code",
   "execution_count": 62,
   "id": "91057e76",
   "metadata": {},
   "outputs": [],
   "source": [
    "data = data.drop(columns ='Date_of_Journey')"
   ]
  },
  {
   "cell_type": "code",
   "execution_count": 63,
   "id": "071bf41c",
   "metadata": {},
   "outputs": [
    {
     "data": {
      "text/html": [
       "<div>\n",
       "<style scoped>\n",
       "    .dataframe tbody tr th:only-of-type {\n",
       "        vertical-align: middle;\n",
       "    }\n",
       "\n",
       "    .dataframe tbody tr th {\n",
       "        vertical-align: top;\n",
       "    }\n",
       "\n",
       "    .dataframe thead th {\n",
       "        text-align: right;\n",
       "    }\n",
       "</style>\n",
       "<table border=\"1\" class=\"dataframe\">\n",
       "  <thead>\n",
       "    <tr style=\"text-align: right;\">\n",
       "      <th></th>\n",
       "      <th>Airline</th>\n",
       "      <th>Source</th>\n",
       "      <th>Destination</th>\n",
       "      <th>Route</th>\n",
       "      <th>Dep_Time</th>\n",
       "      <th>Arrival_Time</th>\n",
       "      <th>Duration</th>\n",
       "      <th>Total_Stops</th>\n",
       "      <th>Additional_Info</th>\n",
       "      <th>Price</th>\n",
       "      <th>Month</th>\n",
       "    </tr>\n",
       "  </thead>\n",
       "  <tbody>\n",
       "    <tr>\n",
       "      <th>0</th>\n",
       "      <td>IndiGo</td>\n",
       "      <td>Banglore</td>\n",
       "      <td>Delhi</td>\n",
       "      <td>BLR ? DEL</td>\n",
       "      <td>22:20</td>\n",
       "      <td>01:10 22 Mar</td>\n",
       "      <td>2h 50m</td>\n",
       "      <td>non-stop</td>\n",
       "      <td>No info</td>\n",
       "      <td>3897</td>\n",
       "      <td>March</td>\n",
       "    </tr>\n",
       "    <tr>\n",
       "      <th>1</th>\n",
       "      <td>Air India</td>\n",
       "      <td>Kolkata</td>\n",
       "      <td>Banglore</td>\n",
       "      <td>CCU ? IXR ? BBI ? BLR</td>\n",
       "      <td>05:50</td>\n",
       "      <td>13:15</td>\n",
       "      <td>7h 25m</td>\n",
       "      <td>2 stops</td>\n",
       "      <td>No info</td>\n",
       "      <td>7662</td>\n",
       "      <td>May</td>\n",
       "    </tr>\n",
       "  </tbody>\n",
       "</table>\n",
       "</div>"
      ],
      "text/plain": [
       "     Airline    Source Destination                  Route Dep_Time  \\\n",
       "0     IndiGo  Banglore       Delhi              BLR ? DEL    22:20   \n",
       "1  Air India   Kolkata    Banglore  CCU ? IXR ? BBI ? BLR    05:50   \n",
       "\n",
       "   Arrival_Time Duration Total_Stops Additional_Info  Price  Month  \n",
       "0  01:10 22 Mar   2h 50m    non-stop         No info   3897  March  \n",
       "1         13:15   7h 25m     2 stops         No info   7662    May  "
      ]
     },
     "execution_count": 63,
     "metadata": {},
     "output_type": "execute_result"
    }
   ],
   "source": [
    "data.head(2)"
   ]
  },
  {
   "cell_type": "code",
   "execution_count": 64,
   "id": "1e027513",
   "metadata": {},
   "outputs": [
    {
     "data": {
      "text/plain": [
       "128"
      ]
     },
     "execution_count": 64,
     "metadata": {},
     "output_type": "execute_result"
    }
   ],
   "source": [
    "data['Route'].nunique()"
   ]
  },
  {
   "cell_type": "code",
   "execution_count": 65,
   "id": "1479699c",
   "metadata": {},
   "outputs": [],
   "source": [
    "# There are 128 unique categorical value for Route. If we do One-Hot Encoding it is going to be very complex\n",
    "# Also, Route can be covered under other columns : Source, Destination,Duration, Total_Stops\n",
    "# So dropping Route column"
   ]
  },
  {
   "cell_type": "code",
   "execution_count": 66,
   "id": "d6ca8be8",
   "metadata": {},
   "outputs": [],
   "source": [
    "data = data.drop(columns = 'Route')"
   ]
  },
  {
   "cell_type": "code",
   "execution_count": 67,
   "id": "39ec0e19",
   "metadata": {},
   "outputs": [],
   "source": [
    "# now, totally 2 columns has been dropped -  Date of Journey (replaced with month column) and Route"
   ]
  },
  {
   "cell_type": "code",
   "execution_count": 68,
   "id": "5ba53d0b",
   "metadata": {},
   "outputs": [
    {
     "data": {
      "text/plain": [
       "array(['2h 50m', '7h 25m', '19h', '5h 25m', '4h 45m', '2h 25m', '15h 30m',\n",
       "       '21h 5m', '25h 30m', '7h 50m', '13h 15m', '2h 35m', '2h 15m',\n",
       "       '12h 10m', '26h 35m', '4h 30m', '22h 35m', '23h', '20h 35m',\n",
       "       '5h 10m', '15h 20m', '2h 55m', '13h 20m', '15h 10m', '5h 45m',\n",
       "       '5h 55m', '13h 25m', '22h', '5h 30m', '10h 25m', '5h 15m',\n",
       "       '2h 30m', '6h 15m', '11h 55m', '11h 5m', '8h 30m', '22h 5m',\n",
       "       '2h 45m', '12h', '16h 5m', '19h 55m', '3h 15m', '25h 20m', '3h',\n",
       "       '16h 15m', '15h 5m', '6h 30m', '25h 5m', '12h 25m', '27h 20m',\n",
       "       '10h 15m', '10h 30m', '1h 30m', '1h 25m', '26h 30m', '7h 20m',\n",
       "       '13h 30m', '5h', '19h 5m', '14h 50m', '2h 40m', '22h 10m',\n",
       "       '9h 35m', '10h', '21h 20m', '18h 45m', '12h 20m', '18h', '9h 15m',\n",
       "       '17h 30m', '16h 35m', '12h 15m', '7h 30m', '24h', '8h 55m',\n",
       "       '7h 10m', '14h 30m', '30h 20m', '15h', '12h 45m', '10h 10m',\n",
       "       '15h 25m', '14h 5m', '20h 15m', '23h 10m', '18h 10m', '16h',\n",
       "       '2h 20m', '8h', '16h 55m', '3h 10m', '14h', '23h 50m', '21h 40m',\n",
       "       '21h 15m', '10h 50m', '8h 15m', '8h 35m', '11h 50m', '27h 35m',\n",
       "       '8h 25m', '20h 55m', '4h 50m', '8h 10m', '24h 25m', '23h 35m',\n",
       "       '25h 45m', '26h 10m', '28h 50m', '25h 15m', '9h 20m', '9h 10m',\n",
       "       '3h 5m', '11h 30m', '9h 30m', '17h 35m', '5h 5m', '25h 50m', '20h',\n",
       "       '13h', '18h 25m', '24h 10m', '4h 55m', '25h 35m', '6h 20m',\n",
       "       '18h 40m', '19h 25m', '29h 20m', '9h 5m', '10h 45m', '11h 40m',\n",
       "       '22h 55m', '37h 25m', '25h 40m', '13h 55m', '8h 40m', '23h 30m',\n",
       "       '12h 35m', '24h 15m', '1h 20m', '11h', '11h 15m', '14h 35m',\n",
       "       '12h 55m', '9h', '7h 40m', '11h 45m', '24h 55m', '17h 5m',\n",
       "       '29h 55m', '22h 15m', '14h 40m', '7h 15m', '20h 10m', '20h 45m',\n",
       "       '27h', '24h 30m', '20h 25m', '5h 35m', '14h 45m', '5h 40m',\n",
       "       '4h 5m', '15h 55m', '7h 45m', '28h 20m', '4h 20m', '3h 40m',\n",
       "       '8h 50m', '23h 45m', '24h 45m', '21h 35m', '8h 5m', '6h 25m',\n",
       "       '15h 50m', '26h 25m', '24h 50m', '26h', '23h 5m', '7h 55m',\n",
       "       '26h 20m', '23h 15m', '5h 20m', '4h', '9h 45m', '8h 20m',\n",
       "       '17h 25m', '7h 5m', '34h 5m', '6h 5m', '5h 50m', '7h', '4h 25m',\n",
       "       '13h 45m', '19h 15m', '22h 30m', '16h 25m', '13h 50m', '27h 5m',\n",
       "       '28h 10m', '4h 40m', '15h 40m', '4h 35m', '18h 30m', '38h 15m',\n",
       "       '6h 35m', '12h 30m', '11h 20m', '7h 35m', '29h 35m', '26h 55m',\n",
       "       '23h 40m', '12h 50m', '9h 50m', '21h 55m', '10h 55m', '21h 10m',\n",
       "       '20h 40m', '30h', '13h 10m', '8h 45m', '6h 10m', '17h 45m',\n",
       "       '21h 45m', '3h 55m', '17h 20m', '30h 30m', '21h 25m', '12h 40m',\n",
       "       '24h 35m', '19h 10m', '22h 40m', '14h 55m', '21h', '6h 45m',\n",
       "       '28h 40m', '9h 40m', '16h 40m', '16h 20m', '16h 45m', '1h 15m',\n",
       "       '6h 55m', '11h 25m', '14h 20m', '12h 5m', '24h 5m', '28h 15m',\n",
       "       '17h 50m', '20h 20m', '28h 5m', '10h 20m', '14h 15m', '35h 15m',\n",
       "       '35h 35m', '26h 40m', '28h', '14h 25m', '13h 5m', '37h 20m',\n",
       "       '36h 10m', '25h 55m', '35h 5m', '19h 45m', '27h 55m', '47h',\n",
       "       '10h 35m', '1h 35m', '16h 10m', '38h 20m', '6h', '16h 50m',\n",
       "       '14h 10m', '23h 20m', '17h 40m', '11h 35m', '18h 20m', '6h 40m',\n",
       "       '30h 55m', '24h 40m', '29h 50m', '28h 25m', '17h 15m', '22h 45m',\n",
       "       '25h 25m', '21h 50m', '33h 15m', '30h 15m', '3h 35m', '27h 40m',\n",
       "       '30h 25m', '18h 50m', '27h 45m', '15h 15m', '10h 40m', '26h 15m',\n",
       "       '36h 25m', '26h 50m', '15h 45m', '19h 40m', '22h 25m', '19h 35m',\n",
       "       '25h', '26h 45m', '38h', '4h 15m', '25h 10m', '18h 15m', '6h 50m',\n",
       "       '23h 55m', '17h 55m', '23h 25m', '17h 10m', '24h 20m', '28h 30m',\n",
       "       '27h 10m', '19h 20m', '15h 35m', '9h 25m', '21h 30m', '34h 25m',\n",
       "       '18h 35m', '29h 40m', '26h 5m', '29h 5m', '27h 25m', '16h 30m',\n",
       "       '11h 10m', '28h 55m', '29h 10m', '34h', '30h 40m', '30h 45m',\n",
       "       '32h 55m', '10h 5m', '35h 20m', '32h 5m', '31h 40m', '19h 50m',\n",
       "       '33h 45m', '30h 10m', '13h 40m', '19h 30m', '31h 30m', '34h 30m',\n",
       "       '27h 50m', '38h 35m', '42h 5m', '4h 10m', '39h 5m', '3h 50m', '5m',\n",
       "       '32h 30m', '31h 55m', '33h 20m', '27h 30m', '18h 55m', '9h 55m',\n",
       "       '41h 20m', '20h 5m', '31h 50m', '42h 45m', '3h 25m', '37h 10m',\n",
       "       '29h 30m', '32h 20m', '20h 50m', '40h 20m', '13h 35m', '47h 40m'],\n",
       "      dtype=object)"
      ]
     },
     "execution_count": 68,
     "metadata": {},
     "output_type": "execute_result"
    }
   ],
   "source": [
    "data['Duration'].unique()"
   ]
  },
  {
   "cell_type": "code",
   "execution_count": 69,
   "id": "09c3f8b4",
   "metadata": {},
   "outputs": [],
   "source": [
    "data['Duration_Min'] = (pd.to_timedelta(data['Duration']).dt.seconds // 60).astype(str)"
   ]
  },
  {
   "cell_type": "code",
   "execution_count": 70,
   "id": "08bd08a4",
   "metadata": {},
   "outputs": [
    {
     "data": {
      "text/plain": [
       "0         170\n",
       "1         445\n",
       "2        1140\n",
       "3         325\n",
       "4         285\n",
       "         ... \n",
       "10678     150\n",
       "10679     155\n",
       "10680     180\n",
       "10681     160\n",
       "10682     500\n",
       "Name: Duration_Min, Length: 10683, dtype: object"
      ]
     },
     "execution_count": 70,
     "metadata": {},
     "output_type": "execute_result"
    }
   ],
   "source": [
    "data['Duration_Min'] "
   ]
  },
  {
   "cell_type": "code",
   "execution_count": 71,
   "id": "35f8d14b",
   "metadata": {},
   "outputs": [],
   "source": [
    "# Successfully found a final way :)"
   ]
  },
  {
   "cell_type": "code",
   "execution_count": 72,
   "id": "848939a9",
   "metadata": {},
   "outputs": [
    {
     "data": {
      "text/html": [
       "<div>\n",
       "<style scoped>\n",
       "    .dataframe tbody tr th:only-of-type {\n",
       "        vertical-align: middle;\n",
       "    }\n",
       "\n",
       "    .dataframe tbody tr th {\n",
       "        vertical-align: top;\n",
       "    }\n",
       "\n",
       "    .dataframe thead th {\n",
       "        text-align: right;\n",
       "    }\n",
       "</style>\n",
       "<table border=\"1\" class=\"dataframe\">\n",
       "  <thead>\n",
       "    <tr style=\"text-align: right;\">\n",
       "      <th></th>\n",
       "      <th>Airline</th>\n",
       "      <th>Source</th>\n",
       "      <th>Destination</th>\n",
       "      <th>Dep_Time</th>\n",
       "      <th>Arrival_Time</th>\n",
       "      <th>Duration</th>\n",
       "      <th>Total_Stops</th>\n",
       "      <th>Additional_Info</th>\n",
       "      <th>Price</th>\n",
       "      <th>Month</th>\n",
       "      <th>Duration_Min</th>\n",
       "    </tr>\n",
       "  </thead>\n",
       "  <tbody>\n",
       "    <tr>\n",
       "      <th>0</th>\n",
       "      <td>IndiGo</td>\n",
       "      <td>Banglore</td>\n",
       "      <td>Delhi</td>\n",
       "      <td>22:20</td>\n",
       "      <td>01:10 22 Mar</td>\n",
       "      <td>2h 50m</td>\n",
       "      <td>non-stop</td>\n",
       "      <td>No info</td>\n",
       "      <td>3897</td>\n",
       "      <td>March</td>\n",
       "      <td>170</td>\n",
       "    </tr>\n",
       "    <tr>\n",
       "      <th>1</th>\n",
       "      <td>Air India</td>\n",
       "      <td>Kolkata</td>\n",
       "      <td>Banglore</td>\n",
       "      <td>05:50</td>\n",
       "      <td>13:15</td>\n",
       "      <td>7h 25m</td>\n",
       "      <td>2 stops</td>\n",
       "      <td>No info</td>\n",
       "      <td>7662</td>\n",
       "      <td>May</td>\n",
       "      <td>445</td>\n",
       "    </tr>\n",
       "  </tbody>\n",
       "</table>\n",
       "</div>"
      ],
      "text/plain": [
       "     Airline    Source Destination Dep_Time  Arrival_Time Duration  \\\n",
       "0     IndiGo  Banglore       Delhi    22:20  01:10 22 Mar   2h 50m   \n",
       "1  Air India   Kolkata    Banglore    05:50         13:15   7h 25m   \n",
       "\n",
       "  Total_Stops Additional_Info  Price  Month Duration_Min  \n",
       "0    non-stop         No info   3897  March          170  \n",
       "1     2 stops         No info   7662    May          445  "
      ]
     },
     "execution_count": 72,
     "metadata": {},
     "output_type": "execute_result"
    }
   ],
   "source": [
    "data.head(2)"
   ]
  },
  {
   "cell_type": "code",
   "execution_count": 73,
   "id": "5cfdaee6",
   "metadata": {},
   "outputs": [],
   "source": [
    "# now dropping column Duration "
   ]
  },
  {
   "cell_type": "code",
   "execution_count": 74,
   "id": "c8ab4d0d",
   "metadata": {},
   "outputs": [],
   "source": [
    "del data['Duration']"
   ]
  },
  {
   "cell_type": "code",
   "execution_count": 75,
   "id": "320feaf6",
   "metadata": {},
   "outputs": [
    {
     "data": {
      "text/html": [
       "<div>\n",
       "<style scoped>\n",
       "    .dataframe tbody tr th:only-of-type {\n",
       "        vertical-align: middle;\n",
       "    }\n",
       "\n",
       "    .dataframe tbody tr th {\n",
       "        vertical-align: top;\n",
       "    }\n",
       "\n",
       "    .dataframe thead th {\n",
       "        text-align: right;\n",
       "    }\n",
       "</style>\n",
       "<table border=\"1\" class=\"dataframe\">\n",
       "  <thead>\n",
       "    <tr style=\"text-align: right;\">\n",
       "      <th></th>\n",
       "      <th>Airline</th>\n",
       "      <th>Source</th>\n",
       "      <th>Destination</th>\n",
       "      <th>Dep_Time</th>\n",
       "      <th>Arrival_Time</th>\n",
       "      <th>Total_Stops</th>\n",
       "      <th>Additional_Info</th>\n",
       "      <th>Price</th>\n",
       "      <th>Month</th>\n",
       "      <th>Duration_Min</th>\n",
       "    </tr>\n",
       "  </thead>\n",
       "  <tbody>\n",
       "    <tr>\n",
       "      <th>0</th>\n",
       "      <td>IndiGo</td>\n",
       "      <td>Banglore</td>\n",
       "      <td>Delhi</td>\n",
       "      <td>22:20</td>\n",
       "      <td>01:10 22 Mar</td>\n",
       "      <td>non-stop</td>\n",
       "      <td>No info</td>\n",
       "      <td>3897</td>\n",
       "      <td>March</td>\n",
       "      <td>170</td>\n",
       "    </tr>\n",
       "    <tr>\n",
       "      <th>1</th>\n",
       "      <td>Air India</td>\n",
       "      <td>Kolkata</td>\n",
       "      <td>Banglore</td>\n",
       "      <td>05:50</td>\n",
       "      <td>13:15</td>\n",
       "      <td>2 stops</td>\n",
       "      <td>No info</td>\n",
       "      <td>7662</td>\n",
       "      <td>May</td>\n",
       "      <td>445</td>\n",
       "    </tr>\n",
       "  </tbody>\n",
       "</table>\n",
       "</div>"
      ],
      "text/plain": [
       "     Airline    Source Destination Dep_Time  Arrival_Time Total_Stops  \\\n",
       "0     IndiGo  Banglore       Delhi    22:20  01:10 22 Mar    non-stop   \n",
       "1  Air India   Kolkata    Banglore    05:50         13:15     2 stops   \n",
       "\n",
       "  Additional_Info  Price  Month Duration_Min  \n",
       "0         No info   3897  March          170  \n",
       "1         No info   7662    May          445  "
      ]
     },
     "execution_count": 75,
     "metadata": {},
     "output_type": "execute_result"
    }
   ],
   "source": [
    "data.head(2)"
   ]
  },
  {
   "cell_type": "code",
   "execution_count": 76,
   "id": "38d31ff1",
   "metadata": {},
   "outputs": [],
   "source": [
    "data.loc[data['Dep_Time'] < '12:00','Dep_Time']='AM'"
   ]
  },
  {
   "cell_type": "code",
   "execution_count": 77,
   "id": "d5041446",
   "metadata": {},
   "outputs": [],
   "source": [
    "data.loc[data['Dep_Time'] != 'AM','Dep_Time']='PM'"
   ]
  },
  {
   "cell_type": "code",
   "execution_count": 82,
   "id": "365afaf2",
   "metadata": {},
   "outputs": [],
   "source": [
    "data['Arrival_Time'] = data['Arrival_Time'].apply(lambda x: x.split()[0])"
   ]
  },
  {
   "cell_type": "code",
   "execution_count": 88,
   "id": "ad84ee4c",
   "metadata": {},
   "outputs": [],
   "source": [
    "data.loc[data['Arrival_Time'] < '12:00','Arrival_Time']='AM'"
   ]
  },
  {
   "cell_type": "code",
   "execution_count": 89,
   "id": "81f3862f",
   "metadata": {},
   "outputs": [],
   "source": [
    "data.loc[data['Arrival_Time'] != 'AM','Arrival_Time']='PM'"
   ]
  },
  {
   "cell_type": "code",
   "execution_count": 93,
   "id": "20c9072a",
   "metadata": {},
   "outputs": [],
   "source": [
    "data['Additional_Info'].replace({'No info':'No Info'},inplace = True)"
   ]
  },
  {
   "cell_type": "code",
   "execution_count": 92,
   "id": "af21d4ec",
   "metadata": {},
   "outputs": [],
   "source": [
    "data['Duration_Min'] = data['Duration_Min'].astype(int)"
   ]
  },
  {
   "cell_type": "code",
   "execution_count": 94,
   "id": "1f446651",
   "metadata": {},
   "outputs": [
    {
     "name": "stderr",
     "output_type": "stream",
     "text": [
      "C:\\Users\\janani.jayavel\\AppData\\Local\\Temp\\ipykernel_14180\\2627137660.py:1: FutureWarning: The default value of numeric_only in DataFrame.corr is deprecated. In a future version, it will default to False. Select only valid columns or specify the value of numeric_only to silence this warning.\n",
      "  data.corr()\n"
     ]
    },
    {
     "data": {
      "text/html": [
       "<div>\n",
       "<style scoped>\n",
       "    .dataframe tbody tr th:only-of-type {\n",
       "        vertical-align: middle;\n",
       "    }\n",
       "\n",
       "    .dataframe tbody tr th {\n",
       "        vertical-align: top;\n",
       "    }\n",
       "\n",
       "    .dataframe thead th {\n",
       "        text-align: right;\n",
       "    }\n",
       "</style>\n",
       "<table border=\"1\" class=\"dataframe\">\n",
       "  <thead>\n",
       "    <tr style=\"text-align: right;\">\n",
       "      <th></th>\n",
       "      <th>Price</th>\n",
       "      <th>Duration_Min</th>\n",
       "    </tr>\n",
       "  </thead>\n",
       "  <tbody>\n",
       "    <tr>\n",
       "      <th>Price</th>\n",
       "      <td>1.000000</td>\n",
       "      <td>0.449471</td>\n",
       "    </tr>\n",
       "    <tr>\n",
       "      <th>Duration_Min</th>\n",
       "      <td>0.449471</td>\n",
       "      <td>1.000000</td>\n",
       "    </tr>\n",
       "  </tbody>\n",
       "</table>\n",
       "</div>"
      ],
      "text/plain": [
       "                 Price  Duration_Min\n",
       "Price         1.000000      0.449471\n",
       "Duration_Min  0.449471      1.000000"
      ]
     },
     "execution_count": 94,
     "metadata": {},
     "output_type": "execute_result"
    }
   ],
   "source": [
    "data.corr()"
   ]
  },
  {
   "cell_type": "code",
   "execution_count": 95,
   "id": "78a77054",
   "metadata": {},
   "outputs": [
    {
     "data": {
      "image/png": "[encoded data removed]",
      "text/plain": [
       "<Figure size 640x480 with 1 Axes>"
      ]
     },
     "metadata": {},
     "output_type": "display_data"
    }
   ],
   "source": [
    "plt.scatter(data['Duration_Min'],data['Price'])\n",
    "plt.show()"
   ]
  },
  {
   "cell_type": "code",
   "execution_count": 96,
   "id": "72faea8b",
   "metadata": {},
   "outputs": [
    {
     "data": {
      "text/plain": [
       "<seaborn.axisgrid.PairGrid at 0x2c0ff51f610>"
      ]
     },
     "execution_count": 96,
     "metadata": {},
     "output_type": "execute_result"
    },
    {
     "data": {
      "image/png": "[encoded data removed]",
      "text/plain": [
       "<Figure size 500x500 with 6 Axes>"
      ]
     },
     "metadata": {},
     "output_type": "display_data"
    }
   ],
   "source": [
    "sns.pairplot(data)"
   ]
  },
  {
   "cell_type": "code",
   "execution_count": 81,
   "id": "fc0d6425",
   "metadata": {},
   "outputs": [],
   "source": [
    "# I don't find any linear relationship between dependent and numeric independent variables :( \n",
    "# so I feel linear regression may not be suitable for this prediction , but have to perform One-Hot Encoding for categorical data\n",
    "# Still I am creating a model for practice :)"
   ]
  },
  {
   "cell_type": "code",
   "execution_count": 97,
   "id": "a4a78ca6",
   "metadata": {},
   "outputs": [
    {
     "data": {
      "text/html": [
       "<div>\n",
       "<style scoped>\n",
       "    .dataframe tbody tr th:only-of-type {\n",
       "        vertical-align: middle;\n",
       "    }\n",
       "\n",
       "    .dataframe tbody tr th {\n",
       "        vertical-align: top;\n",
       "    }\n",
       "\n",
       "    .dataframe thead th {\n",
       "        text-align: right;\n",
       "    }\n",
       "</style>\n",
       "<table border=\"1\" class=\"dataframe\">\n",
       "  <thead>\n",
       "    <tr style=\"text-align: right;\">\n",
       "      <th></th>\n",
       "      <th>Airline</th>\n",
       "      <th>Source</th>\n",
       "      <th>Destination</th>\n",
       "      <th>Dep_Time</th>\n",
       "      <th>Arrival_Time</th>\n",
       "      <th>Total_Stops</th>\n",
       "      <th>Additional_Info</th>\n",
       "      <th>Price</th>\n",
       "      <th>Month</th>\n",
       "      <th>Duration_Min</th>\n",
       "    </tr>\n",
       "  </thead>\n",
       "  <tbody>\n",
       "    <tr>\n",
       "      <th>0</th>\n",
       "      <td>IndiGo</td>\n",
       "      <td>Banglore</td>\n",
       "      <td>Delhi</td>\n",
       "      <td>PM</td>\n",
       "      <td>AM</td>\n",
       "      <td>non-stop</td>\n",
       "      <td>No Info</td>\n",
       "      <td>3897</td>\n",
       "      <td>March</td>\n",
       "      <td>170</td>\n",
       "    </tr>\n",
       "    <tr>\n",
       "      <th>1</th>\n",
       "      <td>Air India</td>\n",
       "      <td>Kolkata</td>\n",
       "      <td>Banglore</td>\n",
       "      <td>PM</td>\n",
       "      <td>PM</td>\n",
       "      <td>2 stops</td>\n",
       "      <td>No Info</td>\n",
       "      <td>7662</td>\n",
       "      <td>May</td>\n",
       "      <td>445</td>\n",
       "    </tr>\n",
       "  </tbody>\n",
       "</table>\n",
       "</div>"
      ],
      "text/plain": [
       "     Airline    Source Destination Dep_Time Arrival_Time Total_Stops  \\\n",
       "0     IndiGo  Banglore       Delhi       PM           AM    non-stop   \n",
       "1  Air India   Kolkata    Banglore       PM           PM     2 stops   \n",
       "\n",
       "  Additional_Info  Price  Month  Duration_Min  \n",
       "0         No Info   3897  March           170  \n",
       "1         No Info   7662    May           445  "
      ]
     },
     "execution_count": 97,
     "metadata": {},
     "output_type": "execute_result"
    }
   ],
   "source": [
    "data.head(2)"
   ]
  },
  {
   "cell_type": "code",
   "execution_count": null,
   "id": "5c9db149",
   "metadata": {},
   "outputs": [],
   "source": [
    "# Fixed All columns and removed only Route column"
   ]
  },
  {
   "cell_type": "code",
   "execution_count": 98,
   "id": "15ae43b0",
   "metadata": {},
   "outputs": [],
   "source": [
    "data_cat = data.select_dtypes(exclude = np.number)"
   ]
  },
  {
   "cell_type": "code",
   "execution_count": 100,
   "id": "d353948c",
   "metadata": {},
   "outputs": [],
   "source": [
    "data_cat = pd.get_dummies(data_cat)"
   ]
  },
  {
   "cell_type": "code",
   "execution_count": 103,
   "id": "813a618a",
   "metadata": {},
   "outputs": [],
   "source": [
    "data_cat = data_cat.reset_index().drop(columns = 'index')"
   ]
  },
  {
   "cell_type": "code",
   "execution_count": 104,
   "id": "692eda6a",
   "metadata": {},
   "outputs": [],
   "source": [
    "data_num = data.select_dtypes(include = np.number)"
   ]
  },
  {
   "cell_type": "code",
   "execution_count": 106,
   "id": "e69712d8",
   "metadata": {},
   "outputs": [],
   "source": [
    "data_num = data_num.reset_index().drop(columns = 'index')"
   ]
  },
  {
   "cell_type": "code",
   "execution_count": 107,
   "id": "50f9da77",
   "metadata": {},
   "outputs": [],
   "source": [
    "data_train = pd.concat([data_cat,data_num],axis = 1)"
   ]
  },
  {
   "cell_type": "code",
   "execution_count": 108,
   "id": "9483cdc9",
   "metadata": {},
   "outputs": [
    {
     "data": {
      "text/html": [
       "<div>\n",
       "<style scoped>\n",
       "    .dataframe tbody tr th:only-of-type {\n",
       "        vertical-align: middle;\n",
       "    }\n",
       "\n",
       "    .dataframe tbody tr th {\n",
       "        vertical-align: top;\n",
       "    }\n",
       "\n",
       "    .dataframe thead th {\n",
       "        text-align: right;\n",
       "    }\n",
       "</style>\n",
       "<table border=\"1\" class=\"dataframe\">\n",
       "  <thead>\n",
       "    <tr style=\"text-align: right;\">\n",
       "      <th></th>\n",
       "      <th>Airline_Air Asia</th>\n",
       "      <th>Airline_Air India</th>\n",
       "      <th>Airline_GoAir</th>\n",
       "      <th>Airline_IndiGo</th>\n",
       "      <th>Airline_Jet Airways</th>\n",
       "      <th>Airline_Jet Airways Business</th>\n",
       "      <th>Airline_Multiple carriers</th>\n",
       "      <th>Airline_Multiple carriers Premium economy</th>\n",
       "      <th>Airline_SpiceJet</th>\n",
       "      <th>Airline_Trujet</th>\n",
       "      <th>...</th>\n",
       "      <th>Additional_Info_In-flight meal not included</th>\n",
       "      <th>Additional_Info_No Info</th>\n",
       "      <th>Additional_Info_No check-in baggage included</th>\n",
       "      <th>Additional_Info_Red-eye flight</th>\n",
       "      <th>Month_April</th>\n",
       "      <th>Month_June</th>\n",
       "      <th>Month_March</th>\n",
       "      <th>Month_May</th>\n",
       "      <th>Price</th>\n",
       "      <th>Duration_Min</th>\n",
       "    </tr>\n",
       "  </thead>\n",
       "  <tbody>\n",
       "    <tr>\n",
       "      <th>0</th>\n",
       "      <td>0</td>\n",
       "      <td>0</td>\n",
       "      <td>0</td>\n",
       "      <td>1</td>\n",
       "      <td>0</td>\n",
       "      <td>0</td>\n",
       "      <td>0</td>\n",
       "      <td>0</td>\n",
       "      <td>0</td>\n",
       "      <td>0</td>\n",
       "      <td>...</td>\n",
       "      <td>0</td>\n",
       "      <td>1</td>\n",
       "      <td>0</td>\n",
       "      <td>0</td>\n",
       "      <td>0</td>\n",
       "      <td>0</td>\n",
       "      <td>1</td>\n",
       "      <td>0</td>\n",
       "      <td>3897</td>\n",
       "      <td>170</td>\n",
       "    </tr>\n",
       "    <tr>\n",
       "      <th>1</th>\n",
       "      <td>0</td>\n",
       "      <td>1</td>\n",
       "      <td>0</td>\n",
       "      <td>0</td>\n",
       "      <td>0</td>\n",
       "      <td>0</td>\n",
       "      <td>0</td>\n",
       "      <td>0</td>\n",
       "      <td>0</td>\n",
       "      <td>0</td>\n",
       "      <td>...</td>\n",
       "      <td>0</td>\n",
       "      <td>1</td>\n",
       "      <td>0</td>\n",
       "      <td>0</td>\n",
       "      <td>0</td>\n",
       "      <td>0</td>\n",
       "      <td>0</td>\n",
       "      <td>1</td>\n",
       "      <td>7662</td>\n",
       "      <td>445</td>\n",
       "    </tr>\n",
       "  </tbody>\n",
       "</table>\n",
       "<p>2 rows × 45 columns</p>\n",
       "</div>"
      ],
      "text/plain": [
       "   Airline_Air Asia  Airline_Air India  Airline_GoAir  Airline_IndiGo  \\\n",
       "0                 0                  0              0               1   \n",
       "1                 0                  1              0               0   \n",
       "\n",
       "   Airline_Jet Airways  Airline_Jet Airways Business  \\\n",
       "0                    0                             0   \n",
       "1                    0                             0   \n",
       "\n",
       "   Airline_Multiple carriers  Airline_Multiple carriers Premium economy  \\\n",
       "0                          0                                          0   \n",
       "1                          0                                          0   \n",
       "\n",
       "   Airline_SpiceJet  Airline_Trujet  ...  \\\n",
       "0                 0               0  ...   \n",
       "1                 0               0  ...   \n",
       "\n",
       "   Additional_Info_In-flight meal not included  Additional_Info_No Info  \\\n",
       "0                                            0                        1   \n",
       "1                                            0                        1   \n",
       "\n",
       "   Additional_Info_No check-in baggage included  \\\n",
       "0                                             0   \n",
       "1                                             0   \n",
       "\n",
       "   Additional_Info_Red-eye flight  Month_April  Month_June  Month_March  \\\n",
       "0                               0            0           0            1   \n",
       "1                               0            0           0            0   \n",
       "\n",
       "   Month_May  Price  Duration_Min  \n",
       "0          0   3897           170  \n",
       "1          1   7662           445  \n",
       "\n",
       "[2 rows x 45 columns]"
      ]
     },
     "execution_count": 108,
     "metadata": {},
     "output_type": "execute_result"
    }
   ],
   "source": [
    "data_train.head(2)"
   ]
  },
  {
   "cell_type": "code",
   "execution_count": 109,
   "id": "68c13eb4",
   "metadata": {},
   "outputs": [],
   "source": [
    "data_train_x = data_train.drop(columns = 'Price')"
   ]
  },
  {
   "cell_type": "code",
   "execution_count": 110,
   "id": "40eba164",
   "metadata": {},
   "outputs": [],
   "source": [
    "data_train_y = data_train['Price']"
   ]
  },
  {
   "cell_type": "code",
   "execution_count": 111,
   "id": "dc29dccf",
   "metadata": {},
   "outputs": [],
   "source": [
    "reg = LinearRegression()"
   ]
  },
  {
   "cell_type": "code",
   "execution_count": 112,
   "id": "f0a1a574",
   "metadata": {},
   "outputs": [
    {
     "data": {
      "text/html": [
       "<style>#sk-container-id-1 {color: black;background-color: white;}#sk-container-id-1 pre{padding: 0;}#sk-container-id-1 div.sk-toggleable {background-color: white;}#sk-container-id-1 label.sk-toggleable__label {cursor: pointer;display: block;width: 100%;margin-bottom: 0;padding: 0.3em;box-sizing: border-box;text-align: center;}#sk-container-id-1 label.sk-toggleable__label-arrow:before {content: \"▸\";float: left;margin-right: 0.25em;color: #696969;}#sk-container-id-1 label.sk-toggleable__label-arrow:hover:before {color: black;}#sk-container-id-1 div.sk-estimator:hover label.sk-toggleable__label-arrow:before {color: black;}#sk-container-id-1 div.sk-toggleable__content {max-height: 0;max-width: 0;overflow: hidden;text-align: left;background-color: #f0f8ff;}#sk-container-id-1 div.sk-toggleable__content pre {margin: 0.2em;color: black;border-radius: 0.25em;background-color: #f0f8ff;}#sk-container-id-1 input.sk-toggleable__control:checked~div.sk-toggleable__content {max-height: 200px;max-width: 100%;overflow: auto;}#sk-container-id-1 input.sk-toggleable__control:checked~label.sk-toggleable__label-arrow:before {content: \"▾\";}#sk-container-id-1 div.sk-estimator input.sk-toggleable__control:checked~label.sk-toggleable__label {background-color: #d4ebff;}#sk-container-id-1 div.sk-label input.sk-toggleable__control:checked~label.sk-toggleable__label {background-color: #d4ebff;}#sk-container-id-1 input.sk-hidden--visually {border: 0;clip: rect(1px 1px 1px 1px);clip: rect(1px, 1px, 1px, 1px);height: 1px;margin: -1px;overflow: hidden;padding: 0;position: absolute;width: 1px;}#sk-container-id-1 div.sk-estimator {font-family: monospace;background-color: #f0f8ff;border: 1px dotted black;border-radius: 0.25em;box-sizing: border-box;margin-bottom: 0.5em;}#sk-container-id-1 div.sk-estimator:hover {background-color: #d4ebff;}#sk-container-id-1 div.sk-parallel-item::after {content: \"\";width: 100%;border-bottom: 1px solid gray;flex-grow: 1;}#sk-container-id-1 div.sk-label:hover label.sk-toggleable__label {background-color: #d4ebff;}#sk-container-id-1 div.sk-serial::before {content: \"\";position: absolute;border-left: 1px solid gray;box-sizing: border-box;top: 0;bottom: 0;left: 50%;z-index: 0;}#sk-container-id-1 div.sk-serial {display: flex;flex-direction: column;align-items: center;background-color: white;padding-right: 0.2em;padding-left: 0.2em;position: relative;}#sk-container-id-1 div.sk-item {position: relative;z-index: 1;}#sk-container-id-1 div.sk-parallel {display: flex;align-items: stretch;justify-content: center;background-color: white;position: relative;}#sk-container-id-1 div.sk-item::before, #sk-container-id-1 div.sk-parallel-item::before {content: \"\";position: absolute;border-left: 1px solid gray;box-sizing: border-box;top: 0;bottom: 0;left: 50%;z-index: -1;}#sk-container-id-1 div.sk-parallel-item {display: flex;flex-direction: column;z-index: 1;position: relative;background-color: white;}#sk-container-id-1 div.sk-parallel-item:first-child::after {align-self: flex-end;width: 50%;}#sk-container-id-1 div.sk-parallel-item:last-child::after {align-self: flex-start;width: 50%;}#sk-container-id-1 div.sk-parallel-item:only-child::after {width: 0;}#sk-container-id-1 div.sk-dashed-wrapped {border: 1px dashed gray;margin: 0 0.4em 0.5em 0.4em;box-sizing: border-box;padding-bottom: 0.4em;background-color: white;}#sk-container-id-1 div.sk-label label {font-family: monospace;font-weight: bold;display: inline-block;line-height: 1.2em;}#sk-container-id-1 div.sk-label-container {text-align: center;}#sk-container-id-1 div.sk-container {/* jupyter's `normalize.less` sets `[hidden] { display: none; }` but bootstrap.min.css set `[hidden] { display: none !important; }` so we also need the `!important` here to be able to override the default hidden behavior on the sphinx rendered scikit-learn.org. See: https://github.com/scikit-learn/scikit-learn/issues/21755 */display: inline-block !important;position: relative;}#sk-container-id-1 div.sk-text-repr-fallback {display: none;}</style><div id=\"sk-container-id-1\" class=\"sk-top-container\"><div class=\"sk-text-repr-fallback\"><pre>LinearRegression()</pre><b>In a Jupyter environment, please rerun this cell to show the HTML representation or trust the notebook. <br />On GitHub, the HTML representation is unable to render, please try loading this page with nbviewer.org.</b></div><div class=\"sk-container\" hidden><div class=\"sk-item\"><div class=\"sk-estimator sk-toggleable\"><input class=\"sk-toggleable__control sk-hidden--visually\" id=\"sk-estimator-id-1\" type=\"checkbox\" checked><label for=\"sk-estimator-id-1\" class=\"sk-toggleable__label sk-toggleable__label-arrow\">LinearRegression</label><div class=\"sk-toggleable__content\"><pre>LinearRegression()</pre></div></div></div></div></div>"
      ],
      "text/plain": [
       "LinearRegression()"
      ]
     },
     "execution_count": 112,
     "metadata": {},
     "output_type": "execute_result"
    }
   ],
   "source": [
    "reg.fit(data_train_x,data_train_y)"
   ]
  },
  {
   "cell_type": "code",
   "execution_count": 113,
   "id": "a1ef856b",
   "metadata": {},
   "outputs": [
    {
     "data": {
      "text/plain": [
       "4808821138078.198"
      ]
     },
     "execution_count": 113,
     "metadata": {},
     "output_type": "execute_result"
    }
   ],
   "source": [
    "reg.intercept_"
   ]
  },
  {
   "cell_type": "code",
   "execution_count": 114,
   "id": "58cb27d2",
   "metadata": {},
   "outputs": [
    {
     "data": {
      "text/plain": [
       "array([-4.80882112e+12, -4.80882112e+12, -4.80882112e+12, -4.80882112e+12,\n",
       "       -4.80882112e+12, -4.80882108e+12, -4.80882112e+12, -4.80882112e+12,\n",
       "       -4.80882112e+12, -4.80882113e+12, -4.80882112e+12, -4.80882112e+12,\n",
       "        2.90968598e+02,  1.68190658e+02,  4.77803652e+01,  1.50668751e+02,\n",
       "       -6.46910599e+02,  1.51779730e+02,  4.90179880e+01,  2.73519827e+02,\n",
       "       -6.43888871e+02,  1.69463445e+02,  9.76562500e-04,  2.94580256e+01,\n",
       "       -2.94457329e+01, -7.11303539e+02,  1.07137621e+03,  2.42895799e+03,\n",
       "        1.49107918e+03, -4.28014613e+03,  2.16702620e+03,  7.47080880e+03,\n",
       "        7.25980375e+03,  9.00042820e+03, -1.97966770e+03, -1.00301646e+04,\n",
       "       -6.31485325e+03, -6.46901992e+03, -1.10431289e+03, -1.11493370e+03,\n",
       "       -2.56010161e+02,  1.41128086e+03, -4.02287718e+01,  1.56177784e-01])"
      ]
     },
     "execution_count": 114,
     "metadata": {},
     "output_type": "execute_result"
    }
   ],
   "source": [
    "reg.coef_"
   ]
  },
  {
   "cell_type": "code",
   "execution_count": 115,
   "id": "c806a293",
   "metadata": {},
   "outputs": [],
   "source": [
    "data_train_predict = reg.predict(data_train_x)"
   ]
  },
  {
   "cell_type": "code",
   "execution_count": 117,
   "id": "e87eabf7",
   "metadata": {},
   "outputs": [],
   "source": [
    "residual = data_train_y - data_train_predict"
   ]
  },
  {
   "cell_type": "code",
   "execution_count": 118,
   "id": "399de3db",
   "metadata": {},
   "outputs": [
    {
     "data": {
      "text/plain": [
       "<Axes: xlabel='Price', ylabel='Density'>"
      ]
     },
     "execution_count": 118,
     "metadata": {},
     "output_type": "execute_result"
    },
    {
     "data": {
      "image/png": "[encoded data removed]",
      "text/plain": [
       "<Figure size 640x480 with 1 Axes>"
      ]
     },
     "metadata": {},
     "output_type": "display_data"
    }
   ],
   "source": [
    "sns.kdeplot(residual)"
   ]
  },
  {
   "cell_type": "code",
   "execution_count": 119,
   "id": "e5b23bb1",
   "metadata": {},
   "outputs": [],
   "source": [
    "def Error_Metrics(actual,predicted):\n",
    "    mse = mean_squared_error(actual,predicted)\n",
    "    rmse = np.sqrt(mean_squared_error(actual,predicted))\n",
    "    mae = mean_absolute_error(actual,predicted)\n",
    "    mape = mean_absolute_percentage_error(actual,predicted)\n",
    "    rscore = r2_score(actual,predicted)\n",
    "    print(\"mse:\",mse,\"\\nrmse:\",rmse,\"\\nmae:\",mae,\"\\nmape:\",mape,\"\\nR-Score:\",rscore)"
   ]
  },
  {
   "cell_type": "code",
   "execution_count": 120,
   "id": "befbd62b",
   "metadata": {},
   "outputs": [
    {
     "name": "stdout",
     "output_type": "stream",
     "text": [
      "Error Metrics Of Train Data\n",
      "mse: 6634402.852153334 \n",
      "rmse: 2575.7334590662394 \n",
      "mae: 1743.6243845178965 \n",
      "mape: 0.2116500228092523 \n",
      "R-Score: 0.6879784466251699\n"
     ]
    }
   ],
   "source": [
    "print(\"Error Metrics Of Train Data\")\n",
    "Error_Metrics(data_train_y,data_train_predict)"
   ]
  },
  {
   "cell_type": "markdown",
   "id": "1d6d740b",
   "metadata": {},
   "source": [
    "## Working on Test data "
   ]
  },
  {
   "cell_type": "code",
   "execution_count": 174,
   "id": "b452c359",
   "metadata": {},
   "outputs": [],
   "source": [
    "data_test = pd.read_csv('Flight_Test.csv')"
   ]
  },
  {
   "cell_type": "code",
   "execution_count": 175,
   "id": "73c72431",
   "metadata": {},
   "outputs": [
    {
     "data": {
      "text/plain": [
       "Airline            0\n",
       "Date_of_Journey    0\n",
       "Source             0\n",
       "Destination        0\n",
       "Route              0\n",
       "Dep_Time           0\n",
       "Arrival_Time       0\n",
       "Duration           0\n",
       "Total_Stops        0\n",
       "Additional_Info    0\n",
       "dtype: int64"
      ]
     },
     "execution_count": 175,
     "metadata": {},
     "output_type": "execute_result"
    }
   ],
   "source": [
    "data_test.isna().sum()"
   ]
  },
  {
   "cell_type": "code",
   "execution_count": 122,
   "id": "8000db92",
   "metadata": {},
   "outputs": [],
   "source": [
    "# super no null values :)"
   ]
  },
  {
   "cell_type": "code",
   "execution_count": 176,
   "id": "a95cd527",
   "metadata": {},
   "outputs": [],
   "source": [
    "data_test['Destination'].replace({'New Delhi':'Delhi'},inplace = True)"
   ]
  },
  {
   "cell_type": "code",
   "execution_count": 177,
   "id": "4266bcd8",
   "metadata": {},
   "outputs": [],
   "source": [
    "data_test['Date_of_Journey'] = pd.to_datetime(data_test['Date_of_Journey'],dayfirst = True)"
   ]
  },
  {
   "cell_type": "code",
   "execution_count": 178,
   "id": "9e8de5b6",
   "metadata": {},
   "outputs": [],
   "source": [
    "data_test['Month'] = data_test['Date_of_Journey'].dt.month"
   ]
  },
  {
   "cell_type": "code",
   "execution_count": 179,
   "id": "09f867ab",
   "metadata": {},
   "outputs": [],
   "source": [
    "data_test['Month'].replace({3:'March',4:'April',5:'May',6:'June'},inplace = True)"
   ]
  },
  {
   "cell_type": "code",
   "execution_count": 180,
   "id": "c8918175",
   "metadata": {},
   "outputs": [
    {
     "data": {
      "text/html": [
       "<div>\n",
       "<style scoped>\n",
       "    .dataframe tbody tr th:only-of-type {\n",
       "        vertical-align: middle;\n",
       "    }\n",
       "\n",
       "    .dataframe tbody tr th {\n",
       "        vertical-align: top;\n",
       "    }\n",
       "\n",
       "    .dataframe thead th {\n",
       "        text-align: right;\n",
       "    }\n",
       "</style>\n",
       "<table border=\"1\" class=\"dataframe\">\n",
       "  <thead>\n",
       "    <tr style=\"text-align: right;\">\n",
       "      <th></th>\n",
       "      <th>Airline</th>\n",
       "      <th>Date_of_Journey</th>\n",
       "      <th>Source</th>\n",
       "      <th>Destination</th>\n",
       "      <th>Route</th>\n",
       "      <th>Dep_Time</th>\n",
       "      <th>Arrival_Time</th>\n",
       "      <th>Duration</th>\n",
       "      <th>Total_Stops</th>\n",
       "      <th>Additional_Info</th>\n",
       "      <th>Month</th>\n",
       "    </tr>\n",
       "  </thead>\n",
       "  <tbody>\n",
       "    <tr>\n",
       "      <th>0</th>\n",
       "      <td>Jet Airways</td>\n",
       "      <td>2019-06-06</td>\n",
       "      <td>Delhi</td>\n",
       "      <td>Cochin</td>\n",
       "      <td>DEL ? BOM ? COK</td>\n",
       "      <td>17:30</td>\n",
       "      <td>04:25 07 Jun</td>\n",
       "      <td>10h 55m</td>\n",
       "      <td>1 stop</td>\n",
       "      <td>No info</td>\n",
       "      <td>June</td>\n",
       "    </tr>\n",
       "    <tr>\n",
       "      <th>1</th>\n",
       "      <td>IndiGo</td>\n",
       "      <td>2019-05-12</td>\n",
       "      <td>Kolkata</td>\n",
       "      <td>Banglore</td>\n",
       "      <td>CCU ? MAA ? BLR</td>\n",
       "      <td>06:20</td>\n",
       "      <td>10:20</td>\n",
       "      <td>4h</td>\n",
       "      <td>1 stop</td>\n",
       "      <td>No info</td>\n",
       "      <td>May</td>\n",
       "    </tr>\n",
       "  </tbody>\n",
       "</table>\n",
       "</div>"
      ],
      "text/plain": [
       "       Airline Date_of_Journey   Source Destination            Route Dep_Time  \\\n",
       "0  Jet Airways      2019-06-06    Delhi      Cochin  DEL ? BOM ? COK    17:30   \n",
       "1       IndiGo      2019-05-12  Kolkata    Banglore  CCU ? MAA ? BLR    06:20   \n",
       "\n",
       "   Arrival_Time Duration Total_Stops Additional_Info Month  \n",
       "0  04:25 07 Jun  10h 55m      1 stop         No info  June  \n",
       "1         10:20       4h      1 stop         No info   May  "
      ]
     },
     "execution_count": 180,
     "metadata": {},
     "output_type": "execute_result"
    }
   ],
   "source": [
    "data_test.head(2)"
   ]
  },
  {
   "cell_type": "code",
   "execution_count": 181,
   "id": "4535e9a6",
   "metadata": {},
   "outputs": [],
   "source": [
    "data_test['Arrival_Time'] = data_test['Arrival_Time'].apply(lambda x: x.split()[0])"
   ]
  },
  {
   "cell_type": "code",
   "execution_count": 182,
   "id": "44807a12",
   "metadata": {},
   "outputs": [],
   "source": [
    "data_test.loc[data_test['Dep_Time'] < '12:00','Dep_Time']='AM'"
   ]
  },
  {
   "cell_type": "code",
   "execution_count": 183,
   "id": "806d99a4",
   "metadata": {},
   "outputs": [],
   "source": [
    "data_test.loc[data_test['Dep_Time'] != 'AM','Dep_Time']='PM'"
   ]
  },
  {
   "cell_type": "code",
   "execution_count": 184,
   "id": "9e478ae6",
   "metadata": {},
   "outputs": [],
   "source": [
    "data_test.loc[data_test['Arrival_Time'] < '12:00','Arrival_Time']='AM'"
   ]
  },
  {
   "cell_type": "code",
   "execution_count": 185,
   "id": "7fc8fd89",
   "metadata": {},
   "outputs": [],
   "source": [
    "data_test.loc[data_test['Arrival_Time'] != 'AM','Arrival_Time']='PM'"
   ]
  },
  {
   "cell_type": "code",
   "execution_count": 186,
   "id": "1020da42",
   "metadata": {},
   "outputs": [
    {
     "data": {
      "text/html": [
       "<div>\n",
       "<style scoped>\n",
       "    .dataframe tbody tr th:only-of-type {\n",
       "        vertical-align: middle;\n",
       "    }\n",
       "\n",
       "    .dataframe tbody tr th {\n",
       "        vertical-align: top;\n",
       "    }\n",
       "\n",
       "    .dataframe thead th {\n",
       "        text-align: right;\n",
       "    }\n",
       "</style>\n",
       "<table border=\"1\" class=\"dataframe\">\n",
       "  <thead>\n",
       "    <tr style=\"text-align: right;\">\n",
       "      <th></th>\n",
       "      <th>Airline</th>\n",
       "      <th>Date_of_Journey</th>\n",
       "      <th>Source</th>\n",
       "      <th>Destination</th>\n",
       "      <th>Route</th>\n",
       "      <th>Dep_Time</th>\n",
       "      <th>Arrival_Time</th>\n",
       "      <th>Duration</th>\n",
       "      <th>Total_Stops</th>\n",
       "      <th>Additional_Info</th>\n",
       "      <th>Month</th>\n",
       "    </tr>\n",
       "  </thead>\n",
       "  <tbody>\n",
       "    <tr>\n",
       "      <th>0</th>\n",
       "      <td>Jet Airways</td>\n",
       "      <td>2019-06-06</td>\n",
       "      <td>Delhi</td>\n",
       "      <td>Cochin</td>\n",
       "      <td>DEL ? BOM ? COK</td>\n",
       "      <td>PM</td>\n",
       "      <td>AM</td>\n",
       "      <td>10h 55m</td>\n",
       "      <td>1 stop</td>\n",
       "      <td>No info</td>\n",
       "      <td>June</td>\n",
       "    </tr>\n",
       "    <tr>\n",
       "      <th>1</th>\n",
       "      <td>IndiGo</td>\n",
       "      <td>2019-05-12</td>\n",
       "      <td>Kolkata</td>\n",
       "      <td>Banglore</td>\n",
       "      <td>CCU ? MAA ? BLR</td>\n",
       "      <td>AM</td>\n",
       "      <td>AM</td>\n",
       "      <td>4h</td>\n",
       "      <td>1 stop</td>\n",
       "      <td>No info</td>\n",
       "      <td>May</td>\n",
       "    </tr>\n",
       "  </tbody>\n",
       "</table>\n",
       "</div>"
      ],
      "text/plain": [
       "       Airline Date_of_Journey   Source Destination            Route Dep_Time  \\\n",
       "0  Jet Airways      2019-06-06    Delhi      Cochin  DEL ? BOM ? COK       PM   \n",
       "1       IndiGo      2019-05-12  Kolkata    Banglore  CCU ? MAA ? BLR       AM   \n",
       "\n",
       "  Arrival_Time Duration Total_Stops Additional_Info Month  \n",
       "0           AM  10h 55m      1 stop         No info  June  \n",
       "1           AM       4h      1 stop         No info   May  "
      ]
     },
     "execution_count": 186,
     "metadata": {},
     "output_type": "execute_result"
    }
   ],
   "source": [
    "data_test.head(2)"
   ]
  },
  {
   "cell_type": "code",
   "execution_count": 187,
   "id": "123fc892",
   "metadata": {},
   "outputs": [],
   "source": [
    "del data_test['Date_of_Journey']"
   ]
  },
  {
   "cell_type": "code",
   "execution_count": 188,
   "id": "992ea167",
   "metadata": {},
   "outputs": [],
   "source": [
    "del data_test['Route']"
   ]
  },
  {
   "cell_type": "code",
   "execution_count": 189,
   "id": "552465c6",
   "metadata": {},
   "outputs": [],
   "source": [
    "data_test['Duration_Min'] = (pd.to_timedelta(data_test['Duration']).dt.seconds // 60).astype(int)"
   ]
  },
  {
   "cell_type": "code",
   "execution_count": 190,
   "id": "e17497ff",
   "metadata": {},
   "outputs": [],
   "source": [
    "data_test = data_test.drop(columns = 'Duration')"
   ]
  },
  {
   "cell_type": "code",
   "execution_count": 191,
   "id": "a787fe10",
   "metadata": {},
   "outputs": [
    {
     "data": {
      "text/html": [
       "<div>\n",
       "<style scoped>\n",
       "    .dataframe tbody tr th:only-of-type {\n",
       "        vertical-align: middle;\n",
       "    }\n",
       "\n",
       "    .dataframe tbody tr th {\n",
       "        vertical-align: top;\n",
       "    }\n",
       "\n",
       "    .dataframe thead th {\n",
       "        text-align: right;\n",
       "    }\n",
       "</style>\n",
       "<table border=\"1\" class=\"dataframe\">\n",
       "  <thead>\n",
       "    <tr style=\"text-align: right;\">\n",
       "      <th></th>\n",
       "      <th>Airline</th>\n",
       "      <th>Source</th>\n",
       "      <th>Destination</th>\n",
       "      <th>Dep_Time</th>\n",
       "      <th>Arrival_Time</th>\n",
       "      <th>Total_Stops</th>\n",
       "      <th>Additional_Info</th>\n",
       "      <th>Month</th>\n",
       "      <th>Duration_Min</th>\n",
       "    </tr>\n",
       "  </thead>\n",
       "  <tbody>\n",
       "    <tr>\n",
       "      <th>0</th>\n",
       "      <td>Jet Airways</td>\n",
       "      <td>Delhi</td>\n",
       "      <td>Cochin</td>\n",
       "      <td>PM</td>\n",
       "      <td>AM</td>\n",
       "      <td>1 stop</td>\n",
       "      <td>No info</td>\n",
       "      <td>June</td>\n",
       "      <td>655</td>\n",
       "    </tr>\n",
       "    <tr>\n",
       "      <th>1</th>\n",
       "      <td>IndiGo</td>\n",
       "      <td>Kolkata</td>\n",
       "      <td>Banglore</td>\n",
       "      <td>AM</td>\n",
       "      <td>AM</td>\n",
       "      <td>1 stop</td>\n",
       "      <td>No info</td>\n",
       "      <td>May</td>\n",
       "      <td>240</td>\n",
       "    </tr>\n",
       "  </tbody>\n",
       "</table>\n",
       "</div>"
      ],
      "text/plain": [
       "       Airline   Source Destination Dep_Time Arrival_Time Total_Stops  \\\n",
       "0  Jet Airways    Delhi      Cochin       PM           AM      1 stop   \n",
       "1       IndiGo  Kolkata    Banglore       AM           AM      1 stop   \n",
       "\n",
       "  Additional_Info Month  Duration_Min  \n",
       "0         No info  June           655  \n",
       "1         No info   May           240  "
      ]
     },
     "execution_count": 191,
     "metadata": {},
     "output_type": "execute_result"
    }
   ],
   "source": [
    "data_test.head(2)"
   ]
  },
  {
   "cell_type": "code",
   "execution_count": null,
   "id": "52bd52fb",
   "metadata": {},
   "outputs": [],
   "source": [
    "# Price column is not given in test data. Ideally, we need to predict the Price\n"
   ]
  },
  {
   "cell_type": "code",
   "execution_count": 192,
   "id": "ffbb462c",
   "metadata": {},
   "outputs": [],
   "source": [
    "data_test_cat = data_test.select_dtypes(exclude = np.number)"
   ]
  },
  {
   "cell_type": "code",
   "execution_count": 193,
   "id": "d9a9cf62",
   "metadata": {},
   "outputs": [
    {
     "data": {
      "text/html": [
       "<div>\n",
       "<style scoped>\n",
       "    .dataframe tbody tr th:only-of-type {\n",
       "        vertical-align: middle;\n",
       "    }\n",
       "\n",
       "    .dataframe tbody tr th {\n",
       "        vertical-align: top;\n",
       "    }\n",
       "\n",
       "    .dataframe thead th {\n",
       "        text-align: right;\n",
       "    }\n",
       "</style>\n",
       "<table border=\"1\" class=\"dataframe\">\n",
       "  <thead>\n",
       "    <tr style=\"text-align: right;\">\n",
       "      <th></th>\n",
       "      <th>Airline</th>\n",
       "      <th>Source</th>\n",
       "      <th>Destination</th>\n",
       "      <th>Dep_Time</th>\n",
       "      <th>Arrival_Time</th>\n",
       "      <th>Total_Stops</th>\n",
       "      <th>Additional_Info</th>\n",
       "      <th>Month</th>\n",
       "    </tr>\n",
       "  </thead>\n",
       "  <tbody>\n",
       "    <tr>\n",
       "      <th>0</th>\n",
       "      <td>Jet Airways</td>\n",
       "      <td>Delhi</td>\n",
       "      <td>Cochin</td>\n",
       "      <td>PM</td>\n",
       "      <td>AM</td>\n",
       "      <td>1 stop</td>\n",
       "      <td>No info</td>\n",
       "      <td>June</td>\n",
       "    </tr>\n",
       "    <tr>\n",
       "      <th>1</th>\n",
       "      <td>IndiGo</td>\n",
       "      <td>Kolkata</td>\n",
       "      <td>Banglore</td>\n",
       "      <td>AM</td>\n",
       "      <td>AM</td>\n",
       "      <td>1 stop</td>\n",
       "      <td>No info</td>\n",
       "      <td>May</td>\n",
       "    </tr>\n",
       "    <tr>\n",
       "      <th>2</th>\n",
       "      <td>Jet Airways</td>\n",
       "      <td>Delhi</td>\n",
       "      <td>Cochin</td>\n",
       "      <td>PM</td>\n",
       "      <td>PM</td>\n",
       "      <td>1 stop</td>\n",
       "      <td>In-flight meal not included</td>\n",
       "      <td>May</td>\n",
       "    </tr>\n",
       "    <tr>\n",
       "      <th>3</th>\n",
       "      <td>Multiple carriers</td>\n",
       "      <td>Delhi</td>\n",
       "      <td>Cochin</td>\n",
       "      <td>AM</td>\n",
       "      <td>PM</td>\n",
       "      <td>1 stop</td>\n",
       "      <td>No info</td>\n",
       "      <td>May</td>\n",
       "    </tr>\n",
       "    <tr>\n",
       "      <th>4</th>\n",
       "      <td>Air Asia</td>\n",
       "      <td>Banglore</td>\n",
       "      <td>Delhi</td>\n",
       "      <td>PM</td>\n",
       "      <td>AM</td>\n",
       "      <td>non-stop</td>\n",
       "      <td>No info</td>\n",
       "      <td>June</td>\n",
       "    </tr>\n",
       "    <tr>\n",
       "      <th>...</th>\n",
       "      <td>...</td>\n",
       "      <td>...</td>\n",
       "      <td>...</td>\n",
       "      <td>...</td>\n",
       "      <td>...</td>\n",
       "      <td>...</td>\n",
       "      <td>...</td>\n",
       "      <td>...</td>\n",
       "    </tr>\n",
       "    <tr>\n",
       "      <th>2666</th>\n",
       "      <td>Air India</td>\n",
       "      <td>Kolkata</td>\n",
       "      <td>Banglore</td>\n",
       "      <td>PM</td>\n",
       "      <td>PM</td>\n",
       "      <td>1 stop</td>\n",
       "      <td>No info</td>\n",
       "      <td>June</td>\n",
       "    </tr>\n",
       "    <tr>\n",
       "      <th>2667</th>\n",
       "      <td>IndiGo</td>\n",
       "      <td>Kolkata</td>\n",
       "      <td>Banglore</td>\n",
       "      <td>PM</td>\n",
       "      <td>PM</td>\n",
       "      <td>non-stop</td>\n",
       "      <td>No info</td>\n",
       "      <td>March</td>\n",
       "    </tr>\n",
       "    <tr>\n",
       "      <th>2668</th>\n",
       "      <td>Jet Airways</td>\n",
       "      <td>Delhi</td>\n",
       "      <td>Cochin</td>\n",
       "      <td>PM</td>\n",
       "      <td>AM</td>\n",
       "      <td>1 stop</td>\n",
       "      <td>No info</td>\n",
       "      <td>March</td>\n",
       "    </tr>\n",
       "    <tr>\n",
       "      <th>2669</th>\n",
       "      <td>Air India</td>\n",
       "      <td>Delhi</td>\n",
       "      <td>Cochin</td>\n",
       "      <td>AM</td>\n",
       "      <td>PM</td>\n",
       "      <td>1 stop</td>\n",
       "      <td>No info</td>\n",
       "      <td>March</td>\n",
       "    </tr>\n",
       "    <tr>\n",
       "      <th>2670</th>\n",
       "      <td>Multiple carriers</td>\n",
       "      <td>Delhi</td>\n",
       "      <td>Cochin</td>\n",
       "      <td>AM</td>\n",
       "      <td>PM</td>\n",
       "      <td>1 stop</td>\n",
       "      <td>No info</td>\n",
       "      <td>June</td>\n",
       "    </tr>\n",
       "  </tbody>\n",
       "</table>\n",
       "<p>2671 rows × 8 columns</p>\n",
       "</div>"
      ],
      "text/plain": [
       "                Airline    Source Destination Dep_Time Arrival_Time  \\\n",
       "0           Jet Airways     Delhi      Cochin       PM           AM   \n",
       "1                IndiGo   Kolkata    Banglore       AM           AM   \n",
       "2           Jet Airways     Delhi      Cochin       PM           PM   \n",
       "3     Multiple carriers     Delhi      Cochin       AM           PM   \n",
       "4              Air Asia  Banglore       Delhi       PM           AM   \n",
       "...                 ...       ...         ...      ...          ...   \n",
       "2666          Air India   Kolkata    Banglore       PM           PM   \n",
       "2667             IndiGo   Kolkata    Banglore       PM           PM   \n",
       "2668        Jet Airways     Delhi      Cochin       PM           AM   \n",
       "2669          Air India     Delhi      Cochin       AM           PM   \n",
       "2670  Multiple carriers     Delhi      Cochin       AM           PM   \n",
       "\n",
       "     Total_Stops              Additional_Info  Month  \n",
       "0         1 stop                      No info   June  \n",
       "1         1 stop                      No info    May  \n",
       "2         1 stop  In-flight meal not included    May  \n",
       "3         1 stop                      No info    May  \n",
       "4       non-stop                      No info   June  \n",
       "...          ...                          ...    ...  \n",
       "2666      1 stop                      No info   June  \n",
       "2667    non-stop                      No info  March  \n",
       "2668      1 stop                      No info  March  \n",
       "2669      1 stop                      No info  March  \n",
       "2670      1 stop                      No info   June  \n",
       "\n",
       "[2671 rows x 8 columns]"
      ]
     },
     "execution_count": 193,
     "metadata": {},
     "output_type": "execute_result"
    }
   ],
   "source": [
    "data_test_cat"
   ]
  },
  {
   "cell_type": "code",
   "execution_count": 194,
   "id": "ce6fa619",
   "metadata": {},
   "outputs": [],
   "source": [
    "data_test_cat = pd.get_dummies(data_test_cat)"
   ]
  },
  {
   "cell_type": "code",
   "execution_count": 195,
   "id": "67c05f76",
   "metadata": {},
   "outputs": [],
   "source": [
    "data_test_cat = data_test_cat.reindex(columns=data_cat.columns).fillna(0)"
   ]
  },
  {
   "cell_type": "code",
   "execution_count": 205,
   "id": "4533e7e3",
   "metadata": {},
   "outputs": [
    {
     "data": {
      "text/plain": [
       "(2671, 43)"
      ]
     },
     "execution_count": 205,
     "metadata": {},
     "output_type": "execute_result"
    }
   ],
   "source": [
    "data_test_cat.shape"
   ]
  },
  {
   "cell_type": "code",
   "execution_count": 197,
   "id": "12b64612",
   "metadata": {},
   "outputs": [
    {
     "data": {
      "text/plain": [
       "(10683, 43)"
      ]
     },
     "execution_count": 197,
     "metadata": {},
     "output_type": "execute_result"
    }
   ],
   "source": [
    "data_cat.shape"
   ]
  },
  {
   "cell_type": "code",
   "execution_count": null,
   "id": "ff7c10f6",
   "metadata": {},
   "outputs": [],
   "source": [
    "#Hurray! both the columns matched :D"
   ]
  },
  {
   "cell_type": "code",
   "execution_count": 206,
   "id": "48bcdc1a",
   "metadata": {},
   "outputs": [],
   "source": [
    "data_test['Duration_Min'] = data_test['Duration_Min'].astype('int')"
   ]
  },
  {
   "cell_type": "code",
   "execution_count": 207,
   "id": "288b28c4",
   "metadata": {},
   "outputs": [],
   "source": [
    "data_test_num = data_test.select_dtypes(include = np.number)"
   ]
  },
  {
   "cell_type": "code",
   "execution_count": 208,
   "id": "2aa3d40a",
   "metadata": {},
   "outputs": [],
   "source": [
    "data_test_cat = data_test_cat.reset_index().drop(columns = 'index')"
   ]
  },
  {
   "cell_type": "code",
   "execution_count": 210,
   "id": "dad82d0d",
   "metadata": {},
   "outputs": [],
   "source": [
    "data_test_num = data_test_num.reset_index().drop(columns = 'index')"
   ]
  },
  {
   "cell_type": "code",
   "execution_count": 213,
   "id": "4a092d66",
   "metadata": {},
   "outputs": [],
   "source": [
    "data_test = pd.concat([data_test_cat,data_test_num],axis = 1)"
   ]
  },
  {
   "cell_type": "code",
   "execution_count": 214,
   "id": "8ffc8692",
   "metadata": {},
   "outputs": [
    {
     "data": {
      "text/html": [
       "<div>\n",
       "<style scoped>\n",
       "    .dataframe tbody tr th:only-of-type {\n",
       "        vertical-align: middle;\n",
       "    }\n",
       "\n",
       "    .dataframe tbody tr th {\n",
       "        vertical-align: top;\n",
       "    }\n",
       "\n",
       "    .dataframe thead th {\n",
       "        text-align: right;\n",
       "    }\n",
       "</style>\n",
       "<table border=\"1\" class=\"dataframe\">\n",
       "  <thead>\n",
       "    <tr style=\"text-align: right;\">\n",
       "      <th></th>\n",
       "      <th>Airline_Air Asia</th>\n",
       "      <th>Airline_Air India</th>\n",
       "      <th>Airline_GoAir</th>\n",
       "      <th>Airline_IndiGo</th>\n",
       "      <th>Airline_Jet Airways</th>\n",
       "      <th>Airline_Jet Airways Business</th>\n",
       "      <th>Airline_Multiple carriers</th>\n",
       "      <th>Airline_Multiple carriers Premium economy</th>\n",
       "      <th>Airline_SpiceJet</th>\n",
       "      <th>Airline_Trujet</th>\n",
       "      <th>...</th>\n",
       "      <th>Additional_Info_Change airports</th>\n",
       "      <th>Additional_Info_In-flight meal not included</th>\n",
       "      <th>Additional_Info_No Info</th>\n",
       "      <th>Additional_Info_No check-in baggage included</th>\n",
       "      <th>Additional_Info_Red-eye flight</th>\n",
       "      <th>Month_April</th>\n",
       "      <th>Month_June</th>\n",
       "      <th>Month_March</th>\n",
       "      <th>Month_May</th>\n",
       "      <th>Duration_Min</th>\n",
       "    </tr>\n",
       "  </thead>\n",
       "  <tbody>\n",
       "    <tr>\n",
       "      <th>0</th>\n",
       "      <td>0</td>\n",
       "      <td>0</td>\n",
       "      <td>0</td>\n",
       "      <td>0</td>\n",
       "      <td>1</td>\n",
       "      <td>0</td>\n",
       "      <td>0</td>\n",
       "      <td>0</td>\n",
       "      <td>0</td>\n",
       "      <td>0.0</td>\n",
       "      <td>...</td>\n",
       "      <td>0</td>\n",
       "      <td>0</td>\n",
       "      <td>0.0</td>\n",
       "      <td>0</td>\n",
       "      <td>0.0</td>\n",
       "      <td>0</td>\n",
       "      <td>1</td>\n",
       "      <td>0</td>\n",
       "      <td>0</td>\n",
       "      <td>655</td>\n",
       "    </tr>\n",
       "    <tr>\n",
       "      <th>1</th>\n",
       "      <td>0</td>\n",
       "      <td>0</td>\n",
       "      <td>0</td>\n",
       "      <td>1</td>\n",
       "      <td>0</td>\n",
       "      <td>0</td>\n",
       "      <td>0</td>\n",
       "      <td>0</td>\n",
       "      <td>0</td>\n",
       "      <td>0.0</td>\n",
       "      <td>...</td>\n",
       "      <td>0</td>\n",
       "      <td>0</td>\n",
       "      <td>0.0</td>\n",
       "      <td>0</td>\n",
       "      <td>0.0</td>\n",
       "      <td>0</td>\n",
       "      <td>0</td>\n",
       "      <td>0</td>\n",
       "      <td>1</td>\n",
       "      <td>240</td>\n",
       "    </tr>\n",
       "  </tbody>\n",
       "</table>\n",
       "<p>2 rows × 44 columns</p>\n",
       "</div>"
      ],
      "text/plain": [
       "   Airline_Air Asia  Airline_Air India  Airline_GoAir  Airline_IndiGo  \\\n",
       "0                 0                  0              0               0   \n",
       "1                 0                  0              0               1   \n",
       "\n",
       "   Airline_Jet Airways  Airline_Jet Airways Business  \\\n",
       "0                    1                             0   \n",
       "1                    0                             0   \n",
       "\n",
       "   Airline_Multiple carriers  Airline_Multiple carriers Premium economy  \\\n",
       "0                          0                                          0   \n",
       "1                          0                                          0   \n",
       "\n",
       "   Airline_SpiceJet  Airline_Trujet  ...  Additional_Info_Change airports  \\\n",
       "0                 0             0.0  ...                                0   \n",
       "1                 0             0.0  ...                                0   \n",
       "\n",
       "   Additional_Info_In-flight meal not included  Additional_Info_No Info  \\\n",
       "0                                            0                      0.0   \n",
       "1                                            0                      0.0   \n",
       "\n",
       "   Additional_Info_No check-in baggage included  \\\n",
       "0                                             0   \n",
       "1                                             0   \n",
       "\n",
       "   Additional_Info_Red-eye flight  Month_April  Month_June  Month_March  \\\n",
       "0                             0.0            0           1            0   \n",
       "1                             0.0            0           0            0   \n",
       "\n",
       "   Month_May  Duration_Min  \n",
       "0          0           655  \n",
       "1          1           240  \n",
       "\n",
       "[2 rows x 44 columns]"
      ]
     },
     "execution_count": 214,
     "metadata": {},
     "output_type": "execute_result"
    }
   ],
   "source": [
    "data_test.head(2)"
   ]
  },
  {
   "cell_type": "code",
   "execution_count": 203,
   "id": "17a66c36",
   "metadata": {},
   "outputs": [
    {
     "data": {
      "text/plain": [
       "(10683, 44)"
      ]
     },
     "execution_count": 203,
     "metadata": {},
     "output_type": "execute_result"
    }
   ],
   "source": [
    "data_train_x.shape"
   ]
  },
  {
   "cell_type": "code",
   "execution_count": 215,
   "id": "ab86f653",
   "metadata": {},
   "outputs": [],
   "source": [
    "# now, i dont have my y or dependent value - so i cannot fit."
   ]
  },
  {
   "cell_type": "code",
   "execution_count": 216,
   "id": "6bb6fdef",
   "metadata": {},
   "outputs": [],
   "source": [
    "test_predict = reg.predict(data_test) "
   ]
  },
  {
   "cell_type": "code",
   "execution_count": null,
   "id": "8493e995",
   "metadata": {},
   "outputs": [],
   "source": [
    "# can't predict residual as we don't have test_y (Price)"
   ]
  },
  {
   "cell_type": "code",
   "execution_count": 218,
   "id": "240e81e1",
   "metadata": {},
   "outputs": [],
   "source": [
    "data_test_dum = pd.read_csv('Flight_Test.csv')"
   ]
  },
  {
   "cell_type": "code",
   "execution_count": 219,
   "id": "10b0a216",
   "metadata": {},
   "outputs": [],
   "source": [
    "test_predict = pd.DataFrame(test_predict)"
   ]
  },
  {
   "cell_type": "code",
   "execution_count": 220,
   "id": "141f0227",
   "metadata": {},
   "outputs": [],
   "source": [
    "test_predict['Price']= test_predict"
   ]
  },
  {
   "cell_type": "code",
   "execution_count": 221,
   "id": "203ab206",
   "metadata": {},
   "outputs": [],
   "source": [
    "test_predict = test_predict.drop(columns = [0])"
   ]
  },
  {
   "cell_type": "code",
   "execution_count": 222,
   "id": "4a88add2",
   "metadata": {},
   "outputs": [],
   "source": [
    "data_test_predict = pd.concat([data_test_dum,test_predict],axis = 1)"
   ]
  },
  {
   "cell_type": "code",
   "execution_count": 223,
   "id": "70fe412d",
   "metadata": {},
   "outputs": [
    {
     "data": {
      "text/html": [
       "<div>\n",
       "<style scoped>\n",
       "    .dataframe tbody tr th:only-of-type {\n",
       "        vertical-align: middle;\n",
       "    }\n",
       "\n",
       "    .dataframe tbody tr th {\n",
       "        vertical-align: top;\n",
       "    }\n",
       "\n",
       "    .dataframe thead th {\n",
       "        text-align: right;\n",
       "    }\n",
       "</style>\n",
       "<table border=\"1\" class=\"dataframe\">\n",
       "  <thead>\n",
       "    <tr style=\"text-align: right;\">\n",
       "      <th></th>\n",
       "      <th>Airline</th>\n",
       "      <th>Date_of_Journey</th>\n",
       "      <th>Source</th>\n",
       "      <th>Destination</th>\n",
       "      <th>Route</th>\n",
       "      <th>Dep_Time</th>\n",
       "      <th>Arrival_Time</th>\n",
       "      <th>Duration</th>\n",
       "      <th>Total_Stops</th>\n",
       "      <th>Additional_Info</th>\n",
       "      <th>Price</th>\n",
       "    </tr>\n",
       "  </thead>\n",
       "  <tbody>\n",
       "    <tr>\n",
       "      <th>0</th>\n",
       "      <td>Jet Airways</td>\n",
       "      <td>6/06/2019</td>\n",
       "      <td>Delhi</td>\n",
       "      <td>Cochin</td>\n",
       "      <td>DEL ? BOM ? COK</td>\n",
       "      <td>17:30</td>\n",
       "      <td>04:25 07 Jun</td>\n",
       "      <td>10h 55m</td>\n",
       "      <td>1 stop</td>\n",
       "      <td>No info</td>\n",
       "      <td>19556.427734</td>\n",
       "    </tr>\n",
       "    <tr>\n",
       "      <th>1</th>\n",
       "      <td>IndiGo</td>\n",
       "      <td>12/05/2019</td>\n",
       "      <td>Kolkata</td>\n",
       "      <td>Banglore</td>\n",
       "      <td>CCU ? MAA ? BLR</td>\n",
       "      <td>06:20</td>\n",
       "      <td>10:20</td>\n",
       "      <td>4h</td>\n",
       "      <td>1 stop</td>\n",
       "      <td>No info</td>\n",
       "      <td>14136.011719</td>\n",
       "    </tr>\n",
       "  </tbody>\n",
       "</table>\n",
       "</div>"
      ],
      "text/plain": [
       "       Airline Date_of_Journey   Source Destination            Route Dep_Time  \\\n",
       "0  Jet Airways       6/06/2019    Delhi      Cochin  DEL ? BOM ? COK    17:30   \n",
       "1       IndiGo      12/05/2019  Kolkata    Banglore  CCU ? MAA ? BLR    06:20   \n",
       "\n",
       "   Arrival_Time Duration Total_Stops Additional_Info         Price  \n",
       "0  04:25 07 Jun  10h 55m      1 stop         No info  19556.427734  \n",
       "1         10:20       4h      1 stop         No info  14136.011719  "
      ]
     },
     "execution_count": 223,
     "metadata": {},
     "output_type": "execute_result"
    }
   ],
   "source": [
    "data_test_predict.head(2)"
   ]
  },
  {
   "cell_type": "code",
   "execution_count": null,
   "id": "ac52b611",
   "metadata": {},
   "outputs": [],
   "source": [
    "### now comparing few test data with train data below to see the accuracy of the model prediction"
   ]
  },
  {
   "cell_type": "code",
   "execution_count": 224,
   "id": "218256ff",
   "metadata": {},
   "outputs": [],
   "source": [
    "data_ = pd.read_csv('Flight_Train.csv')"
   ]
  },
  {
   "cell_type": "code",
   "execution_count": 226,
   "id": "69a193b9",
   "metadata": {},
   "outputs": [],
   "source": [
    "q1 = \"select * from data_ where Airline = 'Jet Airways' and Source= 'Delhi' and Destination ='Cochin' and Total_Stops = '1 stop'and Duration = '10h 55m' and Route = 'DEL ? BOM ? COK'\""
   ]
  },
  {
   "cell_type": "code",
   "execution_count": 227,
   "id": "05702c9c",
   "metadata": {},
   "outputs": [
    {
     "data": {
      "text/html": [
       "<div>\n",
       "<style scoped>\n",
       "    .dataframe tbody tr th:only-of-type {\n",
       "        vertical-align: middle;\n",
       "    }\n",
       "\n",
       "    .dataframe tbody tr th {\n",
       "        vertical-align: top;\n",
       "    }\n",
       "\n",
       "    .dataframe thead th {\n",
       "        text-align: right;\n",
       "    }\n",
       "</style>\n",
       "<table border=\"1\" class=\"dataframe\">\n",
       "  <thead>\n",
       "    <tr style=\"text-align: right;\">\n",
       "      <th></th>\n",
       "      <th>Airline</th>\n",
       "      <th>Date_of_Journey</th>\n",
       "      <th>Source</th>\n",
       "      <th>Destination</th>\n",
       "      <th>Route</th>\n",
       "      <th>Dep_Time</th>\n",
       "      <th>Arrival_Time</th>\n",
       "      <th>Duration</th>\n",
       "      <th>Total_Stops</th>\n",
       "      <th>Additional_Info</th>\n",
       "      <th>Price</th>\n",
       "    </tr>\n",
       "  </thead>\n",
       "  <tbody>\n",
       "    <tr>\n",
       "      <th>0</th>\n",
       "      <td>Jet Airways</td>\n",
       "      <td>27/03/2019</td>\n",
       "      <td>Delhi</td>\n",
       "      <td>Cochin</td>\n",
       "      <td>DEL ? BOM ? COK</td>\n",
       "      <td>17:30</td>\n",
       "      <td>04:25 28 Mar</td>\n",
       "      <td>10h 55m</td>\n",
       "      <td>1 stop</td>\n",
       "      <td>In-flight meal not included</td>\n",
       "      <td>6540</td>\n",
       "    </tr>\n",
       "    <tr>\n",
       "      <th>1</th>\n",
       "      <td>Jet Airways</td>\n",
       "      <td>15/06/2019</td>\n",
       "      <td>Delhi</td>\n",
       "      <td>Cochin</td>\n",
       "      <td>DEL ? BOM ? COK</td>\n",
       "      <td>17:30</td>\n",
       "      <td>04:25 16 Jun</td>\n",
       "      <td>10h 55m</td>\n",
       "      <td>1 stop</td>\n",
       "      <td>In-flight meal not included</td>\n",
       "      <td>10262</td>\n",
       "    </tr>\n",
       "    <tr>\n",
       "      <th>2</th>\n",
       "      <td>Jet Airways</td>\n",
       "      <td>6/06/2019</td>\n",
       "      <td>Delhi</td>\n",
       "      <td>Cochin</td>\n",
       "      <td>DEL ? BOM ? COK</td>\n",
       "      <td>17:30</td>\n",
       "      <td>04:25 07 Jun</td>\n",
       "      <td>10h 55m</td>\n",
       "      <td>1 stop</td>\n",
       "      <td>In-flight meal not included</td>\n",
       "      <td>10262</td>\n",
       "    </tr>\n",
       "    <tr>\n",
       "      <th>3</th>\n",
       "      <td>Jet Airways</td>\n",
       "      <td>21/05/2019</td>\n",
       "      <td>Delhi</td>\n",
       "      <td>Cochin</td>\n",
       "      <td>DEL ? BOM ? COK</td>\n",
       "      <td>17:30</td>\n",
       "      <td>04:25 22 May</td>\n",
       "      <td>10h 55m</td>\n",
       "      <td>1 stop</td>\n",
       "      <td>In-flight meal not included</td>\n",
       "      <td>12898</td>\n",
       "    </tr>\n",
       "    <tr>\n",
       "      <th>4</th>\n",
       "      <td>Jet Airways</td>\n",
       "      <td>18/05/2019</td>\n",
       "      <td>Delhi</td>\n",
       "      <td>Cochin</td>\n",
       "      <td>DEL ? BOM ? COK</td>\n",
       "      <td>17:30</td>\n",
       "      <td>04:25 19 May</td>\n",
       "      <td>10h 55m</td>\n",
       "      <td>1 stop</td>\n",
       "      <td>In-flight meal not included</td>\n",
       "      <td>12373</td>\n",
       "    </tr>\n",
       "    <tr>\n",
       "      <th>5</th>\n",
       "      <td>Jet Airways</td>\n",
       "      <td>3/06/2019</td>\n",
       "      <td>Delhi</td>\n",
       "      <td>Cochin</td>\n",
       "      <td>DEL ? BOM ? COK</td>\n",
       "      <td>17:30</td>\n",
       "      <td>04:25 04 Jun</td>\n",
       "      <td>10h 55m</td>\n",
       "      <td>1 stop</td>\n",
       "      <td>No info</td>\n",
       "      <td>14714</td>\n",
       "    </tr>\n",
       "    <tr>\n",
       "      <th>6</th>\n",
       "      <td>Jet Airways</td>\n",
       "      <td>3/06/2019</td>\n",
       "      <td>Delhi</td>\n",
       "      <td>Cochin</td>\n",
       "      <td>DEL ? BOM ? COK</td>\n",
       "      <td>17:30</td>\n",
       "      <td>04:25 04 Jun</td>\n",
       "      <td>10h 55m</td>\n",
       "      <td>1 stop</td>\n",
       "      <td>In-flight meal not included</td>\n",
       "      <td>10262</td>\n",
       "    </tr>\n",
       "    <tr>\n",
       "      <th>7</th>\n",
       "      <td>Jet Airways</td>\n",
       "      <td>21/03/2019</td>\n",
       "      <td>Delhi</td>\n",
       "      <td>Cochin</td>\n",
       "      <td>DEL ? BOM ? COK</td>\n",
       "      <td>17:30</td>\n",
       "      <td>04:25 22 Mar</td>\n",
       "      <td>10h 55m</td>\n",
       "      <td>1 stop</td>\n",
       "      <td>No info</td>\n",
       "      <td>12557</td>\n",
       "    </tr>\n",
       "    <tr>\n",
       "      <th>8</th>\n",
       "      <td>Jet Airways</td>\n",
       "      <td>9/05/2019</td>\n",
       "      <td>Delhi</td>\n",
       "      <td>Cochin</td>\n",
       "      <td>DEL ? BOM ? COK</td>\n",
       "      <td>17:30</td>\n",
       "      <td>04:25 10 May</td>\n",
       "      <td>10h 55m</td>\n",
       "      <td>1 stop</td>\n",
       "      <td>In-flight meal not included</td>\n",
       "      <td>12373</td>\n",
       "    </tr>\n",
       "    <tr>\n",
       "      <th>9</th>\n",
       "      <td>Jet Airways</td>\n",
       "      <td>9/06/2019</td>\n",
       "      <td>Delhi</td>\n",
       "      <td>Cochin</td>\n",
       "      <td>DEL ? BOM ? COK</td>\n",
       "      <td>17:30</td>\n",
       "      <td>04:25 10 Jun</td>\n",
       "      <td>10h 55m</td>\n",
       "      <td>1 stop</td>\n",
       "      <td>In-flight meal not included</td>\n",
       "      <td>10262</td>\n",
       "    </tr>\n",
       "    <tr>\n",
       "      <th>10</th>\n",
       "      <td>Jet Airways</td>\n",
       "      <td>1/06/2019</td>\n",
       "      <td>Delhi</td>\n",
       "      <td>Cochin</td>\n",
       "      <td>DEL ? BOM ? COK</td>\n",
       "      <td>17:30</td>\n",
       "      <td>04:25 02 Jun</td>\n",
       "      <td>10h 55m</td>\n",
       "      <td>1 stop</td>\n",
       "      <td>No info</td>\n",
       "      <td>14714</td>\n",
       "    </tr>\n",
       "    <tr>\n",
       "      <th>11</th>\n",
       "      <td>Jet Airways</td>\n",
       "      <td>27/05/2019</td>\n",
       "      <td>Delhi</td>\n",
       "      <td>Cochin</td>\n",
       "      <td>DEL ? BOM ? COK</td>\n",
       "      <td>17:30</td>\n",
       "      <td>04:25 28 May</td>\n",
       "      <td>10h 55m</td>\n",
       "      <td>1 stop</td>\n",
       "      <td>In-flight meal not included</td>\n",
       "      <td>12898</td>\n",
       "    </tr>\n",
       "    <tr>\n",
       "      <th>12</th>\n",
       "      <td>Jet Airways</td>\n",
       "      <td>24/06/2019</td>\n",
       "      <td>Delhi</td>\n",
       "      <td>Cochin</td>\n",
       "      <td>DEL ? BOM ? COK</td>\n",
       "      <td>17:30</td>\n",
       "      <td>04:25 25 Jun</td>\n",
       "      <td>10h 55m</td>\n",
       "      <td>1 stop</td>\n",
       "      <td>In-flight meal not included</td>\n",
       "      <td>10262</td>\n",
       "    </tr>\n",
       "    <tr>\n",
       "      <th>13</th>\n",
       "      <td>Jet Airways</td>\n",
       "      <td>21/03/2019</td>\n",
       "      <td>Delhi</td>\n",
       "      <td>Cochin</td>\n",
       "      <td>DEL ? BOM ? COK</td>\n",
       "      <td>17:30</td>\n",
       "      <td>04:25 22 Mar</td>\n",
       "      <td>10h 55m</td>\n",
       "      <td>1 stop</td>\n",
       "      <td>In-flight meal not included</td>\n",
       "      <td>5963</td>\n",
       "    </tr>\n",
       "    <tr>\n",
       "      <th>14</th>\n",
       "      <td>Jet Airways</td>\n",
       "      <td>27/03/2019</td>\n",
       "      <td>Delhi</td>\n",
       "      <td>Cochin</td>\n",
       "      <td>DEL ? BOM ? COK</td>\n",
       "      <td>17:30</td>\n",
       "      <td>04:25 28 Mar</td>\n",
       "      <td>10h 55m</td>\n",
       "      <td>1 stop</td>\n",
       "      <td>No info</td>\n",
       "      <td>12242</td>\n",
       "    </tr>\n",
       "    <tr>\n",
       "      <th>15</th>\n",
       "      <td>Jet Airways</td>\n",
       "      <td>3/03/2019</td>\n",
       "      <td>Delhi</td>\n",
       "      <td>Cochin</td>\n",
       "      <td>DEL ? BOM ? COK</td>\n",
       "      <td>17:30</td>\n",
       "      <td>04:25 04 Mar</td>\n",
       "      <td>10h 55m</td>\n",
       "      <td>1 stop</td>\n",
       "      <td>No info</td>\n",
       "      <td>17024</td>\n",
       "    </tr>\n",
       "  </tbody>\n",
       "</table>\n",
       "</div>"
      ],
      "text/plain": [
       "        Airline Date_of_Journey Source Destination            Route Dep_Time  \\\n",
       "0   Jet Airways      27/03/2019  Delhi      Cochin  DEL ? BOM ? COK    17:30   \n",
       "1   Jet Airways      15/06/2019  Delhi      Cochin  DEL ? BOM ? COK    17:30   \n",
       "2   Jet Airways       6/06/2019  Delhi      Cochin  DEL ? BOM ? COK    17:30   \n",
       "3   Jet Airways      21/05/2019  Delhi      Cochin  DEL ? BOM ? COK    17:30   \n",
       "4   Jet Airways      18/05/2019  Delhi      Cochin  DEL ? BOM ? COK    17:30   \n",
       "5   Jet Airways       3/06/2019  Delhi      Cochin  DEL ? BOM ? COK    17:30   \n",
       "6   Jet Airways       3/06/2019  Delhi      Cochin  DEL ? BOM ? COK    17:30   \n",
       "7   Jet Airways      21/03/2019  Delhi      Cochin  DEL ? BOM ? COK    17:30   \n",
       "8   Jet Airways       9/05/2019  Delhi      Cochin  DEL ? BOM ? COK    17:30   \n",
       "9   Jet Airways       9/06/2019  Delhi      Cochin  DEL ? BOM ? COK    17:30   \n",
       "10  Jet Airways       1/06/2019  Delhi      Cochin  DEL ? BOM ? COK    17:30   \n",
       "11  Jet Airways      27/05/2019  Delhi      Cochin  DEL ? BOM ? COK    17:30   \n",
       "12  Jet Airways      24/06/2019  Delhi      Cochin  DEL ? BOM ? COK    17:30   \n",
       "13  Jet Airways      21/03/2019  Delhi      Cochin  DEL ? BOM ? COK    17:30   \n",
       "14  Jet Airways      27/03/2019  Delhi      Cochin  DEL ? BOM ? COK    17:30   \n",
       "15  Jet Airways       3/03/2019  Delhi      Cochin  DEL ? BOM ? COK    17:30   \n",
       "\n",
       "    Arrival_Time Duration Total_Stops              Additional_Info  Price  \n",
       "0   04:25 28 Mar  10h 55m      1 stop  In-flight meal not included   6540  \n",
       "1   04:25 16 Jun  10h 55m      1 stop  In-flight meal not included  10262  \n",
       "2   04:25 07 Jun  10h 55m      1 stop  In-flight meal not included  10262  \n",
       "3   04:25 22 May  10h 55m      1 stop  In-flight meal not included  12898  \n",
       "4   04:25 19 May  10h 55m      1 stop  In-flight meal not included  12373  \n",
       "5   04:25 04 Jun  10h 55m      1 stop                      No info  14714  \n",
       "6   04:25 04 Jun  10h 55m      1 stop  In-flight meal not included  10262  \n",
       "7   04:25 22 Mar  10h 55m      1 stop                      No info  12557  \n",
       "8   04:25 10 May  10h 55m      1 stop  In-flight meal not included  12373  \n",
       "9   04:25 10 Jun  10h 55m      1 stop  In-flight meal not included  10262  \n",
       "10  04:25 02 Jun  10h 55m      1 stop                      No info  14714  \n",
       "11  04:25 28 May  10h 55m      1 stop  In-flight meal not included  12898  \n",
       "12  04:25 25 Jun  10h 55m      1 stop  In-flight meal not included  10262  \n",
       "13  04:25 22 Mar  10h 55m      1 stop  In-flight meal not included   5963  \n",
       "14  04:25 28 Mar  10h 55m      1 stop                      No info  12242  \n",
       "15  04:25 04 Mar  10h 55m      1 stop                      No info  17024  "
      ]
     },
     "execution_count": 227,
     "metadata": {},
     "output_type": "execute_result"
    }
   ],
   "source": [
    "sql.sqldf(q1,locals())"
   ]
  },
  {
   "cell_type": "code",
   "execution_count": null,
   "id": "30b0b4d5",
   "metadata": {},
   "outputs": [],
   "source": [
    "# 16 rows with the given specification is found in Train Data , so trying to take a mean of it :)"
   ]
  },
  {
   "cell_type": "code",
   "execution_count": 228,
   "id": "5810758c",
   "metadata": {},
   "outputs": [],
   "source": [
    "q1 = \"select Price from data_ where Airline = 'Jet Airways' and Source= 'Delhi' and Destination ='Cochin' and Total_Stops = '1 stop'and Duration = '10h 55m' and Route = 'DEL ? BOM ? COK'\""
   ]
  },
  {
   "cell_type": "code",
   "execution_count": 229,
   "id": "db1e3ae6",
   "metadata": {},
   "outputs": [
    {
     "data": {
      "text/plain": [
       "Price    185606\n",
       "dtype: int64"
      ]
     },
     "execution_count": 229,
     "metadata": {},
     "output_type": "execute_result"
    }
   ],
   "source": [
    "sql.sqldf(q1,locals()).sum()"
   ]
  },
  {
   "cell_type": "code",
   "execution_count": 230,
   "id": "dfa54e20",
   "metadata": {},
   "outputs": [
    {
     "data": {
      "text/plain": [
       "11600.375"
      ]
     },
     "execution_count": 230,
     "metadata": {},
     "output_type": "execute_result"
    }
   ],
   "source": [
    "185606/16"
   ]
  },
  {
   "cell_type": "code",
   "execution_count": null,
   "id": "a70ed2a9",
   "metadata": {},
   "outputs": [],
   "source": [
    "''' Actual Average Price from all the 16 Train data with Airlin = Jet Airways from Delhi to cochin with 1 stop\n",
    "and Duration 10h 55m and Route = DEL ? BOM ? COK is ---> 11600.375''' "
   ]
  },
  {
   "cell_type": "code",
   "execution_count": null,
   "id": "95507d66",
   "metadata": {},
   "outputs": [],
   "source": [
    "# now am taking average price from Test with same condition :)\n"
   ]
  },
  {
   "cell_type": "code",
   "execution_count": 231,
   "id": "5b88d06b",
   "metadata": {},
   "outputs": [],
   "source": [
    "q1 = \"select Price from data_test_predict where Airline = 'Jet Airways' and Source= 'Delhi' and Destination ='Cochin' and Total_Stops = '1 stop'and Duration = '10h 55m' and Route = 'DEL ? BOM ? COK'\""
   ]
  },
  {
   "cell_type": "code",
   "execution_count": 232,
   "id": "c3dbcc3a",
   "metadata": {},
   "outputs": [
    {
     "data": {
      "text/plain": [
       "Price    50306.40918\n",
       "dtype: float64"
      ]
     },
     "execution_count": 232,
     "metadata": {},
     "output_type": "execute_result"
    }
   ],
   "source": [
    "sql.sqldf(q1,locals()).sum()"
   ]
  },
  {
   "cell_type": "code",
   "execution_count": 235,
   "id": "ad326f78",
   "metadata": {},
   "outputs": [
    {
     "data": {
      "text/plain": [
       "16768.803060000002"
      ]
     },
     "execution_count": 235,
     "metadata": {},
     "output_type": "execute_result"
    }
   ],
   "source": [
    "50306.40918/3"
   ]
  },
  {
   "cell_type": "code",
   "execution_count": null,
   "id": "72c53939",
   "metadata": {},
   "outputs": [],
   "source": [
    "''' Actual Average Price from all the 16 Train data with Airline = Jet Airways from Delhi to cochin with 1 stop\n",
    "and Duration 10h 55m and Route = DEL ? BOM ? COK is ---> 11600.375''' "
   ]
  },
  {
   "cell_type": "code",
   "execution_count": null,
   "id": "f255e7cc",
   "metadata": {},
   "outputs": [],
   "source": [
    "''' Predicted Average Price from all the 3 Test data with Airline = Jet Airways from Delhi to cochin with 1 stop\n",
    "and Duration 10h 55m and Route = DEL ? BOM ? COK is ---> 16768.803060000002\n",
    "'''"
   ]
  },
  {
   "cell_type": "code",
   "execution_count": null,
   "id": "c0eb0915",
   "metadata": {},
   "outputs": [],
   "source": [
    "# Model completed"
   ]
  },
  {
   "cell_type": "code",
   "execution_count": null,
   "id": "944c45d6",
   "metadata": {},
   "outputs": [],
   "source": [
    "# Doubt :"
   ]
  },
  {
   "cell_type": "code",
   "execution_count": null,
   "id": "90165641",
   "metadata": {},
   "outputs": [],
   "source": [
    "'''\n",
    "Predicted Average Price from all the 3 Test data with Airline = Jet Airways from Delhi to cochin with 1 stop\n",
    "and Duration 10h 55m and Route = DEL ? BOM ? COK is ---> 10417.5\n",
    "(without Airlines,Additional Info,Dep_Time, Arrival_Time columns)\n",
    "''' "
   ]
  }
 ],
 "metadata": {
  "kernelspec": {
   "display_name": "Python 3 (ipykernel)",
   "language": "python",
   "name": "python3"
  },
  "language_info": {
   "codemirror_mode": {
    "name": "ipython",
    "version": 3
   },
   "file_extension": ".py",
   "mimetype": "text/x-python",
   "name": "python",
   "nbconvert_exporter": "python",
   "pygments_lexer": "ipython3",
   "version": "3.11.3"
  }
 },
 "nbformat": 4,
 "nbformat_minor": 5
}
